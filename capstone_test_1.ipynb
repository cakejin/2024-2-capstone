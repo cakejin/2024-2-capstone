{
  "cells": [
    {
      "cell_type": "markdown",
      "metadata": {},
      "source": [
        "# Setting"
      ]
    },
    {
      "cell_type": "code",
      "execution_count": 20,
      "metadata": {
        "colab": {
          "base_uri": "https://localhost:8080/"
        },
        "id": "vIrerKvjylGe",
        "outputId": "57eeb4a6-df7d-4644-8c56-870b403dafcb"
      },
      "outputs": [
        {
          "name": "stderr",
          "output_type": "stream",
          "text": [
            "'apt-get'��(��) ���� �Ǵ� �ܺ� ����, ������ �� �ִ� ���α׷�, �Ǵ�\n",
            "��ġ ������ �ƴմϴ�.\n",
            "'apt-get'��(��) ���� �Ǵ� �ܺ� ����, ������ �� �ִ� ���α׷�, �Ǵ�\n",
            "��ġ ������ �ƴմϴ�.\n"
          ]
        }
      ],
      "source": [
        "!apt-get update -qq\n",
        "!apt-get install -qq fonts-nanum\n",
        "\n",
        "# matplotlib에 한글 폰트 설정\n",
        "import matplotlib.pyplot as plt\n",
        "import matplotlib.font_manager as fm\n",
        "\n",
        "# 폰트 설정\n",
        "font_path = 'C:/Windows/Fonts/NanumGothic.ttf'\n",
        "fm.fontManager.addfont(font_path)  # 나눔고딕 폰트를 추가\n",
        "plt.rc('font', family='NanumGothic')  # 폰트 적용\n"
      ]
    },
    {
      "cell_type": "code",
      "execution_count": 21,
      "metadata": {},
      "outputs": [],
      "source": [
        "# !pip install yfinance\n",
        "# !pip install statsmodels\n"
      ]
    },
    {
      "cell_type": "markdown",
      "metadata": {},
      "source": [
        "# import"
      ]
    },
    {
      "cell_type": "code",
      "execution_count": 22,
      "metadata": {},
      "outputs": [],
      "source": [
        "import os\n",
        "import yfinance as yf\n",
        "import pandas as pd\n",
        "\n",
        "import numpy as np\n",
        "import statsmodels.api as sm\n",
        "\n",
        "from statsmodels.tsa.stattools import adfuller\n",
        "\n",
        "import itertools\n",
        "\n",
        "import time"
      ]
    },
    {
      "cell_type": "markdown",
      "metadata": {},
      "source": [
        "# Read S&P 500"
      ]
    },
    {
      "cell_type": "markdown",
      "metadata": {},
      "source": [
        "## s&p500크롤링"
      ]
    },
    {
      "cell_type": "code",
      "execution_count": 23,
      "metadata": {
        "colab": {
          "base_uri": "https://localhost:8080/"
        },
        "id": "lFb4qMUR1aN4",
        "outputId": "456dbf89-9970-4c36-ec43-399e23d200a9"
      },
      "outputs": [
        {
          "name": "stdout",
          "output_type": "stream",
          "text": [
            "CSV파일에서 s&p500 데이터를 로드합니다.\n",
            "                                              Symbol  \\\n",
            "GICS Sub-Industry                                      \n",
            "Advertising                               255    IPG   \n",
            "                                          355    OMC   \n",
            "Aerospace & Defense                       54    AXON   \n",
            "                                          67      BA   \n",
            "                                          209     GE   \n",
            "...                                              ...   \n",
            "Transaction & Payment Processing Services 306     MA   \n",
            "                                          368   PYPL   \n",
            "                                          476      V   \n",
            "Water Utilities                           30     AWK   \n",
            "Wireless Telecommunication Services       434   TMUS   \n",
            "\n",
            "                                                                           Security  \\\n",
            "GICS Sub-Industry                                                                     \n",
            "Advertising                               255  Interpublic Group of Companies (The)   \n",
            "                                          355                         Omnicom Group   \n",
            "Aerospace & Defense                       54                        Axon Enterprise   \n",
            "                                          67                                 Boeing   \n",
            "                                          209                          GE Aerospace   \n",
            "...                                                                             ...   \n",
            "Transaction & Payment Processing Services 306                            Mastercard   \n",
            "                                          368                                PayPal   \n",
            "                                          476                             Visa Inc.   \n",
            "Water Utilities                           30                   American Water Works   \n",
            "Wireless Telecommunication Services       434                           T-Mobile US   \n",
            "\n",
            "                                                 Market Cap  \n",
            "GICS Sub-Industry                                            \n",
            "Advertising                               255  1.165083e+10  \n",
            "                                          355  2.010880e+10  \n",
            "Aerospace & Defense                       54   3.265868e+10  \n",
            "                                          67   9.204522e+10  \n",
            "                                          209  2.052382e+11  \n",
            "...                                                     ...  \n",
            "Transaction & Payment Processing Services 306  4.618713e+11  \n",
            "                                          368  8.347324e+10  \n",
            "                                          476  5.388725e+11  \n",
            "Water Utilities                           30   2.653644e+10  \n",
            "Wireless Telecommunication Services       434  2.474624e+11  \n",
            "\n",
            "[503 rows x 3 columns]\n"
          ]
        },
        {
          "name": "stderr",
          "output_type": "stream",
          "text": [
            "C:\\Users\\eujin\\AppData\\Local\\Temp\\ipykernel_15352\\2684802661.py:35: DeprecationWarning: DataFrameGroupBy.apply operated on the grouping columns. This behavior is deprecated, and in a future version of pandas the grouping columns will be excluded from the operation. Either pass `include_groups=False` to exclude the groupings or explicitly select the grouping columns after groupby to silence this warning.\n",
            "  top_by_sector = sp500.groupby('GICS Sector').apply(lambda x: x.nlargest(4, 'Market Cap'))\n",
            "C:\\Users\\eujin\\AppData\\Local\\Temp\\ipykernel_15352\\2684802661.py:38: DeprecationWarning: DataFrameGroupBy.apply operated on the grouping columns. This behavior is deprecated, and in a future version of pandas the grouping columns will be excluded from the operation. Either pass `include_groups=False` to exclude the groupings or explicitly select the grouping columns after groupby to silence this warning.\n",
            "  all_per_industry = sp500.groupby('GICS Sub-Industry').apply(lambda x: x)\n"
          ]
        }
      ],
      "source": [
        "\n",
        "csv_file_path = \"./snp500.csv\"\n",
        "\n",
        "#각 종목의 시가총액 가져오는 함수\n",
        "def get_market_cap(ticker):\n",
        "    stock = yf.Ticker(ticker)\n",
        "    try:\n",
        "        market_cap = stock.info['marketCap']  # 시가총액\n",
        "    except KeyError:\n",
        "        market_cap = None\n",
        "    return market_cap\n",
        "\n",
        "# S&P 500 종목 리스트 가져오기 (위키피디아 데이터 활용)\n",
        "# pd.read_html() 함수는 웹페이지에 있는 HTML 테이블을 DataFrame으로 변환\n",
        "def load_sp500_data():\n",
        "    if os.path.exists(csv_file_path):\n",
        "        print(\"CSV파일에서 s&p500 데이터를 로드합니다.\")\n",
        "        sp500 = pd.read_csv(csv_file_path)\n",
        "    else:\n",
        "         print(\"웹에서 S&P 500 데이터를 가져옵니다.\")\n",
        "         sp500 = pd.read_html('https://en.wikipedia.org/wiki/List_of_S%26P_500_companies')[0]\n",
        "         sp500['Market Cap'] = sp500['Symbol'].apply(get_market_cap) #시가총액 주가\n",
        "         sp500.to_csv(csv_file_path, index=False) #데이터를 csv로 저장\n",
        "\n",
        "    return sp500\n",
        "\n",
        "# S&P 500 데이터 로드\n",
        "sp500 = load_sp500_data()\n",
        "\n",
        "\n",
        "# 시가총액 정보를 추가하기 위해 티커(symbol) 리스트를 추출합니다.\n",
        "tickers = sp500['Symbol'].tolist()\n",
        "\n",
        "\n",
        "# 섹터별로 시가총액 상위 4개 종목 선택\n",
        "top_by_sector = sp500.groupby('GICS Sector').apply(lambda x: x.nlargest(4, 'Market Cap'))\n",
        "\n",
        "# 산업군 별로 전체 종목 선택\n",
        "all_per_industry = sp500.groupby('GICS Sub-Industry').apply(lambda x: x)\n",
        "\n",
        "\n",
        "# 섹터별로 시가총액 상위 종목들 출력\n",
        "#print(top_by_sector[['Symbol', 'Security', 'Market Cap']])\n",
        "\n",
        "# 산업군 별 시가총액 상위 종목 출력\n",
        "print(all_per_industry[['Symbol', 'Security', 'Market Cap']])\n",
        "\n",
        "# 파일로 저장\n",
        "sp500.to_csv(\"./snp500.csv\", index=False)  # 이미 데이터가 있으면 덮어쓰지 않음\n"
      ]
    },
    {
      "cell_type": "markdown",
      "metadata": {},
      "source": [
        "## 섹터, 산업군 별 데이터"
      ]
    },
    {
      "cell_type": "code",
      "execution_count": 24,
      "metadata": {
        "colab": {
          "base_uri": "https://localhost:8080/",
          "height": 1000
        },
        "id": "bMVuNyej3z_J",
        "outputId": "20bbb908-614b-406f-c98e-46210bc3d030"
      },
      "outputs": [
        {
          "name": "stderr",
          "output_type": "stream",
          "text": [
            "[*********************100%***********************]  4 of 4 completed\n",
            "[*********************100%***********************]  2 of 2 completed"
          ]
        },
        {
          "name": "stdout",
          "output_type": "stream",
          "text": [
            "섹터 상관관계 매트릭스:\n",
            "Ticker      AAPL      AVGO      MSFT      NVDA\n",
            "Ticker                                        \n",
            "AAPL    1.000000  0.818889  0.733524  0.695443\n",
            "AVGO    0.818889  1.000000  0.658584  0.694123\n",
            "MSFT    0.733524  0.658584  1.000000  0.947690\n",
            "NVDA    0.695443  0.694123  0.947690  1.000000\n",
            "산업군 상관관계 매트릭스:\n",
            "Ticker       IPG       OMC\n",
            "Ticker                    \n",
            "IPG     1.000000  0.577019\n",
            "OMC     0.577019  1.000000\n"
          ]
        },
        {
          "name": "stderr",
          "output_type": "stream",
          "text": [
            "\n"
          ]
        }
      ],
      "source": [
        "\n",
        "# 각 섹터의 종목 데이터를 가져오기 위한 함수\n",
        "def get_data(tickers, start_date=\"2021-01-01\", end_date=\"2023-01-01\"):\n",
        "    # 데이터 수집 (Adjusted Close 가격을 가져옴)\n",
        "    data = yf.download(tickers, start=start_date, end=end_date)['Adj Close']\n",
        "    return data\n",
        "\n",
        "\n",
        "#기본 분석 기간 설정\n",
        "default_start_date = \"2020-01-01\"\n",
        "default_end_date = \"2023-01-01\"\n",
        "\n",
        "#섹터 데이터 예시\n",
        "it_sector_tickers = top_by_sector.loc['Information Technology']['Symbol'].tolist()\n",
        "\n",
        "it_sector_data = get_data(it_sector_tickers)\n",
        "\n",
        "\n",
        "#산업군 데이터 예시\n",
        "it_industry_tickers = all_per_industry.loc['Advertising']['Symbol'].tolist()\n",
        "\n",
        "it_industry_data = get_data(it_industry_tickers)\n",
        "\n",
        "\n",
        "# 종목 간 상관관계 계산\n",
        "#섹터\n",
        "sector_correlation_matrix = it_sector_data.corr()\n",
        "print(\"섹터 상관관계 매트릭스:\")\n",
        "print(sector_correlation_matrix)\n",
        "\n",
        "\n",
        "#산업군\n",
        "industry_correlation_matrix = it_industry_data.corr()\n",
        "print(\"산업군 상관관계 매트릭스:\")\n",
        "print(industry_correlation_matrix)\n"
      ]
    },
    {
      "cell_type": "markdown",
      "metadata": {},
      "source": [
        "## 볼린저 밴드 그래프 함수, 안정적 페어 고르기 함수"
      ]
    },
    {
      "cell_type": "code",
      "execution_count": 29,
      "metadata": {
        "colab": {
          "base_uri": "https://localhost:8080/",
          "height": 1000
        },
        "id": "AhaTAi-BZIUI",
        "outputId": "87806933-9b2b-4054-837e-cf327802551c"
      },
      "outputs": [
        {
          "name": "stderr",
          "output_type": "stream",
          "text": [
            "[*********************100%***********************]  2 of 2 completed\n",
            "[*********************100%***********************]  12 of 12 completed\n",
            "[*********************100%***********************]  2 of 2 completed\n",
            "[*********************100%***********************]  4 of 4 completed\n",
            "[*********************100%***********************]  2 of 2 completed\n",
            "[*********************100%***********************]  4 of 4 completed\n",
            "[*********************100%***********************]  11 of 11 completed\n",
            "[*********************100%***********************]  10 of 10 completed\n",
            "[*********************100%***********************]  3 of 3 completed\n",
            "[*********************100%***********************]  2 of 2 completed\n",
            "[*********************100%***********************]  3 of 3 completed\n",
            "[*********************100%***********************]  8 of 8 completed\n",
            "[*********************100%***********************]  3 of 3 completed\n",
            "[*********************100%***********************]  2 of 2 completed\n",
            "[*********************100%***********************]  7 of 7 completed\n",
            "[*********************100%***********************]  2 of 2 completed\n",
            "[*********************100%***********************]  2 of 2 completed\n",
            "[*********************100%***********************]  4 of 4 completed\n",
            "[*********************100%***********************]  5 of 5 completed\n",
            "[*********************100%***********************]  2 of 2 completed\n",
            "[*********************100%***********************]  4 of 4 completed\n",
            "[*********************100%***********************]  2 of 2 completed\n",
            "[*********************100%***********************]  4 of 4 completed\n",
            "[*********************100%***********************]  5 of 5 completed\n",
            "[*********************100%***********************]  2 of 2 completed\n",
            "[*********************100%***********************]  1 of 2 completed\n",
            "\n",
            "1 Failed download:\n",
            "['BF.B']: YFPricesMissingError('$%ticker%: possibly delisted; no price data found  (1d 2021-01-01 -> 2023-01-01)')\n",
            "[*********************100%***********************]  1 of 2 completed"
          ]
        },
        {
          "ename": "MissingDataError",
          "evalue": "exog contains inf or nans",
          "output_type": "error",
          "traceback": [
            "\u001b[1;31m---------------------------------------------------------------------------\u001b[0m",
            "\u001b[1;31mMissingDataError\u001b[0m                          Traceback (most recent call last)",
            "Cell \u001b[1;32mIn[29], line 98\u001b[0m\n\u001b[0;32m     87\u001b[0m                 stable_pairs\u001b[38;5;241m.\u001b[39mappend({\n\u001b[0;32m     88\u001b[0m                     \u001b[38;5;124m\"\u001b[39m\u001b[38;5;124mSector\u001b[39m\u001b[38;5;124m\"\u001b[39m: group[\u001b[38;5;124m\"\u001b[39m\u001b[38;5;124mGICS Sector\u001b[39m\u001b[38;5;124m\"\u001b[39m]\u001b[38;5;241m.\u001b[39miloc[\u001b[38;5;241m0\u001b[39m],\n\u001b[0;32m     89\u001b[0m                     \u001b[38;5;124m\"\u001b[39m\u001b[38;5;124mIndustry Group\u001b[39m\u001b[38;5;124m\"\u001b[39m: industry,\n\u001b[1;32m   (...)\u001b[0m\n\u001b[0;32m     93\u001b[0m                     \u001b[38;5;124m\"\u001b[39m\u001b[38;5;124mResidual Std\u001b[39m\u001b[38;5;124m\"\u001b[39m: lowest_std\n\u001b[0;32m     94\u001b[0m                 })\n\u001b[0;32m     95\u001b[0m     \u001b[38;5;28;01mreturn\u001b[39;00m pd\u001b[38;5;241m.\u001b[39mDataFrame(stable_pairs)\n\u001b[1;32m---> 98\u001b[0m stable_pairs_df \u001b[38;5;241m=\u001b[39m \u001b[43mselect_stable_pair\u001b[49m\u001b[43m(\u001b[49m\u001b[43msp500\u001b[49m\u001b[43m,\u001b[49m\u001b[43m \u001b[49m\u001b[43mstart_date\u001b[49m\u001b[38;5;241;43m=\u001b[39;49m\u001b[38;5;124;43m\"\u001b[39;49m\u001b[38;5;124;43m2021-01-01\u001b[39;49m\u001b[38;5;124;43m\"\u001b[39;49m\u001b[43m,\u001b[49m\u001b[43m \u001b[49m\u001b[43mend_date\u001b[49m\u001b[38;5;241;43m=\u001b[39;49m\u001b[38;5;124;43m\"\u001b[39;49m\u001b[38;5;124;43m2023-01-01\u001b[39;49m\u001b[38;5;124;43m\"\u001b[39;49m\u001b[43m)\u001b[49m\n\u001b[0;32m     99\u001b[0m \u001b[38;5;28mprint\u001b[39m(stable_pairs_df)\n",
            "Cell \u001b[1;32mIn[29], line 72\u001b[0m, in \u001b[0;36mselect_stable_pair\u001b[1;34m(sp500, start_date, end_date, adf_threshold)\u001b[0m\n\u001b[0;32m     69\u001b[0m \u001b[38;5;28;01mfor\u001b[39;00m pair \u001b[38;5;129;01min\u001b[39;00m pairs:\n\u001b[0;32m     70\u001b[0m     \u001b[38;5;66;03m# TODO: 티커 2개를 받아서 p-value를 반환하는 함수로 분리하기\u001b[39;00m\n\u001b[0;32m     71\u001b[0m     x_ticker, y_ticker \u001b[38;5;241m=\u001b[39m pair\n\u001b[1;32m---> 72\u001b[0m     p_value, residuals \u001b[38;5;241m=\u001b[39m \u001b[43mcalculate_p_value\u001b[49m\u001b[43m(\u001b[49m\u001b[43mdata\u001b[49m\u001b[43m,\u001b[49m\u001b[43m \u001b[49m\u001b[43mx_ticker\u001b[49m\u001b[43m,\u001b[49m\u001b[43m \u001b[49m\u001b[43my_ticker\u001b[49m\u001b[43m)\u001b[49m\n\u001b[0;32m     74\u001b[0m     \u001b[38;5;66;03m# 잔차가 평균 회귀적 성향을 보이는지 ADF 테스트로 확인\u001b[39;00m\n\u001b[0;32m     75\u001b[0m     \u001b[38;5;28;01mif\u001b[39;00m p_value \u001b[38;5;129;01mis\u001b[39;00m \u001b[38;5;129;01mnot\u001b[39;00m \u001b[38;5;28;01mNone\u001b[39;00m:\n\u001b[0;32m     76\u001b[0m         \u001b[38;5;66;03m# 잔차의 표준편차 계산\u001b[39;00m\n",
            "Cell \u001b[1;32mIn[29], line 12\u001b[0m, in \u001b[0;36mcalculate_p_value\u001b[1;34m(data, ticker1, ticker2)\u001b[0m\n\u001b[0;32m      9\u001b[0m y \u001b[38;5;241m=\u001b[39m data[ticker2]\n\u001b[0;32m     10\u001b[0m x \u001b[38;5;241m=\u001b[39m sm\u001b[38;5;241m.\u001b[39madd_constant(x)  \u001b[38;5;66;03m# 상수항 추가\u001b[39;00m\n\u001b[1;32m---> 12\u001b[0m ols_model \u001b[38;5;241m=\u001b[39m \u001b[43msm\u001b[49m\u001b[38;5;241;43m.\u001b[39;49m\u001b[43mOLS\u001b[49m\u001b[43m(\u001b[49m\u001b[43my\u001b[49m\u001b[43m,\u001b[49m\u001b[43m \u001b[49m\u001b[43mx\u001b[49m\u001b[43m)\u001b[49m\u001b[38;5;241m.\u001b[39mfit()\n\u001b[0;32m     13\u001b[0m residuals \u001b[38;5;241m=\u001b[39m ols_model\u001b[38;5;241m.\u001b[39mresid  \u001b[38;5;66;03m# 잔차 계산\u001b[39;00m\n\u001b[0;32m     14\u001b[0m \u001b[38;5;66;03m# NaN이나 inf 값을 제거\u001b[39;00m\n",
            "File \u001b[1;32m~\\AppData\\Local\\Packages\\PythonSoftwareFoundation.Python.3.12_qbz5n2kfra8p0\\LocalCache\\local-packages\\Python312\\site-packages\\statsmodels\\regression\\linear_model.py:921\u001b[0m, in \u001b[0;36mOLS.__init__\u001b[1;34m(self, endog, exog, missing, hasconst, **kwargs)\u001b[0m\n\u001b[0;32m    918\u001b[0m     msg \u001b[38;5;241m=\u001b[39m (\u001b[38;5;124m\"\u001b[39m\u001b[38;5;124mWeights are not supported in OLS and will be ignored\u001b[39m\u001b[38;5;124m\"\u001b[39m\n\u001b[0;32m    919\u001b[0m            \u001b[38;5;124m\"\u001b[39m\u001b[38;5;124mAn exception will be raised in the next version.\u001b[39m\u001b[38;5;124m\"\u001b[39m)\n\u001b[0;32m    920\u001b[0m     warnings\u001b[38;5;241m.\u001b[39mwarn(msg, ValueWarning)\n\u001b[1;32m--> 921\u001b[0m \u001b[38;5;28;43msuper\u001b[39;49m\u001b[43m(\u001b[49m\u001b[43m)\u001b[49m\u001b[38;5;241;43m.\u001b[39;49m\u001b[38;5;21;43m__init__\u001b[39;49m\u001b[43m(\u001b[49m\u001b[43mendog\u001b[49m\u001b[43m,\u001b[49m\u001b[43m \u001b[49m\u001b[43mexog\u001b[49m\u001b[43m,\u001b[49m\u001b[43m \u001b[49m\u001b[43mmissing\u001b[49m\u001b[38;5;241;43m=\u001b[39;49m\u001b[43mmissing\u001b[49m\u001b[43m,\u001b[49m\n\u001b[0;32m    922\u001b[0m \u001b[43m                          \u001b[49m\u001b[43mhasconst\u001b[49m\u001b[38;5;241;43m=\u001b[39;49m\u001b[43mhasconst\u001b[49m\u001b[43m,\u001b[49m\u001b[43m \u001b[49m\u001b[38;5;241;43m*\u001b[39;49m\u001b[38;5;241;43m*\u001b[39;49m\u001b[43mkwargs\u001b[49m\u001b[43m)\u001b[49m\n\u001b[0;32m    923\u001b[0m \u001b[38;5;28;01mif\u001b[39;00m \u001b[38;5;124m\"\u001b[39m\u001b[38;5;124mweights\u001b[39m\u001b[38;5;124m\"\u001b[39m \u001b[38;5;129;01min\u001b[39;00m \u001b[38;5;28mself\u001b[39m\u001b[38;5;241m.\u001b[39m_init_keys:\n\u001b[0;32m    924\u001b[0m     \u001b[38;5;28mself\u001b[39m\u001b[38;5;241m.\u001b[39m_init_keys\u001b[38;5;241m.\u001b[39mremove(\u001b[38;5;124m\"\u001b[39m\u001b[38;5;124mweights\u001b[39m\u001b[38;5;124m\"\u001b[39m)\n",
            "File \u001b[1;32m~\\AppData\\Local\\Packages\\PythonSoftwareFoundation.Python.3.12_qbz5n2kfra8p0\\LocalCache\\local-packages\\Python312\\site-packages\\statsmodels\\regression\\linear_model.py:746\u001b[0m, in \u001b[0;36mWLS.__init__\u001b[1;34m(self, endog, exog, weights, missing, hasconst, **kwargs)\u001b[0m\n\u001b[0;32m    744\u001b[0m \u001b[38;5;28;01melse\u001b[39;00m:\n\u001b[0;32m    745\u001b[0m     weights \u001b[38;5;241m=\u001b[39m weights\u001b[38;5;241m.\u001b[39msqueeze()\n\u001b[1;32m--> 746\u001b[0m \u001b[38;5;28;43msuper\u001b[39;49m\u001b[43m(\u001b[49m\u001b[43m)\u001b[49m\u001b[38;5;241;43m.\u001b[39;49m\u001b[38;5;21;43m__init__\u001b[39;49m\u001b[43m(\u001b[49m\u001b[43mendog\u001b[49m\u001b[43m,\u001b[49m\u001b[43m \u001b[49m\u001b[43mexog\u001b[49m\u001b[43m,\u001b[49m\u001b[43m \u001b[49m\u001b[43mmissing\u001b[49m\u001b[38;5;241;43m=\u001b[39;49m\u001b[43mmissing\u001b[49m\u001b[43m,\u001b[49m\n\u001b[0;32m    747\u001b[0m \u001b[43m                          \u001b[49m\u001b[43mweights\u001b[49m\u001b[38;5;241;43m=\u001b[39;49m\u001b[43mweights\u001b[49m\u001b[43m,\u001b[49m\u001b[43m \u001b[49m\u001b[43mhasconst\u001b[49m\u001b[38;5;241;43m=\u001b[39;49m\u001b[43mhasconst\u001b[49m\u001b[43m,\u001b[49m\u001b[43m \u001b[49m\u001b[38;5;241;43m*\u001b[39;49m\u001b[38;5;241;43m*\u001b[39;49m\u001b[43mkwargs\u001b[49m\u001b[43m)\u001b[49m\n\u001b[0;32m    748\u001b[0m nobs \u001b[38;5;241m=\u001b[39m \u001b[38;5;28mself\u001b[39m\u001b[38;5;241m.\u001b[39mexog\u001b[38;5;241m.\u001b[39mshape[\u001b[38;5;241m0\u001b[39m]\n\u001b[0;32m    749\u001b[0m weights \u001b[38;5;241m=\u001b[39m \u001b[38;5;28mself\u001b[39m\u001b[38;5;241m.\u001b[39mweights\n",
            "File \u001b[1;32m~\\AppData\\Local\\Packages\\PythonSoftwareFoundation.Python.3.12_qbz5n2kfra8p0\\LocalCache\\local-packages\\Python312\\site-packages\\statsmodels\\regression\\linear_model.py:200\u001b[0m, in \u001b[0;36mRegressionModel.__init__\u001b[1;34m(self, endog, exog, **kwargs)\u001b[0m\n\u001b[0;32m    199\u001b[0m \u001b[38;5;28;01mdef\u001b[39;00m \u001b[38;5;21m__init__\u001b[39m(\u001b[38;5;28mself\u001b[39m, endog, exog, \u001b[38;5;241m*\u001b[39m\u001b[38;5;241m*\u001b[39mkwargs):\n\u001b[1;32m--> 200\u001b[0m     \u001b[38;5;28;43msuper\u001b[39;49m\u001b[43m(\u001b[49m\u001b[43m)\u001b[49m\u001b[38;5;241;43m.\u001b[39;49m\u001b[38;5;21;43m__init__\u001b[39;49m\u001b[43m(\u001b[49m\u001b[43mendog\u001b[49m\u001b[43m,\u001b[49m\u001b[43m \u001b[49m\u001b[43mexog\u001b[49m\u001b[43m,\u001b[49m\u001b[43m \u001b[49m\u001b[38;5;241;43m*\u001b[39;49m\u001b[38;5;241;43m*\u001b[39;49m\u001b[43mkwargs\u001b[49m\u001b[43m)\u001b[49m\n\u001b[0;32m    201\u001b[0m     \u001b[38;5;28mself\u001b[39m\u001b[38;5;241m.\u001b[39mpinv_wexog: Float64Array \u001b[38;5;241m|\u001b[39m \u001b[38;5;28;01mNone\u001b[39;00m \u001b[38;5;241m=\u001b[39m \u001b[38;5;28;01mNone\u001b[39;00m\n\u001b[0;32m    202\u001b[0m     \u001b[38;5;28mself\u001b[39m\u001b[38;5;241m.\u001b[39m_data_attr\u001b[38;5;241m.\u001b[39mextend([\u001b[38;5;124m'\u001b[39m\u001b[38;5;124mpinv_wexog\u001b[39m\u001b[38;5;124m'\u001b[39m, \u001b[38;5;124m'\u001b[39m\u001b[38;5;124mwendog\u001b[39m\u001b[38;5;124m'\u001b[39m, \u001b[38;5;124m'\u001b[39m\u001b[38;5;124mwexog\u001b[39m\u001b[38;5;124m'\u001b[39m, \u001b[38;5;124m'\u001b[39m\u001b[38;5;124mweights\u001b[39m\u001b[38;5;124m'\u001b[39m])\n",
            "File \u001b[1;32m~\\AppData\\Local\\Packages\\PythonSoftwareFoundation.Python.3.12_qbz5n2kfra8p0\\LocalCache\\local-packages\\Python312\\site-packages\\statsmodels\\base\\model.py:270\u001b[0m, in \u001b[0;36mLikelihoodModel.__init__\u001b[1;34m(self, endog, exog, **kwargs)\u001b[0m\n\u001b[0;32m    269\u001b[0m \u001b[38;5;28;01mdef\u001b[39;00m \u001b[38;5;21m__init__\u001b[39m(\u001b[38;5;28mself\u001b[39m, endog, exog\u001b[38;5;241m=\u001b[39m\u001b[38;5;28;01mNone\u001b[39;00m, \u001b[38;5;241m*\u001b[39m\u001b[38;5;241m*\u001b[39mkwargs):\n\u001b[1;32m--> 270\u001b[0m     \u001b[38;5;28;43msuper\u001b[39;49m\u001b[43m(\u001b[49m\u001b[43m)\u001b[49m\u001b[38;5;241;43m.\u001b[39;49m\u001b[38;5;21;43m__init__\u001b[39;49m\u001b[43m(\u001b[49m\u001b[43mendog\u001b[49m\u001b[43m,\u001b[49m\u001b[43m \u001b[49m\u001b[43mexog\u001b[49m\u001b[43m,\u001b[49m\u001b[43m \u001b[49m\u001b[38;5;241;43m*\u001b[39;49m\u001b[38;5;241;43m*\u001b[39;49m\u001b[43mkwargs\u001b[49m\u001b[43m)\u001b[49m\n\u001b[0;32m    271\u001b[0m     \u001b[38;5;28mself\u001b[39m\u001b[38;5;241m.\u001b[39minitialize()\n",
            "File \u001b[1;32m~\\AppData\\Local\\Packages\\PythonSoftwareFoundation.Python.3.12_qbz5n2kfra8p0\\LocalCache\\local-packages\\Python312\\site-packages\\statsmodels\\base\\model.py:95\u001b[0m, in \u001b[0;36mModel.__init__\u001b[1;34m(self, endog, exog, **kwargs)\u001b[0m\n\u001b[0;32m     93\u001b[0m missing \u001b[38;5;241m=\u001b[39m kwargs\u001b[38;5;241m.\u001b[39mpop(\u001b[38;5;124m'\u001b[39m\u001b[38;5;124mmissing\u001b[39m\u001b[38;5;124m'\u001b[39m, \u001b[38;5;124m'\u001b[39m\u001b[38;5;124mnone\u001b[39m\u001b[38;5;124m'\u001b[39m)\n\u001b[0;32m     94\u001b[0m hasconst \u001b[38;5;241m=\u001b[39m kwargs\u001b[38;5;241m.\u001b[39mpop(\u001b[38;5;124m'\u001b[39m\u001b[38;5;124mhasconst\u001b[39m\u001b[38;5;124m'\u001b[39m, \u001b[38;5;28;01mNone\u001b[39;00m)\n\u001b[1;32m---> 95\u001b[0m \u001b[38;5;28mself\u001b[39m\u001b[38;5;241m.\u001b[39mdata \u001b[38;5;241m=\u001b[39m \u001b[38;5;28;43mself\u001b[39;49m\u001b[38;5;241;43m.\u001b[39;49m\u001b[43m_handle_data\u001b[49m\u001b[43m(\u001b[49m\u001b[43mendog\u001b[49m\u001b[43m,\u001b[49m\u001b[43m \u001b[49m\u001b[43mexog\u001b[49m\u001b[43m,\u001b[49m\u001b[43m \u001b[49m\u001b[43mmissing\u001b[49m\u001b[43m,\u001b[49m\u001b[43m \u001b[49m\u001b[43mhasconst\u001b[49m\u001b[43m,\u001b[49m\n\u001b[0;32m     96\u001b[0m \u001b[43m                              \u001b[49m\u001b[38;5;241;43m*\u001b[39;49m\u001b[38;5;241;43m*\u001b[39;49m\u001b[43mkwargs\u001b[49m\u001b[43m)\u001b[49m\n\u001b[0;32m     97\u001b[0m \u001b[38;5;28mself\u001b[39m\u001b[38;5;241m.\u001b[39mk_constant \u001b[38;5;241m=\u001b[39m \u001b[38;5;28mself\u001b[39m\u001b[38;5;241m.\u001b[39mdata\u001b[38;5;241m.\u001b[39mk_constant\n\u001b[0;32m     98\u001b[0m \u001b[38;5;28mself\u001b[39m\u001b[38;5;241m.\u001b[39mexog \u001b[38;5;241m=\u001b[39m \u001b[38;5;28mself\u001b[39m\u001b[38;5;241m.\u001b[39mdata\u001b[38;5;241m.\u001b[39mexog\n",
            "File \u001b[1;32m~\\AppData\\Local\\Packages\\PythonSoftwareFoundation.Python.3.12_qbz5n2kfra8p0\\LocalCache\\local-packages\\Python312\\site-packages\\statsmodels\\base\\model.py:135\u001b[0m, in \u001b[0;36mModel._handle_data\u001b[1;34m(self, endog, exog, missing, hasconst, **kwargs)\u001b[0m\n\u001b[0;32m    134\u001b[0m \u001b[38;5;28;01mdef\u001b[39;00m \u001b[38;5;21m_handle_data\u001b[39m(\u001b[38;5;28mself\u001b[39m, endog, exog, missing, hasconst, \u001b[38;5;241m*\u001b[39m\u001b[38;5;241m*\u001b[39mkwargs):\n\u001b[1;32m--> 135\u001b[0m     data \u001b[38;5;241m=\u001b[39m \u001b[43mhandle_data\u001b[49m\u001b[43m(\u001b[49m\u001b[43mendog\u001b[49m\u001b[43m,\u001b[49m\u001b[43m \u001b[49m\u001b[43mexog\u001b[49m\u001b[43m,\u001b[49m\u001b[43m \u001b[49m\u001b[43mmissing\u001b[49m\u001b[43m,\u001b[49m\u001b[43m \u001b[49m\u001b[43mhasconst\u001b[49m\u001b[43m,\u001b[49m\u001b[43m \u001b[49m\u001b[38;5;241;43m*\u001b[39;49m\u001b[38;5;241;43m*\u001b[39;49m\u001b[43mkwargs\u001b[49m\u001b[43m)\u001b[49m\n\u001b[0;32m    136\u001b[0m     \u001b[38;5;66;03m# kwargs arrays could have changed, easier to just attach here\u001b[39;00m\n\u001b[0;32m    137\u001b[0m     \u001b[38;5;28;01mfor\u001b[39;00m key \u001b[38;5;129;01min\u001b[39;00m kwargs:\n",
            "File \u001b[1;32m~\\AppData\\Local\\Packages\\PythonSoftwareFoundation.Python.3.12_qbz5n2kfra8p0\\LocalCache\\local-packages\\Python312\\site-packages\\statsmodels\\base\\data.py:675\u001b[0m, in \u001b[0;36mhandle_data\u001b[1;34m(endog, exog, missing, hasconst, **kwargs)\u001b[0m\n\u001b[0;32m    672\u001b[0m     exog \u001b[38;5;241m=\u001b[39m np\u001b[38;5;241m.\u001b[39masarray(exog)\n\u001b[0;32m    674\u001b[0m klass \u001b[38;5;241m=\u001b[39m handle_data_class_factory(endog, exog)\n\u001b[1;32m--> 675\u001b[0m \u001b[38;5;28;01mreturn\u001b[39;00m \u001b[43mklass\u001b[49m\u001b[43m(\u001b[49m\u001b[43mendog\u001b[49m\u001b[43m,\u001b[49m\u001b[43m \u001b[49m\u001b[43mexog\u001b[49m\u001b[38;5;241;43m=\u001b[39;49m\u001b[43mexog\u001b[49m\u001b[43m,\u001b[49m\u001b[43m \u001b[49m\u001b[43mmissing\u001b[49m\u001b[38;5;241;43m=\u001b[39;49m\u001b[43mmissing\u001b[49m\u001b[43m,\u001b[49m\u001b[43m \u001b[49m\u001b[43mhasconst\u001b[49m\u001b[38;5;241;43m=\u001b[39;49m\u001b[43mhasconst\u001b[49m\u001b[43m,\u001b[49m\n\u001b[0;32m    676\u001b[0m \u001b[43m             \u001b[49m\u001b[38;5;241;43m*\u001b[39;49m\u001b[38;5;241;43m*\u001b[39;49m\u001b[43mkwargs\u001b[49m\u001b[43m)\u001b[49m\n",
            "File \u001b[1;32m~\\AppData\\Local\\Packages\\PythonSoftwareFoundation.Python.3.12_qbz5n2kfra8p0\\LocalCache\\local-packages\\Python312\\site-packages\\statsmodels\\base\\data.py:88\u001b[0m, in \u001b[0;36mModelData.__init__\u001b[1;34m(self, endog, exog, missing, hasconst, **kwargs)\u001b[0m\n\u001b[0;32m     86\u001b[0m \u001b[38;5;28mself\u001b[39m\u001b[38;5;241m.\u001b[39mconst_idx \u001b[38;5;241m=\u001b[39m \u001b[38;5;28;01mNone\u001b[39;00m\n\u001b[0;32m     87\u001b[0m \u001b[38;5;28mself\u001b[39m\u001b[38;5;241m.\u001b[39mk_constant \u001b[38;5;241m=\u001b[39m \u001b[38;5;241m0\u001b[39m\n\u001b[1;32m---> 88\u001b[0m \u001b[38;5;28;43mself\u001b[39;49m\u001b[38;5;241;43m.\u001b[39;49m\u001b[43m_handle_constant\u001b[49m\u001b[43m(\u001b[49m\u001b[43mhasconst\u001b[49m\u001b[43m)\u001b[49m\n\u001b[0;32m     89\u001b[0m \u001b[38;5;28mself\u001b[39m\u001b[38;5;241m.\u001b[39m_check_integrity()\n\u001b[0;32m     90\u001b[0m \u001b[38;5;28mself\u001b[39m\u001b[38;5;241m.\u001b[39m_cache \u001b[38;5;241m=\u001b[39m {}\n",
            "File \u001b[1;32m~\\AppData\\Local\\Packages\\PythonSoftwareFoundation.Python.3.12_qbz5n2kfra8p0\\LocalCache\\local-packages\\Python312\\site-packages\\statsmodels\\base\\data.py:134\u001b[0m, in \u001b[0;36mModelData._handle_constant\u001b[1;34m(self, hasconst)\u001b[0m\n\u001b[0;32m    132\u001b[0m exog_max \u001b[38;5;241m=\u001b[39m np\u001b[38;5;241m.\u001b[39mmax(\u001b[38;5;28mself\u001b[39m\u001b[38;5;241m.\u001b[39mexog, axis\u001b[38;5;241m=\u001b[39m\u001b[38;5;241m0\u001b[39m)\n\u001b[0;32m    133\u001b[0m \u001b[38;5;28;01mif\u001b[39;00m \u001b[38;5;129;01mnot\u001b[39;00m np\u001b[38;5;241m.\u001b[39misfinite(exog_max)\u001b[38;5;241m.\u001b[39mall():\n\u001b[1;32m--> 134\u001b[0m     \u001b[38;5;28;01mraise\u001b[39;00m MissingDataError(\u001b[38;5;124m'\u001b[39m\u001b[38;5;124mexog contains inf or nans\u001b[39m\u001b[38;5;124m'\u001b[39m)\n\u001b[0;32m    135\u001b[0m exog_min \u001b[38;5;241m=\u001b[39m np\u001b[38;5;241m.\u001b[39mmin(\u001b[38;5;28mself\u001b[39m\u001b[38;5;241m.\u001b[39mexog, axis\u001b[38;5;241m=\u001b[39m\u001b[38;5;241m0\u001b[39m)\n\u001b[0;32m    136\u001b[0m const_idx \u001b[38;5;241m=\u001b[39m np\u001b[38;5;241m.\u001b[39mwhere(exog_max \u001b[38;5;241m==\u001b[39m exog_min)[\u001b[38;5;241m0\u001b[39m]\u001b[38;5;241m.\u001b[39msqueeze()\n",
            "\u001b[1;31mMissingDataError\u001b[0m: exog contains inf or nans"
          ]
        }
      ],
      "source": [
        "# -------- 코드 셀 2: 볼린저 밴드 그래프 및 안정적인 페어 선택 --------\n",
        "\n",
        "def calculate_p_value(data, ticker1, ticker2):\n",
        "    # 독립 변수와 종속 변수에 대해 NaN 및 inf 값 제거\n",
        "    x = data[ticker1].replace([np.inf, -np.inf], np.nan).dropna()\n",
        "    y = data[ticker2].replace([np.inf, -np.inf], np.nan).dropna()\n",
        "\n",
        "    # 데이터의 길이를 맞추기 위해 공통 인덱스 사용\n",
        "    common_index = x.index.intersection(y.index)\n",
        "    x = x.loc[common_index]\n",
        "    y = y.loc[common_index]\n",
        "\n",
        "    # 데이터 길이가 충분한지 확인\n",
        "    if len(x) == 0 or len(y) == 0:\n",
        "        print(f\"Insufficient data for {ticker1} and {ticker2}. Skipping this pair.\")\n",
        "        return None, None\n",
        "\n",
        "    # 상수항 추가 후 OLS 회귀 분석\n",
        "    x = sm.add_constant(x)\n",
        "    ols_model = sm.OLS(y, x).fit()\n",
        "    residuals = ols_model.resid\n",
        "\n",
        "    # 잔차에 대해 ADF 테스트 수행\n",
        "    adf_result = adfuller(residuals)\n",
        "    return adf_result[1], residuals  # p-value와 잔차 반환\n",
        "\n",
        "def plot_bollinger_bands(residuals, ticker1, ticker2):\n",
        "    # 60일 이동 평균과 표준편차 계산\n",
        "    moving_avg = residuals.rolling(window=60).mean()\n",
        "    moving_std = residuals.rolling(window=60).std()\n",
        "\n",
        "    # 볼린저 밴드 계산\n",
        "    upper_band = moving_avg + (2 * moving_std)\n",
        "    lower_band = moving_avg - (2 * moving_std)\n",
        "    \n",
        "    # 매매 규칙\n",
        "    # 잔차가 상단을 넘으면 매도, 하단을 넘으면 매수\n",
        "    #entry_signals = (residuals > upper_band) | (residuals < lower_band)\n",
        "    #exit_signals = residuals.rolling(window=60).mean().shift(1)  # 이동평균선이 교차할 때 청산\n",
        "\n",
        "    # 볼린저 밴드와 잔차 시각화\n",
        "    plt.figure(figsize=(10,6))\n",
        "    plt.plot(residuals, label='잔차', color='blue')\n",
        "    plt.plot(moving_avg, label='60일 이동 평균', color='orange')\n",
        "    plt.fill_between(residuals.index, lower_band, upper_band, color='gray', alpha=0.3, label='볼린저 밴드')\n",
        "    plt.legend()\n",
        "    plt.title(f'잔차와 볼린저 밴드 ({ticker1} vs {ticker2})')\n",
        "    plt.show()\n",
        "\n",
        "\n",
        "# -------- 안정적인 페어 선택 함수 --------\n",
        "def select_stable_pair(sp500, start_date, end_date, adf_threshold=0.05):\n",
        "    industry_groups = sp500.groupby(\"GICS Sub-Industry\")\n",
        "    #data = data_func(tickers, start_date=start_date, end_date=end_date)\n",
        "    #pairs = list(itertools.combinations(tickers, 2))\n",
        "    stable_pairs = []\n",
        "\n",
        "    \n",
        "    #lowest_std = float('inf')  # 최소 표준편차를 가진 페어를 선택하기 위한 변수\n",
        "    #best_pair = None\n",
        "    for industry, group in industry_groups:\n",
        "        tickers = group['Symbol'].tolist()\n",
        "        if len(tickers) < 2:\n",
        "            continue  # 페어 분석을 위한 최소 두 개 이상의 종목이 필요\n",
        "\n",
        "        data = get_data(tickers, start_date=start_date, end_date=end_date)\n",
        "        pairs = list(itertools.combinations(tickers, 2))\n",
        "\n",
        "        best_pair = None\n",
        "        lowest_std = float('inf')\n",
        "\n",
        "        for pair in pairs:\n",
        "            # TODO: 티커 2개를 받아서 p-value를 반환하는 함수로 분리하기\n",
        "            x_ticker, y_ticker = pair\n",
        "            p_value, residuals = calculate_p_value(data, x_ticker, y_ticker)\n",
        "\n",
        "            # 잔차가 평균 회귀적 성향을 보이는지 ADF 테스트로 확인\n",
        "            if p_value is not None:\n",
        "                # 잔차의 표준편차 계산\n",
        "                residual_std = residuals.std()\n",
        "                #print(f\"Pair: {x_ticker} and {y_ticker} - 잔차 표준편차: {residual_std}, ADF p-value: {p_value}\")\n",
        "\n",
        "                if residual_std < lowest_std and p_value < adf_threshold:\n",
        "                    best_pair = pair\n",
        "                    lowest_std = residual_std\n",
        "                    best_p_value = p_value\n",
        "                    #stable_pair = pair\n",
        "                    #lowest_std = residual_std\n",
        "        if best_pair:\n",
        "                stable_pairs.append({\n",
        "                    \"Sector\": group[\"GICS Sector\"].iloc[0],\n",
        "                    \"Industry Group\": industry,\n",
        "                    \"Ticker 1\": best_pair[0],\n",
        "                    \"Ticker 2\": best_pair[1],\n",
        "                    \"P-Value\": best_p_value,\n",
        "                    \"Residual Std\": lowest_std\n",
        "                })\n",
        "    return pd.DataFrame(stable_pairs)\n",
        "\n",
        "\n",
        "stable_pairs_df = select_stable_pair(sp500, start_date=\"2021-01-01\", end_date=\"2023-01-01\")\n",
        "print(stable_pairs_df)"
      ]
    },
    {
      "cell_type": "markdown",
      "metadata": {},
      "source": [
        "## 페어 테이블"
      ]
    },
    {
      "cell_type": "code",
      "execution_count": 13,
      "metadata": {},
      "outputs": [
        {
          "ename": "TypeError",
          "evalue": "select_stable_pair() missing 1 required positional argument: 'tickers'",
          "output_type": "error",
          "traceback": [
            "\u001b[1;31m---------------------------------------------------------------------------\u001b[0m",
            "\u001b[1;31mTypeError\u001b[0m                                 Traceback (most recent call last)",
            "Cell \u001b[1;32mIn[13], line 2\u001b[0m\n\u001b[0;32m      1\u001b[0m \u001b[38;5;66;03m# 산업군별 안정적 페어 찾기\u001b[39;00m\n\u001b[1;32m----> 2\u001b[0m stable_pairs_table \u001b[38;5;241m=\u001b[39m \u001b[43mselect_stable_pair\u001b[49m\u001b[43m(\u001b[49m\u001b[43mall_per_industry\u001b[49m\u001b[43m,\u001b[49m\u001b[43m \u001b[49m\u001b[43mstart_date\u001b[49m\u001b[38;5;241;43m=\u001b[39;49m\u001b[38;5;124;43m\"\u001b[39;49m\u001b[38;5;124;43m2021-01-01\u001b[39;49m\u001b[38;5;124;43m\"\u001b[39;49m\u001b[43m,\u001b[49m\u001b[43m \u001b[49m\u001b[43mend_date\u001b[49m\u001b[38;5;241;43m=\u001b[39;49m\u001b[38;5;124;43m\"\u001b[39;49m\u001b[38;5;124;43m2023-01-01\u001b[39;49m\u001b[38;5;124;43m\"\u001b[39;49m\u001b[43m)\u001b[49m\n\u001b[0;32m      3\u001b[0m \u001b[38;5;28mprint\u001b[39m(stable_pairs_table)\n",
            "\u001b[1;31mTypeError\u001b[0m: select_stable_pair() missing 1 required positional argument: 'tickers'"
          ]
        }
      ],
      "source": [
        "# 산업군별 안정적 페어 찾기\n",
        "stable_pairs_table = select_stable_pair(all_per_industry, start_date=\"2021-01-01\", end_date=\"2023-01-01\")\n",
        "print(stable_pairs_table)"
      ]
    },
    {
      "cell_type": "markdown",
      "metadata": {},
      "source": [
        "## 동적 선택을 통한 페어 분석 함수"
      ]
    },
    {
      "cell_type": "code",
      "execution_count": null,
      "metadata": {},
      "outputs": [],
      "source": [
        "# -------- 동적 선택을 통한 페어 분석 함수 --------\n",
        "def analyze_by_selection(selection_type, selection_name, start_date, end_date):\n",
        "    if selection_type == \"sector\":\n",
        "        # 선택한 섹터로 분석\n",
        "        tickers = top_by_sector.loc[selection_name]['Symbol'].tolist()\n",
        "        data_func = get_data\n",
        "    elif selection_type == \"industry\":\n",
        "        # 선택한 산업군으로 분석\n",
        "        tickers = all_per_industry.loc[selection_name]['Symbol'].tolist()  # 산업군 선택\n",
        "        data_func = get_data\n",
        "    else:\n",
        "        print(\"올바르지 않은 선택입니다. 섹터 또는 산업군을 입력하세요.\")\n",
        "        return\n",
        "\n",
        "    # 페어 분석 수행\n",
        "    select_stable_pair(data_func, tickers, start_date, end_date)\n",
        "\n",
        "\n",
        "# -------- 사용자 선택 기반 페어 분석 실행 --------\n",
        "selection_type = input(\"분석하려는 선택을 입력하세요 (sector or industry): \")\n",
        "selection_name = input(\"분석할 섹터 또는 산업군의 이름을 입력하세요: \")\n",
        "analyze_by_selection(selection_type, selection_name, start_date=\"2020-01-01\", end_date=\"2023-01-01\")"
      ]
    },
    {
      "cell_type": "markdown",
      "metadata": {},
      "source": [
        "## 데이터 모니터링"
      ]
    },
    {
      "cell_type": "code",
      "execution_count": 36,
      "metadata": {},
      "outputs": [
        {
          "ename": "KeyError",
          "evalue": "'your_industry_name'",
          "output_type": "error",
          "traceback": [
            "\u001b[1;31m---------------------------------------------------------------------------\u001b[0m",
            "\u001b[1;31mKeyError\u001b[0m                                  Traceback (most recent call last)",
            "File \u001b[1;32m~\\AppData\\Local\\Packages\\PythonSoftwareFoundation.Python.3.12_qbz5n2kfra8p0\\LocalCache\\local-packages\\Python312\\site-packages\\pandas\\core\\indexes\\base.py:3805\u001b[0m, in \u001b[0;36mIndex.get_loc\u001b[1;34m(self, key)\u001b[0m\n\u001b[0;32m   3804\u001b[0m \u001b[38;5;28;01mtry\u001b[39;00m:\n\u001b[1;32m-> 3805\u001b[0m     \u001b[38;5;28;01mreturn\u001b[39;00m \u001b[38;5;28;43mself\u001b[39;49m\u001b[38;5;241;43m.\u001b[39;49m\u001b[43m_engine\u001b[49m\u001b[38;5;241;43m.\u001b[39;49m\u001b[43mget_loc\u001b[49m\u001b[43m(\u001b[49m\u001b[43mcasted_key\u001b[49m\u001b[43m)\u001b[49m\n\u001b[0;32m   3806\u001b[0m \u001b[38;5;28;01mexcept\u001b[39;00m \u001b[38;5;167;01mKeyError\u001b[39;00m \u001b[38;5;28;01mas\u001b[39;00m err:\n",
            "File \u001b[1;32mindex.pyx:167\u001b[0m, in \u001b[0;36mpandas._libs.index.IndexEngine.get_loc\u001b[1;34m()\u001b[0m\n",
            "File \u001b[1;32mindex.pyx:196\u001b[0m, in \u001b[0;36mpandas._libs.index.IndexEngine.get_loc\u001b[1;34m()\u001b[0m\n",
            "File \u001b[1;32mpandas\\\\_libs\\\\hashtable_class_helper.pxi:7081\u001b[0m, in \u001b[0;36mpandas._libs.hashtable.PyObjectHashTable.get_item\u001b[1;34m()\u001b[0m\n",
            "File \u001b[1;32mpandas\\\\_libs\\\\hashtable_class_helper.pxi:7089\u001b[0m, in \u001b[0;36mpandas._libs.hashtable.PyObjectHashTable.get_item\u001b[1;34m()\u001b[0m\n",
            "\u001b[1;31mKeyError\u001b[0m: 'your_industry_name'",
            "\nThe above exception was the direct cause of the following exception:\n",
            "\u001b[1;31mKeyError\u001b[0m                                  Traceback (most recent call last)",
            "Cell \u001b[1;32mIn[36], line 48\u001b[0m\n\u001b[0;32m     46\u001b[0m \u001b[38;5;66;03m# 예시 실행 코드\u001b[39;00m\n\u001b[0;32m     47\u001b[0m industry_name \u001b[38;5;241m=\u001b[39m \u001b[38;5;124m\"\u001b[39m\u001b[38;5;124myour_industry_name\u001b[39m\u001b[38;5;124m\"\u001b[39m\n\u001b[1;32m---> 48\u001b[0m industry_tickers \u001b[38;5;241m=\u001b[39m \u001b[43mall_per_industry\u001b[49m\u001b[38;5;241;43m.\u001b[39;49m\u001b[43mloc\u001b[49m\u001b[43m[\u001b[49m\u001b[43mindustry_name\u001b[49m\u001b[43m]\u001b[49m[\u001b[38;5;124m'\u001b[39m\u001b[38;5;124mSymbol\u001b[39m\u001b[38;5;124m'\u001b[39m]\u001b[38;5;241m.\u001b[39mtolist()\n\u001b[0;32m     49\u001b[0m data_func \u001b[38;5;241m=\u001b[39m get_data\n\u001b[0;32m     51\u001b[0m \u001b[38;5;66;03m# 초기 페어를 찾고 안정적인 페어를 모니터링\u001b[39;00m\n",
            "File \u001b[1;32m~\\AppData\\Local\\Packages\\PythonSoftwareFoundation.Python.3.12_qbz5n2kfra8p0\\LocalCache\\local-packages\\Python312\\site-packages\\pandas\\core\\indexing.py:1191\u001b[0m, in \u001b[0;36m_LocationIndexer.__getitem__\u001b[1;34m(self, key)\u001b[0m\n\u001b[0;32m   1189\u001b[0m maybe_callable \u001b[38;5;241m=\u001b[39m com\u001b[38;5;241m.\u001b[39mapply_if_callable(key, \u001b[38;5;28mself\u001b[39m\u001b[38;5;241m.\u001b[39mobj)\n\u001b[0;32m   1190\u001b[0m maybe_callable \u001b[38;5;241m=\u001b[39m \u001b[38;5;28mself\u001b[39m\u001b[38;5;241m.\u001b[39m_check_deprecated_callable_usage(key, maybe_callable)\n\u001b[1;32m-> 1191\u001b[0m \u001b[38;5;28;01mreturn\u001b[39;00m \u001b[38;5;28;43mself\u001b[39;49m\u001b[38;5;241;43m.\u001b[39;49m\u001b[43m_getitem_axis\u001b[49m\u001b[43m(\u001b[49m\u001b[43mmaybe_callable\u001b[49m\u001b[43m,\u001b[49m\u001b[43m \u001b[49m\u001b[43maxis\u001b[49m\u001b[38;5;241;43m=\u001b[39;49m\u001b[43maxis\u001b[49m\u001b[43m)\u001b[49m\n",
            "File \u001b[1;32m~\\AppData\\Local\\Packages\\PythonSoftwareFoundation.Python.3.12_qbz5n2kfra8p0\\LocalCache\\local-packages\\Python312\\site-packages\\pandas\\core\\indexing.py:1431\u001b[0m, in \u001b[0;36m_LocIndexer._getitem_axis\u001b[1;34m(self, key, axis)\u001b[0m\n\u001b[0;32m   1429\u001b[0m \u001b[38;5;66;03m# fall thru to straight lookup\u001b[39;00m\n\u001b[0;32m   1430\u001b[0m \u001b[38;5;28mself\u001b[39m\u001b[38;5;241m.\u001b[39m_validate_key(key, axis)\n\u001b[1;32m-> 1431\u001b[0m \u001b[38;5;28;01mreturn\u001b[39;00m \u001b[38;5;28;43mself\u001b[39;49m\u001b[38;5;241;43m.\u001b[39;49m\u001b[43m_get_label\u001b[49m\u001b[43m(\u001b[49m\u001b[43mkey\u001b[49m\u001b[43m,\u001b[49m\u001b[43m \u001b[49m\u001b[43maxis\u001b[49m\u001b[38;5;241;43m=\u001b[39;49m\u001b[43maxis\u001b[49m\u001b[43m)\u001b[49m\n",
            "File \u001b[1;32m~\\AppData\\Local\\Packages\\PythonSoftwareFoundation.Python.3.12_qbz5n2kfra8p0\\LocalCache\\local-packages\\Python312\\site-packages\\pandas\\core\\indexing.py:1381\u001b[0m, in \u001b[0;36m_LocIndexer._get_label\u001b[1;34m(self, label, axis)\u001b[0m\n\u001b[0;32m   1379\u001b[0m \u001b[38;5;28;01mdef\u001b[39;00m \u001b[38;5;21m_get_label\u001b[39m(\u001b[38;5;28mself\u001b[39m, label, axis: AxisInt):\n\u001b[0;32m   1380\u001b[0m     \u001b[38;5;66;03m# GH#5567 this will fail if the label is not present in the axis.\u001b[39;00m\n\u001b[1;32m-> 1381\u001b[0m     \u001b[38;5;28;01mreturn\u001b[39;00m \u001b[38;5;28;43mself\u001b[39;49m\u001b[38;5;241;43m.\u001b[39;49m\u001b[43mobj\u001b[49m\u001b[38;5;241;43m.\u001b[39;49m\u001b[43mxs\u001b[49m\u001b[43m(\u001b[49m\u001b[43mlabel\u001b[49m\u001b[43m,\u001b[49m\u001b[43m \u001b[49m\u001b[43maxis\u001b[49m\u001b[38;5;241;43m=\u001b[39;49m\u001b[43maxis\u001b[49m\u001b[43m)\u001b[49m\n",
            "File \u001b[1;32m~\\AppData\\Local\\Packages\\PythonSoftwareFoundation.Python.3.12_qbz5n2kfra8p0\\LocalCache\\local-packages\\Python312\\site-packages\\pandas\\core\\generic.py:4290\u001b[0m, in \u001b[0;36mNDFrame.xs\u001b[1;34m(self, key, axis, level, drop_level)\u001b[0m\n\u001b[0;32m   4287\u001b[0m     index \u001b[38;5;241m=\u001b[39m \u001b[38;5;28mself\u001b[39m\u001b[38;5;241m.\u001b[39mindex\n\u001b[0;32m   4289\u001b[0m \u001b[38;5;28;01mif\u001b[39;00m \u001b[38;5;28misinstance\u001b[39m(index, MultiIndex):\n\u001b[1;32m-> 4290\u001b[0m     loc, new_index \u001b[38;5;241m=\u001b[39m \u001b[43mindex\u001b[49m\u001b[38;5;241;43m.\u001b[39;49m\u001b[43m_get_loc_level\u001b[49m\u001b[43m(\u001b[49m\u001b[43mkey\u001b[49m\u001b[43m,\u001b[49m\u001b[43m \u001b[49m\u001b[43mlevel\u001b[49m\u001b[38;5;241;43m=\u001b[39;49m\u001b[38;5;241;43m0\u001b[39;49m\u001b[43m)\u001b[49m\n\u001b[0;32m   4291\u001b[0m     \u001b[38;5;28;01mif\u001b[39;00m \u001b[38;5;129;01mnot\u001b[39;00m drop_level:\n\u001b[0;32m   4292\u001b[0m         \u001b[38;5;28;01mif\u001b[39;00m lib\u001b[38;5;241m.\u001b[39mis_integer(loc):\n\u001b[0;32m   4293\u001b[0m             \u001b[38;5;66;03m# Slice index must be an integer or None\u001b[39;00m\n",
            "File \u001b[1;32m~\\AppData\\Local\\Packages\\PythonSoftwareFoundation.Python.3.12_qbz5n2kfra8p0\\LocalCache\\local-packages\\Python312\\site-packages\\pandas\\core\\indexes\\multi.py:3290\u001b[0m, in \u001b[0;36mMultiIndex._get_loc_level\u001b[1;34m(self, key, level)\u001b[0m\n\u001b[0;32m   3288\u001b[0m         \u001b[38;5;28;01mreturn\u001b[39;00m indexer, maybe_mi_droplevels(indexer, ilevels)\n\u001b[0;32m   3289\u001b[0m \u001b[38;5;28;01melse\u001b[39;00m:\n\u001b[1;32m-> 3290\u001b[0m     indexer \u001b[38;5;241m=\u001b[39m \u001b[38;5;28;43mself\u001b[39;49m\u001b[38;5;241;43m.\u001b[39;49m\u001b[43m_get_level_indexer\u001b[49m\u001b[43m(\u001b[49m\u001b[43mkey\u001b[49m\u001b[43m,\u001b[49m\u001b[43m \u001b[49m\u001b[43mlevel\u001b[49m\u001b[38;5;241;43m=\u001b[39;49m\u001b[43mlevel\u001b[49m\u001b[43m)\u001b[49m\n\u001b[0;32m   3291\u001b[0m     \u001b[38;5;28;01mif\u001b[39;00m (\n\u001b[0;32m   3292\u001b[0m         \u001b[38;5;28misinstance\u001b[39m(key, \u001b[38;5;28mstr\u001b[39m)\n\u001b[0;32m   3293\u001b[0m         \u001b[38;5;129;01mand\u001b[39;00m \u001b[38;5;28mself\u001b[39m\u001b[38;5;241m.\u001b[39mlevels[level]\u001b[38;5;241m.\u001b[39m_supports_partial_string_indexing\n\u001b[0;32m   3294\u001b[0m     ):\n\u001b[0;32m   3295\u001b[0m         \u001b[38;5;66;03m# check to see if we did an exact lookup vs sliced\u001b[39;00m\n\u001b[0;32m   3296\u001b[0m         check \u001b[38;5;241m=\u001b[39m \u001b[38;5;28mself\u001b[39m\u001b[38;5;241m.\u001b[39mlevels[level]\u001b[38;5;241m.\u001b[39mget_loc(key)\n",
            "File \u001b[1;32m~\\AppData\\Local\\Packages\\PythonSoftwareFoundation.Python.3.12_qbz5n2kfra8p0\\LocalCache\\local-packages\\Python312\\site-packages\\pandas\\core\\indexes\\multi.py:3391\u001b[0m, in \u001b[0;36mMultiIndex._get_level_indexer\u001b[1;34m(self, key, level, indexer)\u001b[0m\n\u001b[0;32m   3388\u001b[0m         \u001b[38;5;28;01mreturn\u001b[39;00m \u001b[38;5;28mslice\u001b[39m(i, j, step)\n\u001b[0;32m   3390\u001b[0m \u001b[38;5;28;01melse\u001b[39;00m:\n\u001b[1;32m-> 3391\u001b[0m     idx \u001b[38;5;241m=\u001b[39m \u001b[38;5;28;43mself\u001b[39;49m\u001b[38;5;241;43m.\u001b[39;49m\u001b[43m_get_loc_single_level_index\u001b[49m\u001b[43m(\u001b[49m\u001b[43mlevel_index\u001b[49m\u001b[43m,\u001b[49m\u001b[43m \u001b[49m\u001b[43mkey\u001b[49m\u001b[43m)\u001b[49m\n\u001b[0;32m   3393\u001b[0m     \u001b[38;5;28;01mif\u001b[39;00m level \u001b[38;5;241m>\u001b[39m \u001b[38;5;241m0\u001b[39m \u001b[38;5;129;01mor\u001b[39;00m \u001b[38;5;28mself\u001b[39m\u001b[38;5;241m.\u001b[39m_lexsort_depth \u001b[38;5;241m==\u001b[39m \u001b[38;5;241m0\u001b[39m:\n\u001b[0;32m   3394\u001b[0m         \u001b[38;5;66;03m# Desired level is not sorted\u001b[39;00m\n\u001b[0;32m   3395\u001b[0m         \u001b[38;5;28;01mif\u001b[39;00m \u001b[38;5;28misinstance\u001b[39m(idx, \u001b[38;5;28mslice\u001b[39m):\n\u001b[0;32m   3396\u001b[0m             \u001b[38;5;66;03m# test_get_loc_partial_timestamp_multiindex\u001b[39;00m\n",
            "File \u001b[1;32m~\\AppData\\Local\\Packages\\PythonSoftwareFoundation.Python.3.12_qbz5n2kfra8p0\\LocalCache\\local-packages\\Python312\\site-packages\\pandas\\core\\indexes\\multi.py:2980\u001b[0m, in \u001b[0;36mMultiIndex._get_loc_single_level_index\u001b[1;34m(self, level_index, key)\u001b[0m\n\u001b[0;32m   2978\u001b[0m     \u001b[38;5;28;01mreturn\u001b[39;00m \u001b[38;5;241m-\u001b[39m\u001b[38;5;241m1\u001b[39m\n\u001b[0;32m   2979\u001b[0m \u001b[38;5;28;01melse\u001b[39;00m:\n\u001b[1;32m-> 2980\u001b[0m     \u001b[38;5;28;01mreturn\u001b[39;00m \u001b[43mlevel_index\u001b[49m\u001b[38;5;241;43m.\u001b[39;49m\u001b[43mget_loc\u001b[49m\u001b[43m(\u001b[49m\u001b[43mkey\u001b[49m\u001b[43m)\u001b[49m\n",
            "File \u001b[1;32m~\\AppData\\Local\\Packages\\PythonSoftwareFoundation.Python.3.12_qbz5n2kfra8p0\\LocalCache\\local-packages\\Python312\\site-packages\\pandas\\core\\indexes\\base.py:3812\u001b[0m, in \u001b[0;36mIndex.get_loc\u001b[1;34m(self, key)\u001b[0m\n\u001b[0;32m   3807\u001b[0m     \u001b[38;5;28;01mif\u001b[39;00m \u001b[38;5;28misinstance\u001b[39m(casted_key, \u001b[38;5;28mslice\u001b[39m) \u001b[38;5;129;01mor\u001b[39;00m (\n\u001b[0;32m   3808\u001b[0m         \u001b[38;5;28misinstance\u001b[39m(casted_key, abc\u001b[38;5;241m.\u001b[39mIterable)\n\u001b[0;32m   3809\u001b[0m         \u001b[38;5;129;01mand\u001b[39;00m \u001b[38;5;28many\u001b[39m(\u001b[38;5;28misinstance\u001b[39m(x, \u001b[38;5;28mslice\u001b[39m) \u001b[38;5;28;01mfor\u001b[39;00m x \u001b[38;5;129;01min\u001b[39;00m casted_key)\n\u001b[0;32m   3810\u001b[0m     ):\n\u001b[0;32m   3811\u001b[0m         \u001b[38;5;28;01mraise\u001b[39;00m InvalidIndexError(key)\n\u001b[1;32m-> 3812\u001b[0m     \u001b[38;5;28;01mraise\u001b[39;00m \u001b[38;5;167;01mKeyError\u001b[39;00m(key) \u001b[38;5;28;01mfrom\u001b[39;00m \u001b[38;5;21;01merr\u001b[39;00m\n\u001b[0;32m   3813\u001b[0m \u001b[38;5;28;01mexcept\u001b[39;00m \u001b[38;5;167;01mTypeError\u001b[39;00m:\n\u001b[0;32m   3814\u001b[0m     \u001b[38;5;66;03m# If we have a listlike key, _check_indexing_error will raise\u001b[39;00m\n\u001b[0;32m   3815\u001b[0m     \u001b[38;5;66;03m#  InvalidIndexError. Otherwise we fall through and re-raise\u001b[39;00m\n\u001b[0;32m   3816\u001b[0m     \u001b[38;5;66;03m#  the TypeError.\u001b[39;00m\n\u001b[0;32m   3817\u001b[0m     \u001b[38;5;28mself\u001b[39m\u001b[38;5;241m.\u001b[39m_check_indexing_error(key)\n",
            "\u001b[1;31mKeyError\u001b[0m: 'your_industry_name'"
          ]
        }
      ],
      "source": [
        "\n",
        "# 산업군별 안정적 페어를 저장하는 딕셔너리\n",
        "stable_pairs = {}\n",
        "\n",
        "# p-value를 계산하는 함수\n",
        "def check_p_value(data_func, ticker1, ticker2, start_date, end_date):\n",
        "    data = data_func([ticker1, ticker2], start_date=start_date, end_date=end_date)\n",
        "    p_value, _ = calculate_p_value(data, ticker1, ticker2)\n",
        "    return p_value\n",
        "\n",
        "# 산업군별로 초기 안정적 페어 찾기\n",
        "def initialize_stable_pairs(industry_tickers, data_func, start_date, end_date):\n",
        "    stable_pair = select_stable_pair(data_func, industry_tickers, start_date, end_date)\n",
        "    if stable_pair:\n",
        "        stable_pairs[stable_pair] = check_p_value(data_func, stable_pair[0], stable_pair[1], start_date, end_date)\n",
        "\n",
        "# 주기적으로 안정적 페어를 모니터링하는 함수\n",
        "def monitor_stable_pairs(data_func, start_date, end_date, adf_threshold=0.05, interval=3600):\n",
        "    while True:\n",
        "        print(\"Monitoring stable pairs...\")\n",
        "        for pair in list(stable_pairs.keys()):\n",
        "            ticker1, ticker2 = pair\n",
        "            p_value = check_p_value(data_func, ticker1, ticker2, start_date, end_date)\n",
        "\n",
        "            if p_value is None:\n",
        "                print(f\"Data for pair {ticker1} and {ticker2} is missing. Skipping...\")\n",
        "                continue\n",
        "\n",
        "            print(f\"Current p-value for {ticker1} and {ticker2}: {p_value}\")\n",
        "            if p_value > adf_threshold:\n",
        "                print(f\"p-value for {pair} exceeded threshold. Re-evaluating pairs for this industry...\")\n",
        "                \n",
        "                # 산업군 내 새로운 페어 찾기\n",
        "                industry_tickers = all_per_industry.loc[industry].Symbol.tolist()  # 예시: 해당 산업군에 대한 티커 리스트\n",
        "                new_stable_pair = select_stable_pair(data_func, industry_tickers, start_date, end_date)\n",
        "                \n",
        "                if new_stable_pair:\n",
        "                    stable_pairs[new_stable_pair] = check_p_value(data_func, new_stable_pair[0], new_stable_pair[1], start_date, end_date)\n",
        "                    print(f\"Updated stable pair for {industry}: {new_stable_pair} with p-value {stable_pairs[new_stable_pair]}\")\n",
        "                \n",
        "                # 기존 페어 제거\n",
        "                del stable_pairs[pair]\n",
        "\n",
        "        # 일정 시간 대기 후 다시 체크\n",
        "        time.sleep(interval)\n",
        "\n",
        "# 예시 실행 코드\n",
        "industry_name = \"your_industry_name\"\n",
        "industry_tickers = all_per_industry.loc[industry_name]['Symbol'].tolist()\n",
        "data_func = get_data\n",
        "\n",
        "# 초기 페어를 찾고 안정적인 페어를 모니터링\n",
        "initialize_stable_pairs(industry_tickers, data_func, start_date=\"2020-01-01\", end_date=\"2023-01-01\")\n",
        "monitor_stable_pairs(data_func, start_date=\"2020-01-01\", end_date=\"2023-01-01\")\n"
      ]
    },
    {
      "cell_type": "markdown",
      "metadata": {},
      "source": [
        "## 섹터 별 볼린저 밴드 및 안정적 페어 찾기"
      ]
    },
    {
      "cell_type": "markdown",
      "metadata": {},
      "source": [
        "### 1. Information Technology"
      ]
    },
    {
      "cell_type": "markdown",
      "metadata": {},
      "source": [
        "#### 1. 모든 페어 분석"
      ]
    },
    {
      "cell_type": "code",
      "execution_count": null,
      "metadata": {},
      "outputs": [],
      "source": [
        "# 1. Information Technology 섹터의 모든 페어 분석\n",
        "it_sector_tickers = top_by_sector.loc['Information Technology']['Symbol'].tolist()\n",
        "analyze_sector_pairs(it_sector_tickers, start_date=default_start_date, end_date=default_end_date)\n",
        "\n",
        "industry_tickers = top_by_sector.loc['Information Technology']['Symbol'].tolist()  # 산업군 데이터 사용\n",
        "analyze_industry_pairs(industry_tickers, start_date=default_start_date, end_date=default_end_date)\n"
      ]
    },
    {
      "cell_type": "markdown",
      "metadata": {},
      "source": [
        "#### 1. 안정적 페어"
      ]
    },
    {
      "cell_type": "code",
      "execution_count": null,
      "metadata": {
        "colab": {
          "base_uri": "https://localhost:8080/"
        },
        "id": "2XgFMkYZ_zwi",
        "outputId": "8bea4a99-3f9c-460e-ea3c-e88bf73393cd"
      },
      "outputs": [],
      "source": [
        "# 정보기술 Information Technology 섹터의 가장 안정적인 페어 선택\n",
        "it_sector_tickers = top_by_sector.loc['Information Technology']['Symbol'].tolist()\n",
        "stable_it_pair = select_stable_pair(it_sector_tickers, start_date=default_start_date, end_date=default_end_date)\n",
        "\n",
        "# TODO\n",
        "#if stable_it_pair:\n",
        "#    draw_graph()\n",
        "\n",
        "print(f\"가장 안정적인 페어: {stable_it_pair}\")\n",
        "\n",
        "# 1. Information Technology 섹터의 모든 페어 분석\n",
        "it_sector_tickers = top_by_sector.loc['Information Technology']['Symbol'].tolist()\n",
        "analyze_sector_pairs(it_sector_tickers, start_date=default_start_date, end_date=default_end_date)\n",
        "\n",
        "industry_tickers = top_by_sector.loc['Information Technology']['Symbol'].tolist()  # 산업군 데이터 사용\n",
        "analyze_industry_pairs(industry_tickers, start_date=default_start_date, end_date=default_end_date)\n",
        "\n"
      ]
    },
    {
      "cell_type": "markdown",
      "metadata": {},
      "source": [
        "### 2. Energy"
      ]
    },
    {
      "cell_type": "markdown",
      "metadata": {},
      "source": [
        "#### 2. 모든 페어 분석"
      ]
    },
    {
      "cell_type": "code",
      "execution_count": null,
      "metadata": {
        "colab": {
          "base_uri": "https://localhost:8080/",
          "height": 1000
        },
        "id": "_R-TjtxwZ5lL",
        "outputId": "bd1e167c-7214-4980-ff8d-eeca9e5cb8a5"
      },
      "outputs": [],
      "source": [
        "# 2. Energy 섹터의 모든 페어 분석\n",
        "energy_sector_tickers = top_by_sector.loc['Energy']['Symbol'].tolist()\n",
        "analyze_sector_pairs(energy_sector_tickers, start_date=default_start_date, end_date=default_end_date)"
      ]
    },
    {
      "cell_type": "markdown",
      "metadata": {},
      "source": [
        "#### 2. 안정적 페어"
      ]
    },
    {
      "cell_type": "code",
      "execution_count": null,
      "metadata": {
        "colab": {
          "base_uri": "https://localhost:8080/"
        },
        "id": "YD4IgowjACq1",
        "outputId": "41558877-8320-40da-861c-683aca37aca8"
      },
      "outputs": [],
      "source": [
        "# Energy 섹터의 가장 안정적인 페어 선택\n",
        "it_sector_tickers = top_by_sector.loc['Energy']['Symbol'].tolist()\n",
        "stable_it_pair = select_stable_pair(it_sector_tickers,  start_date=default_start_date, end_date=default_end_date)\n",
        "print(f\"가장 안정적인 페어: {stable_it_pair}\")\n"
      ]
    },
    {
      "cell_type": "markdown",
      "metadata": {},
      "source": [
        "### 3. Consumer Discretionary"
      ]
    },
    {
      "cell_type": "markdown",
      "metadata": {},
      "source": [
        "#### 3. 모든 페어 분석"
      ]
    },
    {
      "cell_type": "code",
      "execution_count": null,
      "metadata": {
        "colab": {
          "base_uri": "https://localhost:8080/",
          "height": 1000
        },
        "id": "6jwX5Kf6Z_-r",
        "outputId": "8d2249be-5ae7-40f2-974d-a45eec0da324"
      },
      "outputs": [],
      "source": [
        "# 3. Consumer Discretionary 섹터의 모든 페어 분석\n",
        "consumer_discretionary_tickers = top_by_sector.loc['Consumer Discretionary']['Symbol'].tolist()\n",
        "analyze_sector_pairs(consumer_discretionary_tickers,  start_date=default_start_date, end_date=default_end_date)"
      ]
    },
    {
      "cell_type": "markdown",
      "metadata": {},
      "source": [
        "#### 3. 안정적 페어"
      ]
    },
    {
      "cell_type": "code",
      "execution_count": null,
      "metadata": {
        "colab": {
          "base_uri": "https://localhost:8080/"
        },
        "id": "vORwaJ4xBiLM",
        "outputId": "e80b9e1b-8caf-4bfc-ee42-8a83ed23b5a0"
      },
      "outputs": [],
      "source": [
        "# 임의소비재Consumer Discretionary 섹터의 가장 안정적인 페어 선택\n",
        "\n",
        "# Consumer Discretionary 섹터의 시가총액 상위 10개 종목 선택 (기존 4개에서 확장)\n",
        "consumer_discretionary_top = sp500[sp500['GICS Sector'] == 'Consumer Discretionary'].nlargest(10, 'Market Cap')\n",
        "\n",
        "# Consumer Discretionary 섹터의 종목 티커 리스트 생성\n",
        "consumer_tickers = consumer_discretionary_top['Symbol'].tolist()\n",
        "\n",
        "#it_sector_tickers = top_by_sector.loc['Consumer Discretionary']['Symbol'].tolist()\n",
        "stable_consumer_pair = select_stable_pair(consumer_tickers, start_date=default_start_date, end_date=default_end_date, adf_threshold = 0.05)\n",
        "print(f\"가장 안정적인 페어: {stable_consumer_pair}\")\n"
      ]
    },
    {
      "cell_type": "markdown",
      "metadata": {},
      "source": [
        "### 4. Health Care"
      ]
    },
    {
      "cell_type": "markdown",
      "metadata": {},
      "source": [
        "#### 4. 모든 페어 분석"
      ]
    },
    {
      "cell_type": "code",
      "execution_count": null,
      "metadata": {
        "colab": {
          "base_uri": "https://localhost:8080/",
          "height": 1000
        },
        "id": "7-rTq96xaFDa",
        "outputId": "3a6ca51a-4cb0-4169-de22-4f087fe3ccf3"
      },
      "outputs": [],
      "source": [
        "# 4. Health Care 섹터의 모든 페어 분석\n",
        "health_care_tickers = top_by_sector.loc['Health Care']['Symbol'].tolist()\n",
        "analyze_sector_pairs(health_care_tickers, start_date=default_start_date, end_date=default_end_date)"
      ]
    },
    {
      "cell_type": "markdown",
      "metadata": {},
      "source": [
        "#### 4. 안정적 페어"
      ]
    },
    {
      "cell_type": "code",
      "execution_count": null,
      "metadata": {
        "colab": {
          "base_uri": "https://localhost:8080/"
        },
        "id": "KA3sSka3EXl2",
        "outputId": "3186cca3-eb7a-4068-bbb8-c1ad989e6b6c"
      },
      "outputs": [],
      "source": [
        "# Health Care 섹터의 가장 안정적인 페어 선택\n",
        "it_sector_tickers = top_by_sector.loc['Health Care']['Symbol'].tolist()\n",
        "stable_it_pair = select_stable_pair(it_sector_tickers,  start_date=default_start_date, end_date=default_end_date)\n",
        "print(f\"가장 안정적인 페어: {stable_it_pair}\")\n"
      ]
    },
    {
      "cell_type": "markdown",
      "metadata": {},
      "source": [
        "### 5. Financials"
      ]
    },
    {
      "cell_type": "markdown",
      "metadata": {},
      "source": [
        "#### 5. 모든 페어 분석"
      ]
    },
    {
      "cell_type": "code",
      "execution_count": null,
      "metadata": {
        "colab": {
          "base_uri": "https://localhost:8080/",
          "height": 1000
        },
        "id": "1U7zThneaM1n",
        "outputId": "745041a9-b251-46a1-8bc6-540d0d458f8f"
      },
      "outputs": [],
      "source": [
        "# 5. Financials 섹터의 모든 페어 분석\n",
        "financials_tickers = top_by_sector.loc['Financials']['Symbol'].tolist()\n",
        "analyze_sector_pairs(financials_tickers, start_date=default_start_date, end_date=default_end_date)\n"
      ]
    },
    {
      "cell_type": "markdown",
      "metadata": {},
      "source": [
        "#### 5. 안정적 페어"
      ]
    },
    {
      "cell_type": "code",
      "execution_count": null,
      "metadata": {
        "colab": {
          "base_uri": "https://localhost:8080/"
        },
        "id": "jekUrR39ErC3",
        "outputId": "22f1315c-d6de-415b-9daa-ebfbd26b1b17"
      },
      "outputs": [],
      "source": [
        "# Financials 섹터의 가장 안정적인 페어 선택\n",
        "it_sector_tickers = top_by_sector.loc['Financials']['Symbol'].tolist()\n",
        "stable_it_pair = select_stable_pair(it_sector_tickers, start_date=default_start_date, end_date=default_end_date)\n",
        "print(f\"가장 안정적인 페어: {stable_it_pair}\")\n"
      ]
    },
    {
      "cell_type": "markdown",
      "metadata": {},
      "source": [
        "### 6. Communication Services"
      ]
    },
    {
      "cell_type": "markdown",
      "metadata": {},
      "source": [
        "#### 6. 모든 페어 분석"
      ]
    },
    {
      "cell_type": "code",
      "execution_count": null,
      "metadata": {
        "colab": {
          "base_uri": "https://localhost:8080/",
          "height": 1000
        },
        "id": "Z1rNAt9y0aoR",
        "outputId": "74f7ce73-5046-49cf-c156-f3d31352aad3"
      },
      "outputs": [],
      "source": [
        "# 6. Communication Services 섹터의 모든 페어 분석\n",
        "\n",
        "financials_tickers = top_by_sector.loc['Communication Services']['Symbol'].tolist()\n",
        "analyze_sector_pairs(financials_tickers, start_date=default_start_date, end_date=default_end_date)\n"
      ]
    },
    {
      "cell_type": "markdown",
      "metadata": {},
      "source": [
        "#### 6. 안정적 페어"
      ]
    },
    {
      "cell_type": "code",
      "execution_count": null,
      "metadata": {
        "colab": {
          "base_uri": "https://localhost:8080/"
        },
        "id": "Vr7uYe71Exfg",
        "outputId": "bd64afba-7cc8-4a2e-a7fa-f5a9d480797b"
      },
      "outputs": [],
      "source": [
        "# Communication Services 섹터의 시가총액 상위 10개 종목 선택 (기존 4개에서 확장)\n",
        "communication_services_top = sp500[sp500['GICS Sector'] == 'Communication Services'].nlargest(10, 'Market Cap')\n",
        "\n",
        "# Communication Services 섹터의 종목 티커 리스트 생성\n",
        "communication_tickers = communication_services_top['Symbol'].tolist()\n",
        "\n",
        "# 페어 분석 및 안정적인 페어 선택 (ADF p-value 기준 0.05로 설정)\n",
        "stable_communication_pair = select_stable_pair(communication_tickers, start_date=default_start_date, end_date=default_end_date, adf_threshold=0.05)\n",
        "print(f\"Communication Services 가장 안정적인 페어: {stable_communication_pair}\")\n"
      ]
    },
    {
      "cell_type": "markdown",
      "metadata": {},
      "source": [
        "### 7. Consumer Staples"
      ]
    },
    {
      "cell_type": "markdown",
      "metadata": {},
      "source": [
        "#### 7. 모든 페어 분석"
      ]
    },
    {
      "cell_type": "code",
      "execution_count": null,
      "metadata": {
        "colab": {
          "base_uri": "https://localhost:8080/",
          "height": 1000
        },
        "id": "bvfZ06OB1f4h",
        "outputId": "a305a900-c89f-41ea-9784-ac62bc4a7aab"
      },
      "outputs": [],
      "source": [
        "# 7. Consumer Staples 섹터의 모든 페어 분석\n",
        "\n",
        "financials_tickers = top_by_sector.loc['Consumer Staples']['Symbol'].tolist()\n",
        "analyze_sector_pairs(financials_tickers, start_date=default_start_date, end_date=default_end_date)"
      ]
    },
    {
      "cell_type": "markdown",
      "metadata": {},
      "source": [
        "#### 7. 안정적 페어"
      ]
    },
    {
      "cell_type": "code",
      "execution_count": null,
      "metadata": {
        "colab": {
          "base_uri": "https://localhost:8080/"
        },
        "id": "BEnqc9M9Ez8M",
        "outputId": "e16adb93-c712-4a95-e3b3-3f14d23bfbfb"
      },
      "outputs": [],
      "source": [
        "# 필수 소비재 Consumer Staples 섹터의 가장 안정적인 페어 선택\n",
        "it_sector_tickers = top_by_sector.loc['Consumer Staples']['Symbol'].tolist()\n",
        "stable_it_pair = select_stable_pair(it_sector_tickers, start_date=default_start_date, end_date=default_end_date)\n",
        "print(f\"가장 안정적인 페어: {stable_it_pair}\")\n"
      ]
    },
    {
      "cell_type": "markdown",
      "metadata": {},
      "source": [
        "### 8. Industrials"
      ]
    },
    {
      "cell_type": "markdown",
      "metadata": {},
      "source": [
        "#### 8. 모든 페어 분석"
      ]
    },
    {
      "cell_type": "code",
      "execution_count": null,
      "metadata": {
        "colab": {
          "base_uri": "https://localhost:8080/",
          "height": 1000
        },
        "id": "3URrVPYg1n9t",
        "outputId": "afc49fa8-cdf7-4747-e0e8-36f68e1c7643"
      },
      "outputs": [],
      "source": [
        "# 8. Industrials 섹터의 모든 페어 분석\n",
        "\n",
        "financials_tickers = top_by_sector.loc['Industrials']['Symbol'].tolist()\n",
        "analyze_sector_pairs(financials_tickers, start_date=default_start_date, end_date=default_end_date)"
      ]
    },
    {
      "cell_type": "markdown",
      "metadata": {},
      "source": [
        "#### 8. 안정적 페어"
      ]
    },
    {
      "cell_type": "code",
      "execution_count": null,
      "metadata": {
        "colab": {
          "base_uri": "https://localhost:8080/"
        },
        "id": "bWeEXiETE1Hk",
        "outputId": "38d1505f-a7d0-4bca-adfd-e264f0246e4b"
      },
      "outputs": [],
      "source": [
        "# Industrials 섹터의 시가총액 상위 10개 종목 선택 (기존 4개에서 확장)\n",
        "industrials_top = sp500[sp500['GICS Sector'] == 'Industrials'].nlargest(10, 'Market Cap')\n",
        "\n",
        "# Industrials Services 섹터의 종목 티커 리스트 생성\n",
        "industrials_tickers = industrials_top['Symbol'].tolist()\n",
        "\n",
        "# 페어 분석 및 안정적인 페어 선택 (ADF p-value 기준 0.1로 설정)\n",
        "stable_industrials_pair = select_stable_pair(industrials_tickers, start_date=default_start_date, end_date=default_end_date, adf_threshold=0.05)\n",
        "print(f\"Industrialsn Services 가장 안정적인 페어: {stable_industrials_pair}\")\n"
      ]
    },
    {
      "cell_type": "markdown",
      "metadata": {},
      "source": [
        "### 9. Materials"
      ]
    },
    {
      "cell_type": "markdown",
      "metadata": {},
      "source": [
        "#### 9. 모든 페어 분석"
      ]
    },
    {
      "cell_type": "code",
      "execution_count": null,
      "metadata": {
        "colab": {
          "base_uri": "https://localhost:8080/",
          "height": 1000
        },
        "id": "_kzpOdZs1xnq",
        "outputId": "f2bf68b1-571f-4cdd-e3d4-67f40ad3573c"
      },
      "outputs": [],
      "source": [
        "# 9. Materials 섹터의 모든 페어 분석\n",
        "\n",
        "financials_tickers = top_by_sector.loc['Materials']['Symbol'].tolist()\n",
        "analyze_sector_pairs(financials_tickers, start_date=default_start_date, end_date=default_end_date)"
      ]
    },
    {
      "cell_type": "markdown",
      "metadata": {},
      "source": [
        "#### 9. 안정적 페어"
      ]
    },
    {
      "cell_type": "code",
      "execution_count": null,
      "metadata": {
        "colab": {
          "base_uri": "https://localhost:8080/"
        },
        "id": "v3Q7f09NE2fE",
        "outputId": "82965a02-151c-4f2a-a8bd-f45ab26f6966"
      },
      "outputs": [],
      "source": [
        "# Materials 섹터의 시가총액 상위 10개 종목 선택 (기존 4개에서 확장)\n",
        "materials_top = sp500[sp500['GICS Sector'] == 'Materials'].nlargest(10, 'Market Cap')\n",
        "\n",
        "# Materials 섹터의 종목 티커 리스트 생성\n",
        "materials_tickers = materials_top['Symbol'].tolist()\n",
        "\n",
        "# 페어 분석 및 안정적인 페어 선택 (ADF p-value 기준 0.05로 설정)\n",
        "stable_materials_pair = select_stable_pair(materials_tickers, start_date=default_start_date, end_date=default_end_date, adf_threshold=0.05)\n",
        "print(f\"Materials 가장 안정적인 페어: {stable_materials_pair}\")\n"
      ]
    },
    {
      "cell_type": "markdown",
      "metadata": {},
      "source": [
        "### 10. Real Estate"
      ]
    },
    {
      "cell_type": "markdown",
      "metadata": {},
      "source": [
        "#### 10. 모든 페어 분석"
      ]
    },
    {
      "cell_type": "code",
      "execution_count": null,
      "metadata": {
        "colab": {
          "base_uri": "https://localhost:8080/",
          "height": 1000
        },
        "id": "hT4xRp1814bS",
        "outputId": "4e3ea84f-f752-45f0-8be4-dbc5f15fe360"
      },
      "outputs": [],
      "source": [
        "# 10. Real Estate 섹터의 모든 페어 분석\n",
        "\n",
        "financials_tickers = top_by_sector.loc['Real Estate']['Symbol'].tolist()\n",
        "analyze_sector_pairs(financials_tickers, start_date=default_start_date, end_date=default_end_date)"
      ]
    },
    {
      "cell_type": "markdown",
      "metadata": {},
      "source": [
        "#### 10. 안정적 페어 "
      ]
    },
    {
      "cell_type": "code",
      "execution_count": null,
      "metadata": {
        "colab": {
          "base_uri": "https://localhost:8080/"
        },
        "id": "SXWJ_I2rE4Qc",
        "outputId": "d5be40aa-40db-401c-c6dc-bc208fd60b61"
      },
      "outputs": [],
      "source": [
        "# Real Estate 섹터의 가장 안정적인 페어 선택\n",
        "it_sector_tickers = top_by_sector.loc['Real Estate']['Symbol'].tolist()\n",
        "stable_it_pair = select_stable_pair(it_sector_tickers, start_date=default_start_date, end_date=default_end_date)\n",
        "print(f\"가장 안정적인 페어: {stable_it_pair}\")\n"
      ]
    },
    {
      "cell_type": "markdown",
      "metadata": {},
      "source": [
        "### 11. Utilities"
      ]
    },
    {
      "cell_type": "markdown",
      "metadata": {},
      "source": [
        "#### 11. 모든 페어 분석"
      ]
    },
    {
      "cell_type": "code",
      "execution_count": null,
      "metadata": {
        "colab": {
          "base_uri": "https://localhost:8080/",
          "height": 1000
        },
        "id": "wksvhGyx1nfD",
        "outputId": "3c8be7f2-48c2-4bb6-8e47-ff8f60c4d1d4"
      },
      "outputs": [],
      "source": [
        "# 11. Utilities 섹터의 모든 페어 분석\n",
        "\n",
        "financials_tickers = top_by_sector.loc['Utilities']['Symbol'].tolist()\n",
        "analyze_sector_pairs(financials_tickers, start_date=default_start_date, end_date=default_end_date)"
      ]
    },
    {
      "cell_type": "markdown",
      "metadata": {},
      "source": [
        "#### 11 안정적 페어"
      ]
    },
    {
      "cell_type": "code",
      "execution_count": null,
      "metadata": {
        "colab": {
          "base_uri": "https://localhost:8080/",
          "height": 410
        },
        "id": "HD-YokCEE6EA",
        "outputId": "70d12d4d-5360-4f33-f061-5ed036b2b5a0"
      },
      "outputs": [],
      "source": [
        "# Utilities 섹터의 가장 안정적인 페어 선택\n",
        "it_sector_tickers = top_by_sector.loc['Utilities']['Symbol'].tolist()\n",
        "stable_it_pair = select_stable_pair(it_sector_tickers, start_date=default_start_date, end_date=default_end_date, adf_threshold = 0.1)\n",
        "print(f\"가장 안정적인 페어: {stable_it_pair}\")\n"
      ]
    }
  ],
  "metadata": {
    "colab": {
      "provenance": []
    },
    "kernelspec": {
      "display_name": "Python 3",
      "name": "python3"
    },
    "language_info": {
      "codemirror_mode": {
        "name": "ipython",
        "version": 3
      },
      "file_extension": ".py",
      "mimetype": "text/x-python",
      "name": "python",
      "nbconvert_exporter": "python",
      "pygments_lexer": "ipython3",
      "version": "3.12.7"
    }
  },
  "nbformat": 4,
  "nbformat_minor": 0
}
