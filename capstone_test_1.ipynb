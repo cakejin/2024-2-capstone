{
 "cells": [
  {
   "cell_type": "markdown",
   "metadata": {},
   "source": [
    "# Setting"
   ]
  },
  {
   "cell_type": "code",
   "execution_count": 45,
   "metadata": {
    "colab": {
     "base_uri": "https://localhost:8080/"
    },
    "id": "vIrerKvjylGe",
    "outputId": "57eeb4a6-df7d-4644-8c56-870b403dafcb"
   },
   "outputs": [
    {
     "name": "stdout",
     "output_type": "stream",
     "text": [
      "Font set to: NanumGothic\n"
     ]
    }
   ],
   "source": [
    "\n",
    "# matplotlib에 한글 폰트 설정\n",
    "from matplotlib import rcParams\n",
    "import matplotlib.pyplot as plt\n",
    "import matplotlib.font_manager as fm\n",
    "\n",
    "# 폰트 설정\n",
    "font_path = 'C:/Windows/Fonts/NanumGothic.ttf'\n",
    "fm.fontManager.addfont(font_path)\n",
    "font_prop = fm.FontProperties(fname=font_path)\n",
    "\n",
    "# matplotlib 설정\n",
    "plt.rc('font', family=font_prop.get_name())\n",
    "\n",
    "#음수기호해결\n",
    "rcParams['axes.unicode_minus'] = False\n",
    "\n",
    "# 테스트 출력\n",
    "print(f\"Font set to: {font_prop.get_name()}\")\n"
   ]
  },
  {
   "cell_type": "code",
   "execution_count": 46,
   "metadata": {},
   "outputs": [],
   "source": [
    "# !pip install yfinance\n",
    "# !pip install statsmodels\n"
   ]
  },
  {
   "cell_type": "markdown",
   "metadata": {},
   "source": [
    "# import"
   ]
  },
  {
   "cell_type": "code",
   "execution_count": 47,
   "metadata": {},
   "outputs": [],
   "source": [
    "import os\n",
    "import yfinance as yf\n",
    "import pandas as pd\n",
    "\n",
    "import numpy as np\n",
    "import statsmodels.api as sm\n",
    "\n",
    "from statsmodels.tsa.stattools import adfuller\n",
    "\n",
    "import itertools\n",
    "\n",
    "import time\n",
    "\n",
    "import backtrader as bt\n",
    "from datetime import datetime\n",
    "\n",
    "import matplotlib.pyplot as plt\n",
    "import matplotlib\n",
    "from multiprocessing import Pool\n"
   ]
  },
  {
   "cell_type": "markdown",
   "metadata": {},
   "source": [
    "# Read S&P 500"
   ]
  },
  {
   "cell_type": "markdown",
   "metadata": {},
   "source": [
    "## s&p500크롤링"
   ]
  },
  {
   "cell_type": "code",
   "execution_count": 48,
   "metadata": {
    "colab": {
     "base_uri": "https://localhost:8080/"
    },
    "id": "lFb4qMUR1aN4",
    "outputId": "456dbf89-9970-4c36-ec43-399e23d200a9"
   },
   "outputs": [
    {
     "name": "stdout",
     "output_type": "stream",
     "text": [
      "CSV파일에서 s&p500 데이터를 로드합니다.\n"
     ]
    },
    {
     "name": "stderr",
     "output_type": "stream",
     "text": [
      "C:\\Users\\eujin\\AppData\\Local\\Temp\\ipykernel_21848\\4018800259.py:35: DeprecationWarning: DataFrameGroupBy.apply operated on the grouping columns. This behavior is deprecated, and in a future version of pandas the grouping columns will be excluded from the operation. Either pass `include_groups=False` to exclude the groupings or explicitly select the grouping columns after groupby to silence this warning.\n",
      "  top_by_sector = sp500.groupby('GICS Sector').apply(lambda x: x.nlargest(4, 'Market Cap'))\n",
      "C:\\Users\\eujin\\AppData\\Local\\Temp\\ipykernel_21848\\4018800259.py:38: DeprecationWarning: DataFrameGroupBy.apply operated on the grouping columns. This behavior is deprecated, and in a future version of pandas the grouping columns will be excluded from the operation. Either pass `include_groups=False` to exclude the groupings or explicitly select the grouping columns after groupby to silence this warning.\n",
      "  all_per_industry = sp500.groupby('GICS Sub-Industry').apply(lambda x: x)\n"
     ]
    }
   ],
   "source": [
    "\n",
    "csv_file_path = \"./csv/snp500.csv\"\n",
    "\n",
    "#각 종목의 시가총액 가져오는 함수 !이젠 필요없음\n",
    "def get_market_cap(ticker):\n",
    "    stock = yf.Ticker(ticker)\n",
    "    try:\n",
    "        market_cap = stock.info['marketCap']  # 시가총액\n",
    "    except KeyError:\n",
    "        market_cap = None\n",
    "    return market_cap\n",
    "\n",
    "# S&P 500 종목 리스트 가져오기\n",
    "# pd.read_html() 함수는 웹페이지에 있는 HTML 테이블을 DataFrame으로 변환\n",
    "def load_sp500_data():\n",
    "    if os.path.exists(csv_file_path):\n",
    "        print(\"CSV파일에서 s&p500 데이터를 로드합니다.\")\n",
    "        sp500 = pd.read_csv(csv_file_path)\n",
    "    else:\n",
    "         print(\"웹에서 S&P 500 데이터를 가져옵니다.\")\n",
    "         sp500 = pd.read_html('https://en.wikipedia.org/wiki/List_of_S%26P_500_companies')[0]\n",
    "         sp500['Market Cap'] = sp500['Symbol'].apply(get_market_cap) #시가총액 주가\n",
    "         sp500.to_csv(csv_file_path, index=False) #데이터를 csv로 저장\n",
    "\n",
    "    return sp500\n",
    "\n",
    "\n",
    "sp500 = load_sp500_data()\n",
    "\n",
    "\n",
    "# 시가총액 정보를 추가 위해 티커(symbol) 리스트를 추출\n",
    "tickers = sp500['Symbol'].tolist()\n",
    "\n",
    "\n",
    "# 섹터별 시가총액 상위 4개 종목 선택 !이젠 필요 없음\n",
    "top_by_sector = sp500.groupby('GICS Sector').apply(lambda x: x.nlargest(4, 'Market Cap'))\n",
    "\n",
    "# 산업군 전체 종목 선택\n",
    "all_per_industry = sp500.groupby('GICS Sub-Industry').apply(lambda x: x)\n",
    "\n",
    "\n",
    "# 섹터별로 시가총액 상위 종목들 출력\n",
    "#print(top_by_sector[['Symbol', 'Security', 'Market Cap']])\n",
    "\n",
    "# 산업군 별 시가총액 상위 종목 출력\n",
    "#print(all_per_industry[['Symbol', 'Security', 'Market Cap']])\n",
    "\n",
    "# 파일로 저장\n",
    "sp500.to_csv(\"./csv/snp500.csv\", index=False)  # 이미 데이터가 있으면 덮어쓰지 않음\n"
   ]
  },
  {
   "cell_type": "markdown",
   "metadata": {},
   "source": [
    "## 섹터, 산업군 별 데이터"
   ]
  },
  {
   "cell_type": "code",
   "execution_count": 49,
   "metadata": {
    "colab": {
     "base_uri": "https://localhost:8080/",
     "height": 1000
    },
    "id": "bMVuNyej3z_J",
    "outputId": "20bbb908-614b-406f-c98e-46210bc3d030"
   },
   "outputs": [
    {
     "name": "stderr",
     "output_type": "stream",
     "text": [
      "[*********************100%***********************]  4 of 4 completed\n",
      "[*********************100%***********************]  2 of 2 completed"
     ]
    },
    {
     "name": "stdout",
     "output_type": "stream",
     "text": [
      "섹터 상관관계 매트릭스:\n",
      "Ticker      AAPL      AVGO      MSFT      NVDA\n",
      "Ticker                                        \n",
      "AAPL    1.000000  0.875553  0.948934  0.921846\n",
      "AVGO    0.875553  1.000000  0.917176  0.943091\n",
      "MSFT    0.948934  0.917176  1.000000  0.936636\n",
      "NVDA    0.921846  0.943091  0.936636  1.000000\n",
      "산업군 상관관계 매트릭스:\n",
      "Ticker       IPG       OMC\n",
      "Ticker                    \n",
      "IPG     1.000000  0.937923\n",
      "OMC     0.937923  1.000000\n"
     ]
    },
    {
     "name": "stderr",
     "output_type": "stream",
     "text": [
      "\n"
     ]
    }
   ],
   "source": [
    "\n",
    "# 각 섹터의 종목 데이터를 가져오기 위한 함수\n",
    "def get_data(tickers, start_date=\"2023-01-01\", end_date=\"2023-12-31\"):\n",
    "    # 데이터 수집 (Adjusted Close 가격을 가져옴)\n",
    "    data = yf.download(tickers, start=start_date, end=end_date)['Adj Close']\n",
    "    return data\n",
    "\n",
    "\n",
    "#기본 분석 기간\n",
    "default_start_date = \"2023-01-01\"\n",
    "default_end_date = \"2023-12-31\"\n",
    "\n",
    "#데이터 예시\n",
    "it_sector_tickers = top_by_sector.loc['Information Technology']['Symbol'].tolist()\n",
    "\n",
    "it_sector_data = get_data(it_sector_tickers)\n",
    "\n",
    "\n",
    "it_industry_tickers = all_per_industry.loc['Advertising']['Symbol'].tolist()\n",
    "\n",
    "it_industry_data = get_data(it_industry_tickers)\n",
    "\n",
    "\n",
    "# 종목 간 상관관계\n",
    "sector_correlation_matrix = it_sector_data.corr()\n",
    "print(\"섹터 상관관계 매트릭스:\")\n",
    "print(sector_correlation_matrix)\n",
    "\n",
    "\n",
    "industry_correlation_matrix = it_industry_data.corr()\n",
    "print(\"산업군 상관관계 매트릭스:\")\n",
    "print(industry_correlation_matrix)\n"
   ]
  },
  {
   "cell_type": "markdown",
   "metadata": {},
   "source": [
    "## 볼린저 밴드 그래프 함수, 안정적 페어 고르기 함수"
   ]
  },
  {
   "cell_type": "code",
   "execution_count": 50,
   "metadata": {
    "colab": {
     "base_uri": "https://localhost:8080/",
     "height": 1000
    },
    "id": "AhaTAi-BZIUI",
    "outputId": "87806933-9b2b-4054-837e-cf327802551c"
   },
   "outputs": [],
   "source": [
    "# -------- 코드 셀 2: 볼린저 밴드 그래프 및 안정적인 페어 선택 --------\n",
    "\n",
    "def calculate_p_value(data, ticker1, ticker2):\n",
    "    # 독립 변수와 종속 변수에 대해 NaN 및 inf 값 제거\n",
    "    x = data[ticker1].replace([np.inf, -np.inf], np.nan).dropna()\n",
    "    y = data[ticker2].replace([np.inf, -np.inf], np.nan).dropna()\n",
    "\n",
    "    # 데이터의 길이를 맞추기 위해 공통 인덱스 사용\n",
    "    common_index = x.index.intersection(y.index)\n",
    "    x = x.loc[common_index]\n",
    "    y = y.loc[common_index]\n",
    "\n",
    "    # 데이터 길이가 충분한지 확인\n",
    "    if len(x) == 0 or len(y) == 0:\n",
    "        print(f\"Insufficient data for {ticker1} and {ticker2}. Skipping this pair.\")\n",
    "        return None, None\n",
    "\n",
    "    # 상수항 추가 후 OLS 회귀 분석\n",
    "    x = sm.add_constant(x)\n",
    "    ols_model = sm.OLS(y, x).fit()\n",
    "    residuals = ols_model.resid\n",
    "\n",
    "    # 잔차에 대해 ADF 테스트 수행\n",
    "    adf_result = adfuller(residuals)\n",
    "    return adf_result[1], residuals  # p-value와 잔차 반환\n",
    "\n",
    "def plot_bollinger_bands(residuals, ticker1, ticker2, save_path=None):\n",
    "    # 30일 이동 평균과 표준편차 계산\n",
    "    moving_avg = residuals.rolling(window=30).mean()\n",
    "    moving_std = residuals.rolling(window=30).std()\n",
    "\n",
    "    # 볼린저 밴드 계산\n",
    "    upper_band = moving_avg + (2 * moving_std)\n",
    "    lower_band = moving_avg - (2 * moving_std)\n",
    "    \n",
    "    # 매매 규칙\n",
    "    # 잔차가 상단을 넘으면 매도, 하단을 넘으면 매수\n",
    "    #entry_signals = (residuals > upper_band) | (residuals < lower_band)\n",
    "    #exit_signals = residuals.rolling(window=60).mean().shift(1)  # 이동평균선이 교차할 때 청산\n",
    "\n",
    "    # 볼린저 밴드와 잔차 시각화\n",
    "    plt.figure(figsize=(10,6))\n",
    "    plt.plot(residuals, label='잔차', color='blue')\n",
    "    plt.plot(moving_avg, label='30일 이동 평균', color='orange')\n",
    "    plt.fill_between(residuals.index, lower_band, upper_band, color='gray', alpha=0.3, label='볼린저 밴드')\n",
    "    plt.legend()\n",
    "    plt.title(f'잔차와 볼린저 밴드 ({ticker1} vs {ticker2})')\n",
    "    #plt.show()->파일로 저장하면 굳이 필요 없어서\n",
    "    # 파일로 저장\n",
    "    if save_path:\n",
    "        plt.savefig(save_path, format='png', dpi=300, bbox_inches='tight')  # 해상도와 여백 조정\n",
    "        print(f\"Bollinger Band graph saved to {save_path}\")\n",
    "    \n",
    "    # 메모리 정리\n",
    "    plt.close()\n",
    "\n",
    "\n",
    "# 안정적인 페어 선택 함수\n",
    "def select_stable_pair(sp500, start_date, end_date, adf_threshold=0.05):\n",
    "    industry_groups = sp500.groupby(\"GICS Sub-Industry\")\n",
    "\n",
    "    stable_pairs = []\n",
    "\n",
    "    for industry, group in industry_groups:\n",
    "        tickers = group['Symbol'].tolist()\n",
    "        if len(tickers) < 2:\n",
    "            continue  # 페어 분석을 위한 최소 두 개 이상의 종목이 필요\n",
    "\n",
    "        data = get_data(tickers, start_date=start_date, end_date=end_date)\n",
    "        pairs = list(itertools.combinations(tickers, 2))\n",
    "\n",
    "        best_pair = None\n",
    "        lowest_std = float('inf')\n",
    "\n",
    "        for pair in pairs:\n",
    "            # TODO: 티커 2개를 받아서 p-value를 반환하는 함수로 분리하기\n",
    "            x_ticker, y_ticker = pair\n",
    "            p_value, residuals = calculate_p_value(data, x_ticker, y_ticker)\n",
    "\n",
    "            # 잔차가 평균 회귀적 성향을 보이는지 ADF 테스트로 확인\n",
    "            if p_value is not None:\n",
    "                # 잔차의 표준편차 계산\n",
    "                residual_std = residuals.std()\n",
    "                #print(f\"Pair: {x_ticker} and {y_ticker} - 잔차 표준편차: {residual_std}, ADF p-value: {p_value}\")\n",
    "\n",
    "                if residual_std < lowest_std and p_value < adf_threshold:\n",
    "                    best_pair = pair\n",
    "                    lowest_std = residual_std\n",
    "                    best_p_value = p_value\n",
    "                    #stable_pair = pair\n",
    "                    #lowest_std = residual_std\n",
    "        if best_pair:\n",
    "                stable_pairs.append({\n",
    "                    \"Sector\": group[\"GICS Sector\"].iloc[0],\n",
    "                    \"Industry Group\": industry,\n",
    "                    \"Ticker 1\": best_pair[0],\n",
    "                    \"Ticker 2\": best_pair[1],\n",
    "                    \"P-Value\": best_p_value,\n",
    "                    \"Residual Std\": lowest_std\n",
    "                })\n",
    "    return pd.DataFrame(stable_pairs)\n",
    "\n"
   ]
  },
  {
   "cell_type": "markdown",
   "metadata": {},
   "source": [
    "## 페어 테이블"
   ]
  },
  {
   "cell_type": "code",
   "execution_count": 51,
   "metadata": {},
   "outputs": [
    {
     "name": "stdout",
     "output_type": "stream",
     "text": [
      "파일이 이미 존재합니다. 기존 파일을 불러옵니다.\n",
      "                    Sector                                Industry Group  \\\n",
      "0              Industrials                           Aerospace & Defense   \n",
      "1              Industrials                       Air Freight & Logistics   \n",
      "2   Information Technology                          Application Software   \n",
      "3               Financials              Asset Management & Custody Banks   \n",
      "4              Health Care                                 Biotechnology   \n",
      "5   Communication Services                                  Broadcasting   \n",
      "6   Consumer Discretionary                              Broadline Retail   \n",
      "7   Consumer Discretionary                              Casinos & Gaming   \n",
      "8   Information Technology                      Communications Equipment   \n",
      "9               Financials                              Consumer Finance   \n",
      "10        Consumer Staples           Consumer Staples Merchandise Retail   \n",
      "11  Consumer Discretionary                                  Distributors   \n",
      "12              Financials                             Diversified Banks   \n",
      "13               Utilities                            Electric Utilities   \n",
      "14             Industrials             Electrical Components & Equipment   \n",
      "15  Information Technology            Electronic Equipment & Instruments   \n",
      "16               Materials          Fertilizers & Agricultural Chemicals   \n",
      "17              Financials                    Financial Exchanges & Data   \n",
      "18             Health Care                      Health Care Distributors   \n",
      "19             Health Care                         Health Care Equipment   \n",
      "20             Health Care                          Health Care Services   \n",
      "21  Consumer Discretionary                                  Homebuilding   \n",
      "22             Industrials          Human Resource & Employment Services   \n",
      "23  Information Technology                IT Consulting & Other Services   \n",
      "24             Industrials  Industrial Machinery & Supplies & Components   \n",
      "25              Financials                             Insurance Brokers   \n",
      "26                  Energy                          Integrated Oil & Gas   \n",
      "27  Communication Services                  Interactive Media & Services   \n",
      "28              Financials                Investment Banking & Brokerage   \n",
      "29             Health Care                Life Sciences Tools & Services   \n",
      "30             Health Care                           Managed Health Care   \n",
      "31  Communication Services                        Movies & Entertainment   \n",
      "32               Utilities                               Multi-Utilities   \n",
      "33              Financials                          Multi-line Insurance   \n",
      "34                  Energy                Oil & Gas Equipment & Services   \n",
      "35                  Energy            Oil & Gas Exploration & Production   \n",
      "36                  Energy            Oil & Gas Storage & Transportation   \n",
      "37  Consumer Discretionary                        Other Specialty Retail   \n",
      "38        Consumer Staples                        Packaged Foods & Meats   \n",
      "39             Industrials                            Passenger Airlines   \n",
      "40        Consumer Staples                        Personal Care Products   \n",
      "41             Health Care                               Pharmaceuticals   \n",
      "42              Financials                 Property & Casualty Insurance   \n",
      "43              Financials                                Regional Banks   \n",
      "44  Consumer Discretionary                                   Restaurants   \n",
      "45             Real Estate                            Self-Storage REITs   \n",
      "46  Information Technology           Semiconductor Materials & Equipment   \n",
      "47  Information Technology                                Semiconductors   \n",
      "48               Materials                           Specialty Chemicals   \n",
      "49        Consumer Staples                                       Tobacco   \n",
      "\n",
      "   Ticker 1 Ticker 2   P-Value  Residual Std  \n",
      "0        GE      HWM  0.044565      1.773801  \n",
      "1      CHRW      FDX  0.027265     22.486531  \n",
      "2      FICO      PTC  0.021239      4.746666  \n",
      "3       BEN      IVZ  0.018801      0.598595  \n",
      "4      ABBV     GILD  0.030517      2.339848  \n",
      "5      FOXA      WBD  0.022899      0.892417  \n",
      "6      AMZN     EBAY  0.019432      2.117625  \n",
      "7       LVS     WYNN  0.033569      3.612990  \n",
      "8      ANET     JNPR  0.013442      1.619849  \n",
      "9       COF      SYF  0.040415      1.230686  \n",
      "10      TGT      WMT  0.003664      1.432117  \n",
      "11      GPC      LKQ  0.000300      1.338700  \n",
      "12      PNC      USB  0.043162      1.692662  \n",
      "13      ETR      PPL  0.025577      0.631126  \n",
      "14      ETN      EMR  0.046838      4.175450  \n",
      "15     KEYS     ZBRA  0.043728     19.036501  \n",
      "16     CTVA      FMC  0.005799      6.843679  \n",
      "17     MKTX     NDAQ  0.045891      2.800332  \n",
      "18      CAH      COR  0.043996      3.523088  \n",
      "19      ABT      BAX  0.035181      2.430321  \n",
      "20       LH      DGX  0.049821      6.309447  \n",
      "21      DHI      LEN  0.003731      1.741393  \n",
      "22      ADP      DAY  0.026364      3.839152  \n",
      "23      ACN     CTSH  0.030626      2.297786  \n",
      "24      ITW     OTIS  0.033665      1.865196  \n",
      "25      BRO      MMC  0.016948      2.492059  \n",
      "26      CVX      XOM  0.012362      2.886065  \n",
      "27    GOOGL     META  0.049964     19.017146  \n",
      "28     SCHW       MS  0.027291      3.992947  \n",
      "29      CRL      DHR  0.048707      7.537420  \n",
      "30      CNC      ELV  0.014683     11.990281  \n",
      "31     PARA      DIS  0.032465      3.743599  \n",
      "32      CNP       NI  0.013676      0.458769  \n",
      "33      AIZ        L  0.000386      1.114411  \n",
      "34      HAL      SLB  0.037009      1.454184  \n",
      "35      EOG      MRO  0.034044      0.713675  \n",
      "36     TRGP      WMB  0.008553      0.829742  \n",
      "37     TSCO     ULTA  0.012575     27.482596  \n",
      "38        K      SJM  0.021988      4.779236  \n",
      "39      LUV      UAL  0.005196      2.947071  \n",
      "40       EL     KVUE  0.012354      0.687832  \n",
      "41      BMY      PFE  0.000010      1.493612  \n",
      "42     ACGL     CINF  0.029765      5.457420  \n",
      "43      CFG     HBAN  0.021483      0.354060  \n",
      "44      DPZ     SBUX  0.047762      4.392745  \n",
      "45      EXR      PSA  0.000308      6.070990  \n",
      "46     AMAT     LRCX  0.015505      1.897666  \n",
      "47     INTC       MU  0.000169      2.728111  \n",
      "48       DD      LYB  0.007290      2.712967  \n",
      "49       MO       PM  0.037545      2.408380  \n"
     ]
    }
   ],
   "source": [
    "#stable_pairs_df = select_stable_pair(sp500, start_date=\"2023-01-01\", end_date=\"2023-12-31\")\n",
    "#print(stable_pairs_df)\n",
    "\n",
    "# 안정적인 페어 테이블을 CSV 파일로 저장\n",
    "#stable_pairs_df.to_csv(\"./csv/stable_pairs.csv\", index=False)\n",
    "\n",
    "file_path = \"./csv/stable_pairs.csv\"\n",
    "\n",
    "# 파일 존재 여부 확인\n",
    "if os.path.exists(file_path):\n",
    "    print(\"파일이 이미 존재합니다. 기존 파일을 불러옵니다.\")\n",
    "    stable_pairs_df = pd.read_csv(file_path)\n",
    "else:\n",
    "    print(\"파일이 존재하지 않습니다. 데이터를 새로 생성합니다.\")\n",
    "    stable_pairs_df = select_stable_pair(sp500, start_date=\"2023-01-01\", end_date=\"2023-12-31\")\n",
    "    # 안정적인 페어 테이블을 CSV 파일로 저장\n",
    "    stable_pairs_df.to_csv(file_path, index=False)\n",
    "\n",
    "print(stable_pairs_df)\n"
   ]
  },
  {
   "cell_type": "markdown",
   "metadata": {},
   "source": [
    "## 테이블 페어간 볼린저 밴드"
   ]
  },
  {
   "cell_type": "code",
   "execution_count": 52,
   "metadata": {},
   "outputs": [
    {
     "name": "stdout",
     "output_type": "stream",
     "text": [
      "GE_HWM_bollinger.png 이미 존재합니다. 기존 파일을 사용합니다.\n",
      "CHRW_FDX_bollinger.png 이미 존재합니다. 기존 파일을 사용합니다.\n",
      "FICO_PTC_bollinger.png 이미 존재합니다. 기존 파일을 사용합니다.\n",
      "BEN_IVZ_bollinger.png 이미 존재합니다. 기존 파일을 사용합니다.\n",
      "ABBV_GILD_bollinger.png 이미 존재합니다. 기존 파일을 사용합니다.\n",
      "FOXA_WBD_bollinger.png 이미 존재합니다. 기존 파일을 사용합니다.\n",
      "AMZN_EBAY_bollinger.png 이미 존재합니다. 기존 파일을 사용합니다.\n",
      "LVS_WYNN_bollinger.png 이미 존재합니다. 기존 파일을 사용합니다.\n",
      "ANET_JNPR_bollinger.png 이미 존재합니다. 기존 파일을 사용합니다.\n",
      "COF_SYF_bollinger.png 이미 존재합니다. 기존 파일을 사용합니다.\n",
      "TGT_WMT_bollinger.png 이미 존재합니다. 기존 파일을 사용합니다.\n",
      "GPC_LKQ_bollinger.png 이미 존재합니다. 기존 파일을 사용합니다.\n",
      "PNC_USB_bollinger.png 이미 존재합니다. 기존 파일을 사용합니다.\n",
      "ETR_PPL_bollinger.png 이미 존재합니다. 기존 파일을 사용합니다.\n",
      "ETN_EMR_bollinger.png 이미 존재합니다. 기존 파일을 사용합니다.\n",
      "KEYS_ZBRA_bollinger.png 이미 존재합니다. 기존 파일을 사용합니다.\n",
      "CTVA_FMC_bollinger.png 이미 존재합니다. 기존 파일을 사용합니다.\n",
      "MKTX_NDAQ_bollinger.png 이미 존재합니다. 기존 파일을 사용합니다.\n",
      "CAH_COR_bollinger.png 이미 존재합니다. 기존 파일을 사용합니다.\n",
      "ABT_BAX_bollinger.png 이미 존재합니다. 기존 파일을 사용합니다.\n",
      "LH_DGX_bollinger.png 이미 존재합니다. 기존 파일을 사용합니다.\n",
      "DHI_LEN_bollinger.png 이미 존재합니다. 기존 파일을 사용합니다.\n",
      "ADP_DAY_bollinger.png 이미 존재합니다. 기존 파일을 사용합니다.\n",
      "ACN_CTSH_bollinger.png 이미 존재합니다. 기존 파일을 사용합니다.\n",
      "ITW_OTIS_bollinger.png 이미 존재합니다. 기존 파일을 사용합니다.\n",
      "BRO_MMC_bollinger.png 이미 존재합니다. 기존 파일을 사용합니다.\n",
      "CVX_XOM_bollinger.png 이미 존재합니다. 기존 파일을 사용합니다.\n",
      "GOOGL_META_bollinger.png 이미 존재합니다. 기존 파일을 사용합니다.\n",
      "SCHW_MS_bollinger.png 이미 존재합니다. 기존 파일을 사용합니다.\n",
      "CRL_DHR_bollinger.png 이미 존재합니다. 기존 파일을 사용합니다.\n",
      "CNC_ELV_bollinger.png 이미 존재합니다. 기존 파일을 사용합니다.\n",
      "PARA_DIS_bollinger.png 이미 존재합니다. 기존 파일을 사용합니다.\n",
      "CNP_NI_bollinger.png 이미 존재합니다. 기존 파일을 사용합니다.\n",
      "AIZ_L_bollinger.png 이미 존재합니다. 기존 파일을 사용합니다.\n",
      "HAL_SLB_bollinger.png 이미 존재합니다. 기존 파일을 사용합니다.\n",
      "EOG_MRO_bollinger.png 이미 존재합니다. 기존 파일을 사용합니다.\n",
      "TRGP_WMB_bollinger.png 이미 존재합니다. 기존 파일을 사용합니다.\n",
      "TSCO_ULTA_bollinger.png 이미 존재합니다. 기존 파일을 사용합니다.\n",
      "K_SJM_bollinger.png 이미 존재합니다. 기존 파일을 사용합니다.\n",
      "LUV_UAL_bollinger.png 이미 존재합니다. 기존 파일을 사용합니다.\n",
      "EL_KVUE_bollinger.png 이미 존재합니다. 기존 파일을 사용합니다.\n",
      "BMY_PFE_bollinger.png 이미 존재합니다. 기존 파일을 사용합니다.\n",
      "ACGL_CINF_bollinger.png 이미 존재합니다. 기존 파일을 사용합니다.\n",
      "CFG_HBAN_bollinger.png 이미 존재합니다. 기존 파일을 사용합니다.\n",
      "DPZ_SBUX_bollinger.png 이미 존재합니다. 기존 파일을 사용합니다.\n",
      "EXR_PSA_bollinger.png 이미 존재합니다. 기존 파일을 사용합니다.\n",
      "AMAT_LRCX_bollinger.png 이미 존재합니다. 기존 파일을 사용합니다.\n",
      "INTC_MU_bollinger.png 이미 존재합니다. 기존 파일을 사용합니다.\n",
      "DD_LYB_bollinger.png 이미 존재합니다. 기존 파일을 사용합니다.\n",
      "MO_PM_bollinger.png 이미 존재합니다. 기존 파일을 사용합니다.\n"
     ]
    }
   ],
   "source": [
    "\n",
    "\n",
    "# 산업군별 안정적인 페어에 대한 볼린저 밴드 그래프 출력 함수\n",
    "def all_bollinger_bands(data_func, stable_pairs_df, start_date, end_date, output_folder=\"./bollinger_band\"):\n",
    "    # 출력 폴더 생성\n",
    "    if not os.path.exists(output_folder):\n",
    "        os.makedirs(output_folder)\n",
    "\n",
    "    for _, row in stable_pairs_df.iterrows():\n",
    "        try:\n",
    "            # 그래프 파일 경로 설정\n",
    "            file_name = f\"{row['Ticker 1']}_{row['Ticker 2']}_bollinger.png\"\n",
    "            file_path = os.path.join(output_folder, file_name)\n",
    "\n",
    "            # 그래프 파일 존재 여부 확인\n",
    "            if os.path.exists(file_path):\n",
    "                print(f\"{file_name} 이미 존재합니다. 기존 파일을 사용합니다.\")\n",
    "                continue  # 이미 존재하면 건너뜀\n",
    "\n",
    "\n",
    "            data = data_func([row['Ticker 1'], row['Ticker 2']], start_date=start_date, end_date=end_date)\n",
    "            _, residuals = calculate_p_value(data, row['Ticker 1'], row['Ticker 2'])\n",
    "            if residuals is not None:\n",
    "                # 수정된 그래프 함수 호출 및 저장\n",
    "                plot_bollinger_bands(residuals, row['Ticker 1'], row['Ticker 2'], save_path=file_path)\n",
    "                print(f\"{file_name} 그래프 생성 및 저장 완료.\")\n",
    "                \n",
    "            else:\n",
    "                print(f\"No residuals data available for {row['Ticker 1']} and {row['Ticker 2']}. Skipping.\")\n",
    "        except Exception as e:\n",
    "            print(f\"Error processing {row['Ticker 1']} and {row['Ticker 2']}: {e}\")\n",
    "\n",
    "\n",
    "# 안정적인 페어에 대해 볼린저 밴드 그래프 출력\n",
    "all_bollinger_bands(get_data, stable_pairs_df, start_date=\"2023-01-01\", end_date=\"2023-12-31\")"
   ]
  },
  {
   "cell_type": "markdown",
   "metadata": {},
   "source": [
    "## 동적 선택을 통한 페어 분석 함수"
   ]
  },
  {
   "cell_type": "code",
   "execution_count": 53,
   "metadata": {},
   "outputs": [
    {
     "data": {
      "text/plain": [
       "'\\ndef analyze_by_selection(selection_type, selection_name, start_date, end_date):\\n    if selection_type == \"sector\":\\n        # 선택한 섹터로 분석\\n        tickers = top_by_sector.loc[selection_name][\\'Symbol\\'].tolist()\\n        data_func = get_data\\n    elif selection_type == \"industry\":\\n        # 선택한 산업군으로 분석\\n        tickers = all_per_industry.loc[selection_name][\\'Symbol\\'].tolist()  # 산업군 선택\\n        data_func = get_data\\n    else:\\n        print(\"올바르지 않은 선택입니다. 섹터 또는 산업군을 입력하세요.\")\\n        return\\n\\n    # 페어 분석 수행\\n    select_stable_pair(data_func, tickers, start_date, end_date)\\n\\n\\n#사용자 선택 기반 페어 분석 실행\\nselection_type = input(\"분석하려는 선택을 입력하세요 (sector or industry): \")\\nselection_name = input(\"분석할 섹터 또는 산업군의 이름을 입력하세요: \")\\nanalyze_by_selection(selection_type, selection_name, start_date=\"2020-01-01\", end_date=\"2023-01-01\")\\n'"
      ]
     },
     "execution_count": 53,
     "metadata": {},
     "output_type": "execute_result"
    }
   ],
   "source": [
    "\n",
    "'''\n",
    "def analyze_by_selection(selection_type, selection_name, start_date, end_date):\n",
    "    if selection_type == \"sector\":\n",
    "        # 선택한 섹터로 분석\n",
    "        tickers = top_by_sector.loc[selection_name]['Symbol'].tolist()\n",
    "        data_func = get_data\n",
    "    elif selection_type == \"industry\":\n",
    "        # 선택한 산업군으로 분석\n",
    "        tickers = all_per_industry.loc[selection_name]['Symbol'].tolist()  # 산업군 선택\n",
    "        data_func = get_data\n",
    "    else:\n",
    "        print(\"올바르지 않은 선택입니다. 섹터 또는 산업군을 입력하세요.\")\n",
    "        return\n",
    "\n",
    "    # 페어 분석 수행\n",
    "    select_stable_pair(data_func, tickers, start_date, end_date)\n",
    "\n",
    "\n",
    "#사용자 선택 기반 페어 분석 실행\n",
    "selection_type = input(\"분석하려는 선택을 입력하세요 (sector or industry): \")\n",
    "selection_name = input(\"분석할 섹터 또는 산업군의 이름을 입력하세요: \")\n",
    "analyze_by_selection(selection_type, selection_name, start_date=\"2020-01-01\", end_date=\"2023-01-01\")\n",
    "'''"
   ]
  },
  {
   "cell_type": "markdown",
   "metadata": {},
   "source": [
    "## 데이터 모니터링"
   ]
  },
  {
   "cell_type": "code",
   "execution_count": 54,
   "metadata": {},
   "outputs": [
    {
     "data": {
      "text/plain": [
       "'\\n# 산업군별 안정적 페어를 저장하는 딕셔너리\\nstable_pairs = {}\\n\\n# p-value를 계산하는 함수\\ndef check_p_value(data_func, ticker1, ticker2, start_date, end_date):\\n    data = data_func([ticker1, ticker2], start_date=start_date, end_date=end_date)\\n    p_value, _ = calculate_p_value(data, ticker1, ticker2)\\n    return p_value\\n\\n# 산업군별로 초기 안정적 페어 찾기\\ndef initialize_stable_pairs(industry_tickers, data_func, start_date, end_date):\\n    stable_pair = select_stable_pair(data_func, industry_tickers, start_date, end_date)\\n    if stable_pair:\\n        stable_pairs[stable_pair] = check_p_value(data_func, stable_pair[0], stable_pair[1], start_date, end_date)\\n\\n# 주기적으로 안정적 페어를 모니터링하는 함수\\ndef monitor_stable_pairs(data_func, start_date, end_date, adf_threshold=0.05, interval=3600):\\n    while True:\\n        print(\"Monitoring stable pairs...\")\\n        for pair in list(stable_pairs.keys()):\\n            ticker1, ticker2 = pair\\n            p_value = check_p_value(data_func, ticker1, ticker2, start_date, end_date)\\n\\n            if p_value is None:\\n                print(f\"Data for pair {ticker1} and {ticker2} is missing. Skipping...\")\\n                continue\\n\\n            print(f\"Current p-value for {ticker1} and {ticker2}: {p_value}\")\\n            if p_value > adf_threshold:\\n                print(f\"p-value for {pair} exceeded threshold. Re-evaluating pairs for this industry...\")\\n                \\n                # 산업군 내 새로운 페어 찾기\\n                industry_tickers = all_per_industry.loc[industry].Symbol.tolist()  # 예시: 해당 산업군에 대한 티커 리스트\\n                new_stable_pair = select_stable_pair(data_func, industry_tickers, start_date, end_date)\\n                \\n                if new_stable_pair:\\n                    stable_pairs[new_stable_pair] = check_p_value(data_func, new_stable_pair[0], new_stable_pair[1], start_date, end_date)\\n                    print(f\"Updated stable pair for {industry}: {new_stable_pair} with p-value {stable_pairs[new_stable_pair]}\")\\n                \\n                # 기존 페어 제거\\n                del stable_pairs[pair]\\n\\n        # 일정 시간 대기 후 다시 체크\\n        time.sleep(interval)\\n\\n# 예시 실행 코드\\nindustry_name = \"your_industry_name\"\\nindustry_tickers = all_per_industry.loc[industry_name][\\'Symbol\\'].tolist()\\ndata_func = get_data\\n\\n# 초기 페어를 찾고 안정적인 페어를 모니터링\\ninitialize_stable_pairs(industry_tickers, data_func, start_date=\"2020-01-01\", end_date=\"2023-01-01\")\\nmonitor_stable_pairs(data_func, start_date=\"2020-01-01\", end_date=\"2023-01-01\")\\n'"
      ]
     },
     "execution_count": 54,
     "metadata": {},
     "output_type": "execute_result"
    }
   ],
   "source": [
    "'''\n",
    "# 산업군별 안정적 페어를 저장하는 딕셔너리\n",
    "stable_pairs = {}\n",
    "\n",
    "# p-value를 계산하는 함수\n",
    "def check_p_value(data_func, ticker1, ticker2, start_date, end_date):\n",
    "    data = data_func([ticker1, ticker2], start_date=start_date, end_date=end_date)\n",
    "    p_value, _ = calculate_p_value(data, ticker1, ticker2)\n",
    "    return p_value\n",
    "\n",
    "# 산업군별로 초기 안정적 페어 찾기\n",
    "def initialize_stable_pairs(industry_tickers, data_func, start_date, end_date):\n",
    "    stable_pair = select_stable_pair(data_func, industry_tickers, start_date, end_date)\n",
    "    if stable_pair:\n",
    "        stable_pairs[stable_pair] = check_p_value(data_func, stable_pair[0], stable_pair[1], start_date, end_date)\n",
    "\n",
    "# 주기적으로 안정적 페어를 모니터링하는 함수\n",
    "def monitor_stable_pairs(data_func, start_date, end_date, adf_threshold=0.05, interval=3600):\n",
    "    while True:\n",
    "        print(\"Monitoring stable pairs...\")\n",
    "        for pair in list(stable_pairs.keys()):\n",
    "            ticker1, ticker2 = pair\n",
    "            p_value = check_p_value(data_func, ticker1, ticker2, start_date, end_date)\n",
    "\n",
    "            if p_value is None:\n",
    "                print(f\"Data for pair {ticker1} and {ticker2} is missing. Skipping...\")\n",
    "                continue\n",
    "\n",
    "            print(f\"Current p-value for {ticker1} and {ticker2}: {p_value}\")\n",
    "            if p_value > adf_threshold:\n",
    "                print(f\"p-value for {pair} exceeded threshold. Re-evaluating pairs for this industry...\")\n",
    "                \n",
    "                # 산업군 내 새로운 페어 찾기\n",
    "                industry_tickers = all_per_industry.loc[industry].Symbol.tolist()  # 예시: 해당 산업군에 대한 티커 리스트\n",
    "                new_stable_pair = select_stable_pair(data_func, industry_tickers, start_date, end_date)\n",
    "                \n",
    "                if new_stable_pair:\n",
    "                    stable_pairs[new_stable_pair] = check_p_value(data_func, new_stable_pair[0], new_stable_pair[1], start_date, end_date)\n",
    "                    print(f\"Updated stable pair for {industry}: {new_stable_pair} with p-value {stable_pairs[new_stable_pair]}\")\n",
    "                \n",
    "                # 기존 페어 제거\n",
    "                del stable_pairs[pair]\n",
    "\n",
    "        # 일정 시간 대기 후 다시 체크\n",
    "        time.sleep(interval)\n",
    "\n",
    "# 예시 실행 코드\n",
    "industry_name = \"your_industry_name\"\n",
    "industry_tickers = all_per_industry.loc[industry_name]['Symbol'].tolist()\n",
    "data_func = get_data\n",
    "\n",
    "# 초기 페어를 찾고 안정적인 페어를 모니터링\n",
    "initialize_stable_pairs(industry_tickers, data_func, start_date=\"2020-01-01\", end_date=\"2023-01-01\")\n",
    "monitor_stable_pairs(data_func, start_date=\"2020-01-01\", end_date=\"2023-01-01\")\n",
    "'''"
   ]
  },
  {
   "cell_type": "code",
   "execution_count": null,
   "metadata": {},
   "outputs": [],
   "source": []
  },
  {
   "cell_type": "markdown",
   "metadata": {},
   "source": [
    "# 백테스트"
   ]
  },
  {
   "cell_type": "markdown",
   "metadata": {},
   "source": [
    "## 데이터 준비"
   ]
  },
  {
   "cell_type": "code",
   "execution_count": 62,
   "metadata": {},
   "outputs": [
    {
     "name": "stdout",
     "output_type": "stream",
     "text": [
      "기존 백테스트 데이터를 로드합니다.\n",
      "HAL 데이터가 이미 존재합니다. 건너뜁니다.\n",
      "GE 데이터가 이미 존재합니다. 건너뜁니다.\n",
      "PSA 데이터가 이미 존재합니다. 건너뜁니다.\n",
      "LVS 데이터가 이미 존재합니다. 건너뜁니다.\n",
      "MO 데이터가 이미 존재합니다. 건너뜁니다.\n",
      "ACGL 데이터가 이미 존재합니다. 건너뜁니다.\n",
      "BMY 데이터가 이미 존재합니다. 건너뜁니다.\n",
      "MRO 데이터가 이미 존재합니다. 건너뜁니다.\n",
      "WBD 데이터가 이미 존재합니다. 건너뜁니다.\n",
      "AIZ 데이터가 이미 존재합니다. 건너뜁니다.\n",
      "ITW 데이터가 이미 존재합니다. 건너뜁니다.\n",
      "HBAN 데이터가 이미 존재합니다. 건너뜁니다.\n",
      "BEN 데이터가 이미 존재합니다. 건너뜁니다.\n",
      "PFE 데이터가 이미 존재합니다. 건너뜁니다.\n",
      "WYNN 데이터가 이미 존재합니다. 건너뜁니다.\n",
      "DGX 데이터가 이미 존재합니다. 건너뜁니다.\n",
      "CAH 데이터가 이미 존재합니다. 건너뜁니다.\n",
      "WMB 데이터가 이미 존재합니다. 건너뜁니다.\n",
      "ADP 데이터가 이미 존재합니다. 건너뜁니다.\n",
      "FOXA 데이터가 이미 존재합니다. 건너뜁니다.\n",
      "ETN 데이터가 이미 존재합니다. 건너뜁니다.\n",
      "PTC 데이터가 이미 존재합니다. 건너뜁니다.\n",
      "ABT 데이터가 이미 존재합니다. 건너뜁니다.\n",
      "BRO 데이터가 이미 존재합니다. 건너뜁니다.\n",
      "CTSH 데이터가 이미 존재합니다. 건너뜁니다.\n",
      "EBAY 데이터가 이미 존재합니다. 건너뜁니다.\n",
      "BAX 데이터가 이미 존재합니다. 건너뜁니다.\n",
      "HWM 데이터가 이미 존재합니다. 건너뜁니다.\n",
      "ZBRA 데이터가 이미 존재합니다. 건너뜁니다.\n",
      "LKQ 데이터가 이미 존재합니다. 건너뜁니다.\n",
      "LYB 데이터가 이미 존재합니다. 건너뜁니다.\n",
      "JNPR 데이터가 이미 존재합니다. 건너뜁니다.\n",
      "PARA 데이터가 이미 존재합니다. 건너뜁니다.\n",
      "LUV 데이터가 이미 존재합니다. 건너뜁니다.\n",
      "ELV 데이터가 이미 존재합니다. 건너뜁니다.\n",
      "SYF 데이터가 이미 존재합니다. 건너뜁니다.\n",
      "CTVA 데이터가 이미 존재합니다. 건너뜁니다.\n",
      "DPZ 데이터가 이미 존재합니다. 건너뜁니다.\n",
      "FICO 데이터가 이미 존재합니다. 건너뜁니다.\n",
      "AMAT 데이터가 이미 존재합니다. 건너뜁니다.\n",
      "SJM 데이터가 이미 존재합니다. 건너뜁니다.\n",
      "MMC 데이터가 이미 존재합니다. 건너뜁니다.\n",
      "META 데이터가 이미 존재합니다. 건너뜁니다.\n",
      "EL 데이터가 이미 존재합니다. 건너뜁니다.\n",
      "TGT 데이터가 이미 존재합니다. 건너뜁니다.\n",
      "TRGP 데이터가 이미 존재합니다. 건너뜁니다.\n",
      "EOG 데이터가 이미 존재합니다. 건너뜁니다.\n",
      "OTIS 데이터가 이미 존재합니다. 건너뜁니다.\n",
      "IVZ 데이터가 이미 존재합니다. 건너뜁니다.\n",
      "MS 데이터가 이미 존재합니다. 건너뜁니다.\n",
      "FMC 데이터가 이미 존재합니다. 건너뜁니다.\n",
      "PNC 데이터가 이미 존재합니다. 건너뜁니다.\n",
      "USB 데이터가 이미 존재합니다. 건너뜁니다.\n",
      "TSCO 데이터가 이미 존재합니다. 건너뜁니다.\n",
      "EXR 데이터가 이미 존재합니다. 건너뜁니다.\n",
      "ACN 데이터가 이미 존재합니다. 건너뜁니다.\n",
      "ETR 데이터가 이미 존재합니다. 건너뜁니다.\n",
      "CRL 데이터가 이미 존재합니다. 건너뜁니다.\n",
      "CFG 데이터가 이미 존재합니다. 건너뜁니다.\n",
      "GPC 데이터가 이미 존재합니다. 건너뜁니다.\n",
      "DHR 데이터가 이미 존재합니다. 건너뜁니다.\n",
      "SCHW 데이터가 이미 존재합니다. 건너뜁니다.\n",
      "MU 데이터가 이미 존재합니다. 건너뜁니다.\n",
      "COF 데이터가 이미 존재합니다. 건너뜁니다.\n",
      "PPL 데이터가 이미 존재합니다. 건너뜁니다.\n",
      "LEN 데이터가 이미 존재합니다. 건너뜁니다.\n",
      "DIS 데이터가 이미 존재합니다. 건너뜁니다.\n",
      "SLB 데이터가 이미 존재합니다. 건너뜁니다.\n",
      "GOOGL 데이터가 이미 존재합니다. 건너뜁니다.\n",
      "UAL 데이터가 이미 존재합니다. 건너뜁니다.\n",
      "CINF 데이터가 이미 존재합니다. 건너뜁니다.\n",
      "CHRW 데이터가 이미 존재합니다. 건너뜁니다.\n",
      "NDAQ 데이터가 이미 존재합니다. 건너뜁니다.\n",
      "LRCX 데이터가 이미 존재합니다. 건너뜁니다.\n",
      "DD 데이터가 이미 존재합니다. 건너뜁니다.\n",
      "COR 데이터가 이미 존재합니다. 건너뜁니다.\n",
      "INTC 데이터가 이미 존재합니다. 건너뜁니다.\n",
      "L 데이터가 이미 존재합니다. 건너뜁니다.\n",
      "XOM 데이터가 이미 존재합니다. 건너뜁니다.\n",
      "ANET 데이터가 이미 존재합니다. 건너뜁니다.\n",
      "EMR 데이터가 이미 존재합니다. 건너뜁니다.\n",
      "CNC 데이터가 이미 존재합니다. 건너뜁니다.\n",
      "AMZN 데이터가 이미 존재합니다. 건너뜁니다.\n",
      "CVX 데이터가 이미 존재합니다. 건너뜁니다.\n",
      "LH 데이터가 이미 존재합니다. 건너뜁니다.\n",
      "KVUE 데이터가 이미 존재합니다. 건너뜁니다.\n",
      "GILD 데이터가 이미 존재합니다. 건너뜁니다.\n",
      "NI 데이터가 이미 존재합니다. 건너뜁니다.\n",
      "DHI 데이터가 이미 존재합니다. 건너뜁니다.\n",
      "FDX 데이터가 이미 존재합니다. 건너뜁니다.\n",
      "DAY 데이터가 이미 존재합니다. 건너뜁니다.\n",
      "K 데이터가 이미 존재합니다. 건너뜁니다.\n",
      "WMT 데이터가 이미 존재합니다. 건너뜁니다.\n",
      "MKTX 데이터가 이미 존재합니다. 건너뜁니다.\n",
      "KEYS 데이터가 이미 존재합니다. 건너뜁니다.\n",
      "ABBV 데이터가 이미 존재합니다. 건너뜁니다.\n",
      "SBUX 데이터가 이미 존재합니다. 건너뜁니다.\n",
      "ULTA 데이터가 이미 존재합니다. 건너뜁니다.\n",
      "PM 데이터가 이미 존재합니다. 건너뜁니다.\n",
      "CNP 데이터가 이미 존재합니다. 건너뜁니다.\n",
      "추가 다운로드한 데이터가 없음\n"
     ]
    }
   ],
   "source": [
    "if os.path.exists(\"./backtest_csv/backtest_data.csv\"):\n",
    "    print(\"기존 백테스트 데이터를 로드합니다.\")\n",
    "    backtest_data_df = pd.read_csv(\"./backtest_csv/backtest_data.csv\")\n",
    "    existing_tickers = set(backtest_data_df[\"Ticker\"].unique())\n",
    "else:\n",
    "    print(\"백테스트 데이터가 없습니다. 새로 다운로드를 시작합니다.\")\n",
    "    backtest_data_df = pd.DataFrame()\n",
    "    existing_tickers = set()\n",
    "\n",
    "# 테이블에서 종목 리스트 가져오기\n",
    "tickers_list = list(set(stable_pairs_df[\"Ticker 1\"].tolist() + stable_pairs_df[\"Ticker 2\"].tolist()))\n",
    "\n",
    "# 데이터 다운로드 및 저장\n",
    "backtest_data = []\n",
    "for ticker in tickers_list:\n",
    "    if ticker in tickers_list:\n",
    "        print(f\"{ticker} 데이터가 이미 존재합니다. 건너뜁니다.\")\n",
    "        continue\n",
    "\n",
    "    data = yf.download(ticker, start=\"2024-01-01\", end=\"2024-06-30\")\n",
    "    # 데이터 비어있으면 건너뛰기\n",
    "    if data.empty:\n",
    "        print(f\"Data for {ticker} is empty. Skipping.\")\n",
    "        continue\n",
    "    data.reset_index(inplace=True)#인덱스 초기화\n",
    "    data[\"Ticker\"] = ticker#티커추가\n",
    "\n",
    "    # 안정적 페어와의 연결성 추가: Pair 열 생성\n",
    "    data[\"Pair\"] = stable_pairs_df.loc[\n",
    "        (stable_pairs_df[\"Ticker 1\"] == ticker) | (stable_pairs_df[\"Ticker 2\"] == ticker), \n",
    "        [\"Ticker 1\", \"Ticker 2\"]\n",
    "    ].apply(lambda x: f\"{x['Ticker 1']}-{x['Ticker 2']}\", axis=1).values[0]\n",
    "\n",
    "    backtest_data.append(data)\n",
    "\n",
    "    data.to_csv(f\"./backtest_csv/{ticker}_backtest.csv\", index=False)\n",
    "\n",
    "if backtest_data:\n",
    "    new_backtest_data_df = pd.concat(backtest_data, axis=0)\n",
    "    # 모든 데이터를 하나의 DataFrame으로 병합\n",
    "    backtest_data_df = pd.concat([backtest_data_df, new_backtest_data_df], axis=0)\n",
    "\n",
    "    # 필요한 열만 선택 (보기 좋게 정리)\n",
    "    backtest_data_df = backtest_data_df[[\"Pair\", \"Ticker\", \"Date\", \"Open\", \"High\", \"Low\", \"Close\", \"Adj Close\", \"Volume\"]]\n",
    "\n",
    "    # 백테스트 데이터를 테이블로 저장\n",
    "    backtest_data_df.to_csv(\"./backtest_csv/backtest_data.csv\", index=False)\n",
    "    print(\"백테스트 데이터 저장 완료.\")\n",
    "else:\n",
    "    print(\"추가 다운로드한 데이터가 없음\")\n",
    "\n",
    "\n"
   ]
  },
  {
   "cell_type": "markdown",
   "metadata": {},
   "source": [
    "## 안정적 페어 테이블과 백테스트 데이터 일치 여부 확인"
   ]
  },
  {
   "cell_type": "code",
   "execution_count": 56,
   "metadata": {},
   "outputs": [
    {
     "name": "stdout",
     "output_type": "stream",
     "text": [
      "일치 여부: True\n"
     ]
    }
   ],
   "source": [
    "# 안정적 페어와 백테스트 데이터의 페어 비교\n",
    "stable_pairs_set = set(stable_pairs_df[\"Ticker 1\"] + \"-\" + stable_pairs_df[\"Ticker 2\"])\n",
    "backtest_pairs_set = set(backtest_data_df[\"Pair\"].unique())\n",
    "\n",
    "print(\"일치 여부:\", stable_pairs_set == backtest_pairs_set)\n",
    "if stable_pairs_set != backtest_pairs_set:\n",
    "    print(\"안정적 페어에만 있는 페어:\", stable_pairs_set - backtest_pairs_set)\n",
    "    print(\"백테스트에만 있는 페어:\", backtest_pairs_set - stable_pairs_set)\n"
   ]
  },
  {
   "cell_type": "markdown",
   "metadata": {},
   "source": [
    "## 데이터 누락 시 함수"
   ]
  },
  {
   "cell_type": "code",
   "execution_count": 57,
   "metadata": {},
   "outputs": [],
   "source": [
    "import datetime\n",
    "import time\n",
    "\n",
    "def validate_data(file_path,start_date, end_date):\n",
    "    if not os.path.exists(file_path):\n",
    "        print(f\"Data file {file_path} is missing.\")\n",
    "        return False\n",
    "    try:\n",
    "        #run_backtest에서 사용하는 데이터가 \n",
    "        #실제 백테스트 기간(2024-01-01부터 2024-06-30)에 맞는지 확인\n",
    "        df = pd.read_csv(file_path, parse_dates=['Date'])\n",
    "        if df.empty:\n",
    "            print(f\"Data file {file_path} is empty.\")\n",
    "            return False\n",
    "        # print(pd.to_datetime(df['Date']).min().timestamp(), time.mktime(datetime.datetime.strptime(start_date, \"%Y-%m-%d\").timetuple()))\n",
    "        # if  pd.to_datetime(df['Date']).min().timestamp() > time.mktime(datetime.datetime.strptime(start_date, \"%Y-%m-%d\").timetuple()) or \\\n",
    "        #     pd.to_datetime(df['Date']).max().timestamp() < time.mktime(datetime.datetime.strptime(end_date, \"%Y-%m-%d\").timetuple()):\n",
    "        #     print(f\"Data file {file_path} does not cover the required date range {start_date} to {end_date}.\")\n",
    "        #     return False\n",
    "    except Exception as e:\n",
    "        print(f\"Error reading {file_path}: {e}\")\n",
    "        return False\n",
    "    return True\n"
   ]
  },
  {
   "cell_type": "markdown",
   "metadata": {},
   "source": [
    "## 백테스트 전략 구현"
   ]
  },
  {
   "cell_type": "code",
   "execution_count": 63,
   "metadata": {},
   "outputs": [
    {
     "name": "stderr",
     "output_type": "stream",
     "text": [
      "C:\\Users\\eujin\\AppData\\Local\\Packages\\PythonSoftwareFoundation.Python.3.12_qbz5n2kfra8p0\\LocalCache\\local-packages\\Python312\\site-packages\\backtrader\\plot\\plot.py:821: UserWarning: FigureCanvasAgg is non-interactive, and thus cannot be shown\n",
      "  self.mpyplot.show()\n"
     ]
    },
    {
     "name": "stdout",
     "output_type": "stream",
     "text": [
      "GE-HWM 백테스트 완료\n",
      "success start, GE - HWM\n"
     ]
    },
    {
     "name": "stderr",
     "output_type": "stream",
     "text": [
      "C:\\Users\\eujin\\AppData\\Local\\Packages\\PythonSoftwareFoundation.Python.3.12_qbz5n2kfra8p0\\LocalCache\\local-packages\\Python312\\site-packages\\backtrader\\plot\\plot.py:821: UserWarning: FigureCanvasAgg is non-interactive, and thus cannot be shown\n",
      "  self.mpyplot.show()\n"
     ]
    },
    {
     "name": "stdout",
     "output_type": "stream",
     "text": [
      "CHRW-FDX 백테스트 완료\n",
      "success start, CHRW - FDX\n"
     ]
    },
    {
     "name": "stderr",
     "output_type": "stream",
     "text": [
      "C:\\Users\\eujin\\AppData\\Local\\Packages\\PythonSoftwareFoundation.Python.3.12_qbz5n2kfra8p0\\LocalCache\\local-packages\\Python312\\site-packages\\backtrader\\plot\\plot.py:821: UserWarning: FigureCanvasAgg is non-interactive, and thus cannot be shown\n",
      "  self.mpyplot.show()\n"
     ]
    },
    {
     "name": "stdout",
     "output_type": "stream",
     "text": [
      "FICO-PTC 백테스트 완료\n",
      "success start, FICO - PTC\n"
     ]
    },
    {
     "name": "stderr",
     "output_type": "stream",
     "text": [
      "C:\\Users\\eujin\\AppData\\Local\\Packages\\PythonSoftwareFoundation.Python.3.12_qbz5n2kfra8p0\\LocalCache\\local-packages\\Python312\\site-packages\\backtrader\\plot\\plot.py:821: UserWarning: FigureCanvasAgg is non-interactive, and thus cannot be shown\n",
      "  self.mpyplot.show()\n"
     ]
    },
    {
     "name": "stdout",
     "output_type": "stream",
     "text": [
      "BEN-IVZ 백테스트 완료\n",
      "success start, BEN - IVZ\n"
     ]
    },
    {
     "name": "stderr",
     "output_type": "stream",
     "text": [
      "C:\\Users\\eujin\\AppData\\Local\\Packages\\PythonSoftwareFoundation.Python.3.12_qbz5n2kfra8p0\\LocalCache\\local-packages\\Python312\\site-packages\\backtrader\\plot\\plot.py:821: UserWarning: FigureCanvasAgg is non-interactive, and thus cannot be shown\n",
      "  self.mpyplot.show()\n"
     ]
    },
    {
     "name": "stdout",
     "output_type": "stream",
     "text": [
      "ABBV-GILD 백테스트 완료\n",
      "success start, ABBV - GILD\n"
     ]
    },
    {
     "name": "stderr",
     "output_type": "stream",
     "text": [
      "C:\\Users\\eujin\\AppData\\Local\\Packages\\PythonSoftwareFoundation.Python.3.12_qbz5n2kfra8p0\\LocalCache\\local-packages\\Python312\\site-packages\\backtrader\\plot\\plot.py:821: UserWarning: FigureCanvasAgg is non-interactive, and thus cannot be shown\n",
      "  self.mpyplot.show()\n"
     ]
    },
    {
     "name": "stdout",
     "output_type": "stream",
     "text": [
      "FOXA-WBD 백테스트 완료\n",
      "success start, FOXA - WBD\n"
     ]
    },
    {
     "name": "stderr",
     "output_type": "stream",
     "text": [
      "C:\\Users\\eujin\\AppData\\Local\\Packages\\PythonSoftwareFoundation.Python.3.12_qbz5n2kfra8p0\\LocalCache\\local-packages\\Python312\\site-packages\\backtrader\\plot\\plot.py:821: UserWarning: FigureCanvasAgg is non-interactive, and thus cannot be shown\n",
      "  self.mpyplot.show()\n"
     ]
    },
    {
     "name": "stdout",
     "output_type": "stream",
     "text": [
      "AMZN-EBAY 백테스트 완료\n",
      "success start, AMZN - EBAY\n"
     ]
    },
    {
     "name": "stderr",
     "output_type": "stream",
     "text": [
      "C:\\Users\\eujin\\AppData\\Local\\Packages\\PythonSoftwareFoundation.Python.3.12_qbz5n2kfra8p0\\LocalCache\\local-packages\\Python312\\site-packages\\backtrader\\plot\\plot.py:821: UserWarning: FigureCanvasAgg is non-interactive, and thus cannot be shown\n",
      "  self.mpyplot.show()\n"
     ]
    },
    {
     "name": "stdout",
     "output_type": "stream",
     "text": [
      "LVS-WYNN 백테스트 완료\n",
      "success start, LVS - WYNN\n"
     ]
    },
    {
     "name": "stderr",
     "output_type": "stream",
     "text": [
      "C:\\Users\\eujin\\AppData\\Local\\Packages\\PythonSoftwareFoundation.Python.3.12_qbz5n2kfra8p0\\LocalCache\\local-packages\\Python312\\site-packages\\backtrader\\plot\\plot.py:821: UserWarning: FigureCanvasAgg is non-interactive, and thus cannot be shown\n",
      "  self.mpyplot.show()\n"
     ]
    },
    {
     "name": "stdout",
     "output_type": "stream",
     "text": [
      "ANET-JNPR 백테스트 완료\n",
      "success start, ANET - JNPR\n"
     ]
    },
    {
     "name": "stderr",
     "output_type": "stream",
     "text": [
      "C:\\Users\\eujin\\AppData\\Local\\Packages\\PythonSoftwareFoundation.Python.3.12_qbz5n2kfra8p0\\LocalCache\\local-packages\\Python312\\site-packages\\backtrader\\plot\\plot.py:821: UserWarning: FigureCanvasAgg is non-interactive, and thus cannot be shown\n",
      "  self.mpyplot.show()\n"
     ]
    },
    {
     "name": "stdout",
     "output_type": "stream",
     "text": [
      "COF-SYF 백테스트 완료\n",
      "success start, COF - SYF\n"
     ]
    },
    {
     "name": "stderr",
     "output_type": "stream",
     "text": [
      "C:\\Users\\eujin\\AppData\\Local\\Packages\\PythonSoftwareFoundation.Python.3.12_qbz5n2kfra8p0\\LocalCache\\local-packages\\Python312\\site-packages\\backtrader\\plot\\plot.py:821: UserWarning: FigureCanvasAgg is non-interactive, and thus cannot be shown\n",
      "  self.mpyplot.show()\n"
     ]
    },
    {
     "name": "stdout",
     "output_type": "stream",
     "text": [
      "TGT-WMT 백테스트 완료\n",
      "success start, TGT - WMT\n"
     ]
    },
    {
     "name": "stderr",
     "output_type": "stream",
     "text": [
      "C:\\Users\\eujin\\AppData\\Local\\Packages\\PythonSoftwareFoundation.Python.3.12_qbz5n2kfra8p0\\LocalCache\\local-packages\\Python312\\site-packages\\backtrader\\plot\\plot.py:821: UserWarning: FigureCanvasAgg is non-interactive, and thus cannot be shown\n",
      "  self.mpyplot.show()\n"
     ]
    },
    {
     "name": "stdout",
     "output_type": "stream",
     "text": [
      "GPC-LKQ 백테스트 완료\n",
      "success start, GPC - LKQ\n"
     ]
    },
    {
     "name": "stderr",
     "output_type": "stream",
     "text": [
      "C:\\Users\\eujin\\AppData\\Local\\Packages\\PythonSoftwareFoundation.Python.3.12_qbz5n2kfra8p0\\LocalCache\\local-packages\\Python312\\site-packages\\backtrader\\plot\\plot.py:821: UserWarning: FigureCanvasAgg is non-interactive, and thus cannot be shown\n",
      "  self.mpyplot.show()\n"
     ]
    },
    {
     "name": "stdout",
     "output_type": "stream",
     "text": [
      "PNC-USB 백테스트 완료\n",
      "success start, PNC - USB\n"
     ]
    },
    {
     "name": "stderr",
     "output_type": "stream",
     "text": [
      "C:\\Users\\eujin\\AppData\\Local\\Packages\\PythonSoftwareFoundation.Python.3.12_qbz5n2kfra8p0\\LocalCache\\local-packages\\Python312\\site-packages\\backtrader\\plot\\plot.py:821: UserWarning: FigureCanvasAgg is non-interactive, and thus cannot be shown\n",
      "  self.mpyplot.show()\n"
     ]
    },
    {
     "name": "stdout",
     "output_type": "stream",
     "text": [
      "ETR-PPL 백테스트 완료\n",
      "success start, ETR - PPL\n"
     ]
    },
    {
     "name": "stderr",
     "output_type": "stream",
     "text": [
      "C:\\Users\\eujin\\AppData\\Local\\Packages\\PythonSoftwareFoundation.Python.3.12_qbz5n2kfra8p0\\LocalCache\\local-packages\\Python312\\site-packages\\backtrader\\plot\\plot.py:821: UserWarning: FigureCanvasAgg is non-interactive, and thus cannot be shown\n",
      "  self.mpyplot.show()\n"
     ]
    },
    {
     "name": "stdout",
     "output_type": "stream",
     "text": [
      "ETN-EMR 백테스트 완료\n",
      "success start, ETN - EMR\n"
     ]
    },
    {
     "name": "stderr",
     "output_type": "stream",
     "text": [
      "C:\\Users\\eujin\\AppData\\Local\\Packages\\PythonSoftwareFoundation.Python.3.12_qbz5n2kfra8p0\\LocalCache\\local-packages\\Python312\\site-packages\\backtrader\\plot\\plot.py:821: UserWarning: FigureCanvasAgg is non-interactive, and thus cannot be shown\n",
      "  self.mpyplot.show()\n"
     ]
    },
    {
     "name": "stdout",
     "output_type": "stream",
     "text": [
      "KEYS-ZBRA 백테스트 완료\n",
      "success start, KEYS - ZBRA\n"
     ]
    },
    {
     "name": "stderr",
     "output_type": "stream",
     "text": [
      "C:\\Users\\eujin\\AppData\\Local\\Packages\\PythonSoftwareFoundation.Python.3.12_qbz5n2kfra8p0\\LocalCache\\local-packages\\Python312\\site-packages\\backtrader\\plot\\plot.py:821: UserWarning: FigureCanvasAgg is non-interactive, and thus cannot be shown\n",
      "  self.mpyplot.show()\n"
     ]
    },
    {
     "name": "stdout",
     "output_type": "stream",
     "text": [
      "CTVA-FMC 백테스트 완료\n",
      "success start, CTVA - FMC\n"
     ]
    },
    {
     "name": "stderr",
     "output_type": "stream",
     "text": [
      "C:\\Users\\eujin\\AppData\\Local\\Packages\\PythonSoftwareFoundation.Python.3.12_qbz5n2kfra8p0\\LocalCache\\local-packages\\Python312\\site-packages\\backtrader\\plot\\plot.py:821: UserWarning: FigureCanvasAgg is non-interactive, and thus cannot be shown\n",
      "  self.mpyplot.show()\n"
     ]
    },
    {
     "name": "stdout",
     "output_type": "stream",
     "text": [
      "MKTX-NDAQ 백테스트 완료\n",
      "success start, MKTX - NDAQ\n"
     ]
    },
    {
     "name": "stderr",
     "output_type": "stream",
     "text": [
      "C:\\Users\\eujin\\AppData\\Local\\Packages\\PythonSoftwareFoundation.Python.3.12_qbz5n2kfra8p0\\LocalCache\\local-packages\\Python312\\site-packages\\backtrader\\plot\\plot.py:821: UserWarning: FigureCanvasAgg is non-interactive, and thus cannot be shown\n",
      "  self.mpyplot.show()\n"
     ]
    },
    {
     "name": "stdout",
     "output_type": "stream",
     "text": [
      "CAH-COR 백테스트 완료\n",
      "success start, CAH - COR\n"
     ]
    },
    {
     "name": "stderr",
     "output_type": "stream",
     "text": [
      "C:\\Users\\eujin\\AppData\\Local\\Packages\\PythonSoftwareFoundation.Python.3.12_qbz5n2kfra8p0\\LocalCache\\local-packages\\Python312\\site-packages\\backtrader\\plot\\plot.py:821: UserWarning: FigureCanvasAgg is non-interactive, and thus cannot be shown\n",
      "  self.mpyplot.show()\n"
     ]
    },
    {
     "name": "stdout",
     "output_type": "stream",
     "text": [
      "ABT-BAX 백테스트 완료\n",
      "success start, ABT - BAX\n"
     ]
    },
    {
     "name": "stderr",
     "output_type": "stream",
     "text": [
      "C:\\Users\\eujin\\AppData\\Local\\Packages\\PythonSoftwareFoundation.Python.3.12_qbz5n2kfra8p0\\LocalCache\\local-packages\\Python312\\site-packages\\backtrader\\plot\\plot.py:821: UserWarning: FigureCanvasAgg is non-interactive, and thus cannot be shown\n",
      "  self.mpyplot.show()\n"
     ]
    },
    {
     "name": "stdout",
     "output_type": "stream",
     "text": [
      "LH-DGX 백테스트 완료\n",
      "success start, LH - DGX\n"
     ]
    },
    {
     "name": "stderr",
     "output_type": "stream",
     "text": [
      "C:\\Users\\eujin\\AppData\\Local\\Packages\\PythonSoftwareFoundation.Python.3.12_qbz5n2kfra8p0\\LocalCache\\local-packages\\Python312\\site-packages\\backtrader\\plot\\plot.py:821: UserWarning: FigureCanvasAgg is non-interactive, and thus cannot be shown\n",
      "  self.mpyplot.show()\n"
     ]
    },
    {
     "name": "stdout",
     "output_type": "stream",
     "text": [
      "DHI-LEN 백테스트 완료\n",
      "success start, DHI - LEN\n"
     ]
    },
    {
     "name": "stderr",
     "output_type": "stream",
     "text": [
      "C:\\Users\\eujin\\AppData\\Local\\Packages\\PythonSoftwareFoundation.Python.3.12_qbz5n2kfra8p0\\LocalCache\\local-packages\\Python312\\site-packages\\backtrader\\plot\\plot.py:821: UserWarning: FigureCanvasAgg is non-interactive, and thus cannot be shown\n",
      "  self.mpyplot.show()\n"
     ]
    },
    {
     "name": "stdout",
     "output_type": "stream",
     "text": [
      "ADP-DAY 백테스트 완료\n",
      "success start, ADP - DAY\n"
     ]
    },
    {
     "name": "stderr",
     "output_type": "stream",
     "text": [
      "C:\\Users\\eujin\\AppData\\Local\\Packages\\PythonSoftwareFoundation.Python.3.12_qbz5n2kfra8p0\\LocalCache\\local-packages\\Python312\\site-packages\\backtrader\\plot\\plot.py:821: UserWarning: FigureCanvasAgg is non-interactive, and thus cannot be shown\n",
      "  self.mpyplot.show()\n"
     ]
    },
    {
     "name": "stdout",
     "output_type": "stream",
     "text": [
      "ACN-CTSH 백테스트 완료\n",
      "success start, ACN - CTSH\n"
     ]
    },
    {
     "name": "stderr",
     "output_type": "stream",
     "text": [
      "C:\\Users\\eujin\\AppData\\Local\\Packages\\PythonSoftwareFoundation.Python.3.12_qbz5n2kfra8p0\\LocalCache\\local-packages\\Python312\\site-packages\\backtrader\\plot\\plot.py:821: UserWarning: FigureCanvasAgg is non-interactive, and thus cannot be shown\n",
      "  self.mpyplot.show()\n"
     ]
    },
    {
     "name": "stdout",
     "output_type": "stream",
     "text": [
      "ITW-OTIS 백테스트 완료\n",
      "success start, ITW - OTIS\n"
     ]
    },
    {
     "name": "stderr",
     "output_type": "stream",
     "text": [
      "C:\\Users\\eujin\\AppData\\Local\\Packages\\PythonSoftwareFoundation.Python.3.12_qbz5n2kfra8p0\\LocalCache\\local-packages\\Python312\\site-packages\\backtrader\\plot\\plot.py:821: UserWarning: FigureCanvasAgg is non-interactive, and thus cannot be shown\n",
      "  self.mpyplot.show()\n"
     ]
    },
    {
     "name": "stdout",
     "output_type": "stream",
     "text": [
      "BRO-MMC 백테스트 완료\n",
      "success start, BRO - MMC\n"
     ]
    },
    {
     "name": "stderr",
     "output_type": "stream",
     "text": [
      "C:\\Users\\eujin\\AppData\\Local\\Packages\\PythonSoftwareFoundation.Python.3.12_qbz5n2kfra8p0\\LocalCache\\local-packages\\Python312\\site-packages\\backtrader\\plot\\plot.py:821: UserWarning: FigureCanvasAgg is non-interactive, and thus cannot be shown\n",
      "  self.mpyplot.show()\n"
     ]
    },
    {
     "name": "stdout",
     "output_type": "stream",
     "text": [
      "CVX-XOM 백테스트 완료\n",
      "success start, CVX - XOM\n"
     ]
    },
    {
     "name": "stderr",
     "output_type": "stream",
     "text": [
      "C:\\Users\\eujin\\AppData\\Local\\Packages\\PythonSoftwareFoundation.Python.3.12_qbz5n2kfra8p0\\LocalCache\\local-packages\\Python312\\site-packages\\backtrader\\plot\\plot.py:821: UserWarning: FigureCanvasAgg is non-interactive, and thus cannot be shown\n",
      "  self.mpyplot.show()\n"
     ]
    },
    {
     "name": "stdout",
     "output_type": "stream",
     "text": [
      "GOOGL-META 백테스트 완료\n",
      "success start, GOOGL - META\n"
     ]
    },
    {
     "name": "stderr",
     "output_type": "stream",
     "text": [
      "C:\\Users\\eujin\\AppData\\Local\\Packages\\PythonSoftwareFoundation.Python.3.12_qbz5n2kfra8p0\\LocalCache\\local-packages\\Python312\\site-packages\\backtrader\\plot\\plot.py:821: UserWarning: FigureCanvasAgg is non-interactive, and thus cannot be shown\n",
      "  self.mpyplot.show()\n"
     ]
    },
    {
     "name": "stdout",
     "output_type": "stream",
     "text": [
      "SCHW-MS 백테스트 완료\n",
      "success start, SCHW - MS\n"
     ]
    },
    {
     "name": "stderr",
     "output_type": "stream",
     "text": [
      "C:\\Users\\eujin\\AppData\\Local\\Packages\\PythonSoftwareFoundation.Python.3.12_qbz5n2kfra8p0\\LocalCache\\local-packages\\Python312\\site-packages\\backtrader\\plot\\plot.py:821: UserWarning: FigureCanvasAgg is non-interactive, and thus cannot be shown\n",
      "  self.mpyplot.show()\n"
     ]
    },
    {
     "name": "stdout",
     "output_type": "stream",
     "text": [
      "CRL-DHR 백테스트 완료\n",
      "success start, CRL - DHR\n"
     ]
    },
    {
     "name": "stderr",
     "output_type": "stream",
     "text": [
      "C:\\Users\\eujin\\AppData\\Local\\Packages\\PythonSoftwareFoundation.Python.3.12_qbz5n2kfra8p0\\LocalCache\\local-packages\\Python312\\site-packages\\backtrader\\plot\\plot.py:821: UserWarning: FigureCanvasAgg is non-interactive, and thus cannot be shown\n",
      "  self.mpyplot.show()\n"
     ]
    },
    {
     "name": "stdout",
     "output_type": "stream",
     "text": [
      "CNC-ELV 백테스트 완료\n",
      "success start, CNC - ELV\n"
     ]
    },
    {
     "name": "stderr",
     "output_type": "stream",
     "text": [
      "C:\\Users\\eujin\\AppData\\Local\\Packages\\PythonSoftwareFoundation.Python.3.12_qbz5n2kfra8p0\\LocalCache\\local-packages\\Python312\\site-packages\\backtrader\\plot\\plot.py:821: UserWarning: FigureCanvasAgg is non-interactive, and thus cannot be shown\n",
      "  self.mpyplot.show()\n"
     ]
    },
    {
     "name": "stdout",
     "output_type": "stream",
     "text": [
      "PARA-DIS 백테스트 완료\n",
      "success start, PARA - DIS\n"
     ]
    },
    {
     "name": "stderr",
     "output_type": "stream",
     "text": [
      "C:\\Users\\eujin\\AppData\\Local\\Packages\\PythonSoftwareFoundation.Python.3.12_qbz5n2kfra8p0\\LocalCache\\local-packages\\Python312\\site-packages\\backtrader\\plot\\plot.py:821: UserWarning: FigureCanvasAgg is non-interactive, and thus cannot be shown\n",
      "  self.mpyplot.show()\n"
     ]
    },
    {
     "name": "stdout",
     "output_type": "stream",
     "text": [
      "CNP-NI 백테스트 완료\n",
      "success start, CNP - NI\n"
     ]
    },
    {
     "name": "stderr",
     "output_type": "stream",
     "text": [
      "C:\\Users\\eujin\\AppData\\Local\\Packages\\PythonSoftwareFoundation.Python.3.12_qbz5n2kfra8p0\\LocalCache\\local-packages\\Python312\\site-packages\\backtrader\\plot\\plot.py:821: UserWarning: FigureCanvasAgg is non-interactive, and thus cannot be shown\n",
      "  self.mpyplot.show()\n"
     ]
    },
    {
     "name": "stdout",
     "output_type": "stream",
     "text": [
      "AIZ-L 백테스트 완료\n",
      "success start, AIZ - L\n"
     ]
    },
    {
     "name": "stderr",
     "output_type": "stream",
     "text": [
      "C:\\Users\\eujin\\AppData\\Local\\Packages\\PythonSoftwareFoundation.Python.3.12_qbz5n2kfra8p0\\LocalCache\\local-packages\\Python312\\site-packages\\backtrader\\plot\\plot.py:821: UserWarning: FigureCanvasAgg is non-interactive, and thus cannot be shown\n",
      "  self.mpyplot.show()\n"
     ]
    },
    {
     "name": "stdout",
     "output_type": "stream",
     "text": [
      "HAL-SLB 백테스트 완료\n",
      "success start, HAL - SLB\n"
     ]
    },
    {
     "name": "stderr",
     "output_type": "stream",
     "text": [
      "C:\\Users\\eujin\\AppData\\Local\\Packages\\PythonSoftwareFoundation.Python.3.12_qbz5n2kfra8p0\\LocalCache\\local-packages\\Python312\\site-packages\\backtrader\\plot\\plot.py:821: UserWarning: FigureCanvasAgg is non-interactive, and thus cannot be shown\n",
      "  self.mpyplot.show()\n"
     ]
    },
    {
     "name": "stdout",
     "output_type": "stream",
     "text": [
      "EOG-MRO 백테스트 완료\n",
      "success start, EOG - MRO\n"
     ]
    },
    {
     "name": "stderr",
     "output_type": "stream",
     "text": [
      "C:\\Users\\eujin\\AppData\\Local\\Packages\\PythonSoftwareFoundation.Python.3.12_qbz5n2kfra8p0\\LocalCache\\local-packages\\Python312\\site-packages\\backtrader\\plot\\plot.py:821: UserWarning: FigureCanvasAgg is non-interactive, and thus cannot be shown\n",
      "  self.mpyplot.show()\n"
     ]
    },
    {
     "name": "stdout",
     "output_type": "stream",
     "text": [
      "TRGP-WMB 백테스트 완료\n",
      "success start, TRGP - WMB\n"
     ]
    },
    {
     "name": "stderr",
     "output_type": "stream",
     "text": [
      "C:\\Users\\eujin\\AppData\\Local\\Packages\\PythonSoftwareFoundation.Python.3.12_qbz5n2kfra8p0\\LocalCache\\local-packages\\Python312\\site-packages\\backtrader\\plot\\plot.py:821: UserWarning: FigureCanvasAgg is non-interactive, and thus cannot be shown\n",
      "  self.mpyplot.show()\n"
     ]
    },
    {
     "name": "stdout",
     "output_type": "stream",
     "text": [
      "TSCO-ULTA 백테스트 완료\n",
      "success start, TSCO - ULTA\n"
     ]
    },
    {
     "name": "stderr",
     "output_type": "stream",
     "text": [
      "C:\\Users\\eujin\\AppData\\Local\\Packages\\PythonSoftwareFoundation.Python.3.12_qbz5n2kfra8p0\\LocalCache\\local-packages\\Python312\\site-packages\\backtrader\\plot\\plot.py:821: UserWarning: FigureCanvasAgg is non-interactive, and thus cannot be shown\n",
      "  self.mpyplot.show()\n"
     ]
    },
    {
     "name": "stdout",
     "output_type": "stream",
     "text": [
      "K-SJM 백테스트 완료\n",
      "success start, K - SJM\n"
     ]
    },
    {
     "name": "stderr",
     "output_type": "stream",
     "text": [
      "C:\\Users\\eujin\\AppData\\Local\\Packages\\PythonSoftwareFoundation.Python.3.12_qbz5n2kfra8p0\\LocalCache\\local-packages\\Python312\\site-packages\\backtrader\\plot\\plot.py:821: UserWarning: FigureCanvasAgg is non-interactive, and thus cannot be shown\n",
      "  self.mpyplot.show()\n"
     ]
    },
    {
     "name": "stdout",
     "output_type": "stream",
     "text": [
      "LUV-UAL 백테스트 완료\n",
      "success start, LUV - UAL\n"
     ]
    },
    {
     "name": "stderr",
     "output_type": "stream",
     "text": [
      "C:\\Users\\eujin\\AppData\\Local\\Packages\\PythonSoftwareFoundation.Python.3.12_qbz5n2kfra8p0\\LocalCache\\local-packages\\Python312\\site-packages\\backtrader\\plot\\plot.py:821: UserWarning: FigureCanvasAgg is non-interactive, and thus cannot be shown\n",
      "  self.mpyplot.show()\n"
     ]
    },
    {
     "name": "stdout",
     "output_type": "stream",
     "text": [
      "EL-KVUE 백테스트 완료\n",
      "success start, EL - KVUE\n"
     ]
    },
    {
     "name": "stderr",
     "output_type": "stream",
     "text": [
      "C:\\Users\\eujin\\AppData\\Local\\Packages\\PythonSoftwareFoundation.Python.3.12_qbz5n2kfra8p0\\LocalCache\\local-packages\\Python312\\site-packages\\backtrader\\plot\\plot.py:821: UserWarning: FigureCanvasAgg is non-interactive, and thus cannot be shown\n",
      "  self.mpyplot.show()\n"
     ]
    },
    {
     "name": "stdout",
     "output_type": "stream",
     "text": [
      "BMY-PFE 백테스트 완료\n",
      "success start, BMY - PFE\n"
     ]
    },
    {
     "name": "stderr",
     "output_type": "stream",
     "text": [
      "C:\\Users\\eujin\\AppData\\Local\\Packages\\PythonSoftwareFoundation.Python.3.12_qbz5n2kfra8p0\\LocalCache\\local-packages\\Python312\\site-packages\\backtrader\\plot\\plot.py:821: UserWarning: FigureCanvasAgg is non-interactive, and thus cannot be shown\n",
      "  self.mpyplot.show()\n"
     ]
    },
    {
     "name": "stdout",
     "output_type": "stream",
     "text": [
      "ACGL-CINF 백테스트 완료\n",
      "success start, ACGL - CINF\n"
     ]
    },
    {
     "name": "stderr",
     "output_type": "stream",
     "text": [
      "C:\\Users\\eujin\\AppData\\Local\\Packages\\PythonSoftwareFoundation.Python.3.12_qbz5n2kfra8p0\\LocalCache\\local-packages\\Python312\\site-packages\\backtrader\\plot\\plot.py:821: UserWarning: FigureCanvasAgg is non-interactive, and thus cannot be shown\n",
      "  self.mpyplot.show()\n"
     ]
    },
    {
     "name": "stdout",
     "output_type": "stream",
     "text": [
      "CFG-HBAN 백테스트 완료\n",
      "success start, CFG - HBAN\n"
     ]
    },
    {
     "name": "stderr",
     "output_type": "stream",
     "text": [
      "C:\\Users\\eujin\\AppData\\Local\\Packages\\PythonSoftwareFoundation.Python.3.12_qbz5n2kfra8p0\\LocalCache\\local-packages\\Python312\\site-packages\\backtrader\\plot\\plot.py:821: UserWarning: FigureCanvasAgg is non-interactive, and thus cannot be shown\n",
      "  self.mpyplot.show()\n"
     ]
    },
    {
     "name": "stdout",
     "output_type": "stream",
     "text": [
      "DPZ-SBUX 백테스트 완료\n",
      "success start, DPZ - SBUX\n"
     ]
    },
    {
     "name": "stderr",
     "output_type": "stream",
     "text": [
      "C:\\Users\\eujin\\AppData\\Local\\Packages\\PythonSoftwareFoundation.Python.3.12_qbz5n2kfra8p0\\LocalCache\\local-packages\\Python312\\site-packages\\backtrader\\plot\\plot.py:821: UserWarning: FigureCanvasAgg is non-interactive, and thus cannot be shown\n",
      "  self.mpyplot.show()\n"
     ]
    },
    {
     "name": "stdout",
     "output_type": "stream",
     "text": [
      "EXR-PSA 백테스트 완료\n",
      "success start, EXR - PSA\n"
     ]
    },
    {
     "name": "stderr",
     "output_type": "stream",
     "text": [
      "C:\\Users\\eujin\\AppData\\Local\\Packages\\PythonSoftwareFoundation.Python.3.12_qbz5n2kfra8p0\\LocalCache\\local-packages\\Python312\\site-packages\\backtrader\\plot\\plot.py:821: UserWarning: FigureCanvasAgg is non-interactive, and thus cannot be shown\n",
      "  self.mpyplot.show()\n"
     ]
    },
    {
     "name": "stdout",
     "output_type": "stream",
     "text": [
      "AMAT-LRCX 백테스트 완료\n",
      "success start, AMAT - LRCX\n"
     ]
    },
    {
     "name": "stderr",
     "output_type": "stream",
     "text": [
      "C:\\Users\\eujin\\AppData\\Local\\Packages\\PythonSoftwareFoundation.Python.3.12_qbz5n2kfra8p0\\LocalCache\\local-packages\\Python312\\site-packages\\backtrader\\plot\\plot.py:821: UserWarning: FigureCanvasAgg is non-interactive, and thus cannot be shown\n",
      "  self.mpyplot.show()\n"
     ]
    },
    {
     "name": "stdout",
     "output_type": "stream",
     "text": [
      "INTC-MU 백테스트 완료\n",
      "success start, INTC - MU\n"
     ]
    },
    {
     "name": "stderr",
     "output_type": "stream",
     "text": [
      "C:\\Users\\eujin\\AppData\\Local\\Packages\\PythonSoftwareFoundation.Python.3.12_qbz5n2kfra8p0\\LocalCache\\local-packages\\Python312\\site-packages\\backtrader\\plot\\plot.py:821: UserWarning: FigureCanvasAgg is non-interactive, and thus cannot be shown\n",
      "  self.mpyplot.show()\n"
     ]
    },
    {
     "name": "stdout",
     "output_type": "stream",
     "text": [
      "DD-LYB 백테스트 완료\n",
      "success start, DD - LYB\n"
     ]
    },
    {
     "name": "stderr",
     "output_type": "stream",
     "text": [
      "C:\\Users\\eujin\\AppData\\Local\\Packages\\PythonSoftwareFoundation.Python.3.12_qbz5n2kfra8p0\\LocalCache\\local-packages\\Python312\\site-packages\\backtrader\\plot\\plot.py:821: UserWarning: FigureCanvasAgg is non-interactive, and thus cannot be shown\n",
      "  self.mpyplot.show()\n"
     ]
    },
    {
     "name": "stdout",
     "output_type": "stream",
     "text": [
      "MO-PM 백테스트 완료\n",
      "success start, MO - PM\n"
     ]
    }
   ],
   "source": [
    "from backtrader.plot import PlotScheme\n",
    "\n",
    "# 사용자 정의 스타일 설정\n",
    "class NoPopupPlotScheme(PlotScheme):\n",
    "    def dofig(self, *args, **kwargs):\n",
    "        kwargs['show'] = False  # 팝업 비활성화\n",
    "        return super().dofig(*args, **kwargs)\n",
    "\n",
    "# 폰트 및 그래프 설정\n",
    "matplotlib.use('Agg')  # 백엔드 설정 (그래프 저장만 수행)\n",
    "plt.rcParams[\"figure.figsize\"] = [12, 8]  # 그래프 크기 조정\n",
    "plt.rcParams[\"font.size\"] = 10  # 폰트 크기\n",
    "plt.rcParams[\"lines.linewidth\"] = 1.5  # 선 두께\n",
    "plt.rcParams[\"axes.unicode_minus\"] = False  # 마이너스 기호 지원\n",
    "\n",
    "\n",
    "\n",
    "class PairTradingStrategy(bt.Strategy):\n",
    "    params = (\n",
    "        ('lookback_period', 30),  # 이동 평균 및 표준편차 계산 기간\n",
    "        ('zscore_threshold', 2),  # 매매 임계값 (z-score 기준)\n",
    "    )\n",
    "\n",
    "    def __init__(self):\n",
    "        # 데이터 피드 설정 (두 종목만 사용)\n",
    "        self.data0 = self.datas[0]\n",
    "        self.data1 = self.datas[1]\n",
    "        \n",
    "        # 스프레드 계산\n",
    "        self.spread = self.data0.close - self.data1.close\n",
    "\n",
    "        # 이동 평균 및 표준편차 계산\n",
    "        self.moving_avg = bt.indicators.SimpleMovingAverage(self.spread, period=self.params.lookback_period)\n",
    "        self.moving_std = bt.indicators.StandardDeviation(self.spread, period=self.params.lookback_period)\n",
    "\n",
    "        # 볼린저 밴드 계산\n",
    "        self.upper_band = self.moving_avg + self.params.zscore_threshold * self.moving_std\n",
    "        self.lower_band = self.moving_avg - self.params.zscore_threshold * self.moving_std\n",
    "\n",
    "        self.trades = []\n",
    "\n",
    "        self.open_positions = 0  # 열린 포지션 수\n",
    "        self.total_closed_positions = 0  # 청산된 포지션 수\n",
    "\n",
    "    def next(self):\n",
    "        # 현재 스프레드 값\n",
    "        current_spread = self.spread[0]\n",
    "\n",
    "        # 포지션이 없는 경우\n",
    "        if not self.position:\n",
    "            if current_spread > self.upper_band[0]:\n",
    "                # 상단 밴드를 초과하면 매도-매수\n",
    "                self.sell(data=self.data0, size=10)  # 첫 번째 종목 매도\n",
    "                self.buy(data=self.data1, size=10)  # 두 번째 종목 매수\n",
    "                self.trades.append({'Action': 'Sell-Buy', 'Date': self.data0.datetime.date(0)})\n",
    "                self.open_positions += 1\n",
    "            elif current_spread < self.lower_band[0]:\n",
    "                # 하단 밴드를 초과하면 매수-매도\n",
    "                self.buy(data=self.data0, size=10)  # 첫 번째 종목 매수\n",
    "                self.sell(data=self.data1, size=10)  # 두 번째 종목 매도\n",
    "                self.trades.append({'Action': 'Buy-Sell', 'Date': self.data0.datetime.date(0)})\n",
    "                self.open_positions += 1\n",
    "\n",
    "        # 포지션이 있는 경우\n",
    "        else:\n",
    "            if self.upper_band[0] > current_spread > self.lower_band[0]:\n",
    "                # 스프레드가 이동 평균으로 돌아오면 포지션 청산\n",
    "                self.close(data=self.data0)\n",
    "                self.close(data=self.data1)\n",
    "                self.open_positions -= 1\n",
    "                self.total_closed_positions += 1\n",
    "                self.trades.append({'Action': 'Close', 'Date': self.data0.datetime.date(0)})\n",
    "\n",
    "\n",
    "# Backtrader 설정 in data.to_csv(f\"./backtest_csv/{ticker}_backtest.csv\")\n",
    "\n",
    "def run_backtest(pair) -> bool:\n",
    "    ticker1, ticker2 = pair[\"Ticker 1\"], pair[\"Ticker 2\"]\n",
    "\n",
    "    # 데이터 유효성 검사\n",
    "    if not (validate_data(f\"./backtest_csv/{ticker1}_backtest.csv\", \"2024-01-01\", \"2024-06-30\") and validate_data(f\"./backtest_csv/{ticker2}_backtest.csv\", \"2024-01-01\", \"2024-06-30\")):\n",
    "        print(f\"Skipping {ticker1}-{ticker2} due to invalid data.\")\n",
    "        return False\n",
    "\n",
    "    #각 페어에 대해 서로 다른 파일에서 데이터 로드하도록 수정\n",
    "    data0 = bt.feeds.GenericCSVData(dataname=f\"./backtest_csv/{ticker1}_backtest.csv\", dtformat=\"%Y-%m-%d\", openinterest=-1, name=ticker1)\n",
    "    data1 = bt.feeds.GenericCSVData(dataname=f\"./backtest_csv/{ticker2}_backtest.csv\", dtformat=\"%Y-%m-%d\", openinterest=-1, name=ticker2)\n",
    "\n",
    "    cerebro = bt.Cerebro()\n",
    "    cerebro.adddata(data0)\n",
    "    cerebro.adddata(data1)\n",
    "    cerebro.addstrategy(PairTradingStrategy)\n",
    "    cerebro.addobserver(bt.observers.BuySell) # 매수/매도 표시\n",
    "    cerebro.addobserver(bt.observers.Value)  # 포트폴리오 가치\n",
    "    cerebro.addanalyzer(bt.analyzers.TradeAnalyzer, _name=\"trade_analyzer\") #거래내역 정리\n",
    "\n",
    "    strategy = cerebro.run()\n",
    "    strategy_instance = strategy[0]\n",
    "\n",
    "    # 거래 내역 가져오기\n",
    "    trade_analyzer = strategy_instance.analyzers.trade_analyzer\n",
    "\n",
    "    trade_data = {\n",
    "        \"Total Trades\": trade_analyzer.rets.total.closed,\n",
    "        \"Win Ratio\": trade_analyzer.rets.won.total / trade_analyzer.rets.total.closed if trade_analyzer.rets.total.closed > 0 else 0,\n",
    "        'Net Profit': trade_analyzer.rets.pnl.net.total,\n",
    "        'Net Profit Margin': trade_analyzer.rets.pnl.net.average,\n",
    "        'MDD': trade_analyzer.rets.lost.pnl.max\n",
    "    }\n",
    "\n",
    "    # 거래내역저장\n",
    "    trades_df = pd.DataFrame([trade_data])\n",
    "    trades_df.to_csv(f\"./trades_csv/{ticker1}-{ticker2}_trades.csv\", index=False)\n",
    "\n",
    "    fig = cerebro.plot(iplot=False, style='candle', scheme=NoPopupPlotScheme())[0][0]\n",
    "\n",
    "    fig.savefig(f\"./result/{ticker1}-{ticker2}_result.png\", dpi=150, bbox_inches='tight')\n",
    "    plt.close(fig)\n",
    "    print(f\"{ticker1}-{ticker2} 백테스트 완료\")\n",
    "    return True\n",
    "\n",
    "# 병렬 처리로 모든 페어에 대해 백테스트 실행\n",
    "if __name__ == \"__main__\":\n",
    "    pairs = stable_pairs_df.to_dict('records')\n",
    "\n",
    "    for p in pairs:\n",
    "        \n",
    "        if run_backtest(p):\n",
    "            print(f\"success start, {p['Ticker 1']} - {p['Ticker 2']}\")\n",
    "            \n",
    "# TODO 페어별 매수,매도, 수익률 테이블출력 및 csv파일로 저장  \n"
   ]
  },
  {
   "cell_type": "markdown",
   "metadata": {},
   "source": [
    "## SnP500종합주가지수"
   ]
  },
  {
   "cell_type": "code",
   "execution_count": 69,
   "metadata": {},
   "outputs": [
    {
     "name": "stderr",
     "output_type": "stream",
     "text": [
      "[*********************100%***********************]  1 of 1 completed"
     ]
    },
    {
     "name": "stdout",
     "output_type": "stream",
     "text": [
      "S&P 500 데이터 저장 완료\n",
      "종합주가지수(S&P 500) 수익률: 15.13%\n"
     ]
    },
    {
     "name": "stderr",
     "output_type": "stream",
     "text": [
      "\n"
     ]
    }
   ],
   "source": [
    "\n",
    "# S&P 500 주가 데이터 다운로드\n",
    "def download_sp500_data():\n",
    "    file_path = \"./csv/sp500_data.csv\"\n",
    "     # 파일이 존재하면 다운로드를 생략하고, 존재하지 않으면 다운로드\n",
    "    if os.path.exists(file_path):\n",
    "        print(\"S&P 500 데이터가 이미 존재합니다. 다운로드를 생략합니다.\")\n",
    "    else:\n",
    "        # 디렉토리 생성 (필요한 경우)\n",
    "\n",
    "        sp500 = yf.download(\"^GSPC\", start=\"2024-01-01\", end=\"2024-06-30\")\n",
    "        sp500.reset_index(inplace=True)\n",
    "        sp500 = sp500[[\"Date\", \"Close\"]]\n",
    "        sp500.to_csv(\"./csv/sp500_data.csv\", index=False)\n",
    "        print(\"S&P 500 데이터 저장 완료\")\n",
    "\n",
    "# 실행\n",
    "download_sp500_data()\n",
    "\n",
    "index_csv_path = \"./csv/sp500_data.csv\"\n",
    "\n",
    "# 종합주가지수 데이터 불러오기\n",
    "def get_index_return(index_csv_path, start_date, end_date):\n",
    "    index_data = pd.read_csv(index_csv_path, parse_dates=[\"Date\"])\n",
    "    index_data = index_data[(index_data[\"Date\"] >= start_date) & (index_data[\"Date\"] <= end_date)]\n",
    "    index_data[\"Return\"] = (index_data[\"Close\"] / index_data[\"Close\"].iloc[0] - 1) * 100\n",
    "    return index_data[\"Return\"].iloc[-1]  # 기간 수익률 반환\n",
    "\n",
    "\n",
    "# S&P 500의 수익률 가져오기\n",
    "index_return = get_index_return(index_csv_path, \"2024-01-01\", \"2024-06-30\")\n",
    "print(f\"종합주가지수(S&P 500) 수익률: {index_return:.2f}%\")"
   ]
  },
  {
   "cell_type": "markdown",
   "metadata": {},
   "source": [
    "## 백테스트 결과 요약 및 분석"
   ]
  },
  {
   "cell_type": "code",
   "execution_count": 71,
   "metadata": {},
   "outputs": [],
   "source": [
    "# 거래 비용 설정\n",
    "TRADING_COST = 0.001  # 거래 수수료 0.1%\n",
    "TRADING_TAX = 0.003  # 매도 시 증권거래세 0.3%\n",
    "\n",
    "def save_trade_summary_with_analysis(index_csv_path):\n",
    "    trade_results = []\n",
    "    index_return = get_index_return(index_csv_path, \"2024-01-01\", \"2024-06-30\")\n",
    "    \n",
    "    trade_files = [f for f in os.listdir(\"./trades_csv/\") if f.endswith(\"_trades.csv\")]\n",
    "\n",
    "    for file in trade_files:\n",
    "        pair_name = file.replace(\"_trades.csv\", \"\")\n",
    "        trade_data = pd.read_csv(f\"./trades_csv/{file}\")\n",
    "        trade_data[\"Pair\"] = pair_name\n",
    "\n",
    "        # 진입 금액 계산\n",
    "        initial_investment = 100000  # 예시 초기 투자 금액\n",
    "\n",
    "        # 수익 계산 (거래 비용 포함)\n",
    "        trade_data[\"Net Profit After Costs\"] = trade_data[\"Net Profit\"] - (\n",
    "            (trade_data[\"Net Profit\"] * TRADING_COST) + (trade_data[\"Net Profit\"] * TRADING_TAX)\n",
    "        )\n",
    "        trade_data[\"Entry Amount\"] = initial_investment\n",
    "        \n",
    "        # 누적 수익률 및 기타 계산\n",
    "        trade_data[\"Cumulative Return\"] = (trade_data[\"Net Profit\"] / initial_investment) * 100\n",
    "        max_return = trade_data[\"Cumulative Return\"].max()\n",
    "        min_return = trade_data[\"Cumulative Return\"].min()\n",
    "\n",
    "        # 거래 비용 포함된 초과 수익률 계산\n",
    "        cumulative_return = trade_data[\"Cumulative Return\"].sum()\n",
    "        excess_return = cumulative_return - index_return\n",
    "\n",
    "        trade_results.append({\n",
    "            \"Pair\": pair_name,\n",
    "            \"Total Trades\": trade_data[\"Total Trades\"].sum(),\n",
    "            \"Win Ratio\": trade_data[\"Win Ratio\"].mean(),\n",
    "            \"Cumulative Return\": trade_data[\"Cumulative Return\"].sum(),\n",
    "            \"Excess Return\": excess_return,\n",
    "            \"Max Return\": max_return,\n",
    "            \"Min Return\": min_return,\n",
    "            \"Market Return\": index_return,\n",
    "        })\n",
    "\n",
    "    all_trades_df = pd.DataFrame(trade_results)\n",
    "    all_trades_df.to_csv(\"./trades_csv/summary_with_analysis.csv\", index=False)\n",
    "    print(all_trades_df)\n"
   ]
  },
  {
   "cell_type": "markdown",
   "metadata": {},
   "source": [
    "## 예시문제-유튜브"
   ]
  },
  {
   "cell_type": "code",
   "execution_count": 59,
   "metadata": {},
   "outputs": [
    {
     "name": "stdout",
     "output_type": "stream",
     "text": [
      "Defaulting to user installation because normal site-packages is not writeable\n",
      "Requirement already satisfied: backtesting in c:\\users\\eujin\\appdata\\local\\packages\\pythonsoftwarefoundation.python.3.12_qbz5n2kfra8p0\\localcache\\local-packages\\python312\\site-packages (0.3.3)\n",
      "Requirement already satisfied: numpy>=1.17.0 in c:\\users\\eujin\\appdata\\local\\packages\\pythonsoftwarefoundation.python.3.12_qbz5n2kfra8p0\\localcache\\local-packages\\python312\\site-packages (from backtesting) (1.26.4)\n",
      "Requirement already satisfied: pandas!=0.25.0,>=0.25.0 in c:\\users\\eujin\\appdata\\local\\packages\\pythonsoftwarefoundation.python.3.12_qbz5n2kfra8p0\\localcache\\local-packages\\python312\\site-packages (from backtesting) (2.2.1)\n",
      "Requirement already satisfied: bokeh>=1.4.0 in c:\\users\\eujin\\appdata\\local\\packages\\pythonsoftwarefoundation.python.3.12_qbz5n2kfra8p0\\localcache\\local-packages\\python312\\site-packages (from backtesting) (3.6.1)\n",
      "Requirement already satisfied: Jinja2>=2.9 in c:\\users\\eujin\\appdata\\local\\packages\\pythonsoftwarefoundation.python.3.12_qbz5n2kfra8p0\\localcache\\local-packages\\python312\\site-packages (from bokeh>=1.4.0->backtesting) (3.1.4)\n",
      "Requirement already satisfied: contourpy>=1.2 in c:\\users\\eujin\\appdata\\local\\packages\\pythonsoftwarefoundation.python.3.12_qbz5n2kfra8p0\\localcache\\local-packages\\python312\\site-packages (from bokeh>=1.4.0->backtesting) (1.2.0)\n",
      "Requirement already satisfied: packaging>=16.8 in c:\\users\\eujin\\appdata\\local\\packages\\pythonsoftwarefoundation.python.3.12_qbz5n2kfra8p0\\localcache\\local-packages\\python312\\site-packages (from bokeh>=1.4.0->backtesting) (24.0)\n",
      "Requirement already satisfied: pillow>=7.1.0 in c:\\users\\eujin\\appdata\\local\\packages\\pythonsoftwarefoundation.python.3.12_qbz5n2kfra8p0\\localcache\\local-packages\\python312\\site-packages (from bokeh>=1.4.0->backtesting) (10.2.0)\n",
      "Requirement already satisfied: PyYAML>=3.10 in c:\\users\\eujin\\appdata\\local\\packages\\pythonsoftwarefoundation.python.3.12_qbz5n2kfra8p0\\localcache\\local-packages\\python312\\site-packages (from bokeh>=1.4.0->backtesting) (6.0.2)\n",
      "Requirement already satisfied: tornado>=6.2 in c:\\users\\eujin\\appdata\\local\\packages\\pythonsoftwarefoundation.python.3.12_qbz5n2kfra8p0\\localcache\\local-packages\\python312\\site-packages (from bokeh>=1.4.0->backtesting) (6.4)\n",
      "Requirement already satisfied: xyzservices>=2021.09.1 in c:\\users\\eujin\\appdata\\local\\packages\\pythonsoftwarefoundation.python.3.12_qbz5n2kfra8p0\\localcache\\local-packages\\python312\\site-packages (from bokeh>=1.4.0->backtesting) (2024.9.0)\n",
      "Requirement already satisfied: python-dateutil>=2.8.2 in c:\\users\\eujin\\appdata\\local\\packages\\pythonsoftwarefoundation.python.3.12_qbz5n2kfra8p0\\localcache\\local-packages\\python312\\site-packages (from pandas!=0.25.0,>=0.25.0->backtesting) (2.9.0.post0)\n",
      "Requirement already satisfied: pytz>=2020.1 in c:\\users\\eujin\\appdata\\local\\packages\\pythonsoftwarefoundation.python.3.12_qbz5n2kfra8p0\\localcache\\local-packages\\python312\\site-packages (from pandas!=0.25.0,>=0.25.0->backtesting) (2024.1)\n",
      "Requirement already satisfied: tzdata>=2022.7 in c:\\users\\eujin\\appdata\\local\\packages\\pythonsoftwarefoundation.python.3.12_qbz5n2kfra8p0\\localcache\\local-packages\\python312\\site-packages (from pandas!=0.25.0,>=0.25.0->backtesting) (2024.1)\n",
      "Requirement already satisfied: MarkupSafe>=2.0 in c:\\users\\eujin\\appdata\\local\\packages\\pythonsoftwarefoundation.python.3.12_qbz5n2kfra8p0\\localcache\\local-packages\\python312\\site-packages (from Jinja2>=2.9->bokeh>=1.4.0->backtesting) (3.0.2)\n",
      "Requirement already satisfied: six>=1.5 in c:\\users\\eujin\\appdata\\local\\packages\\pythonsoftwarefoundation.python.3.12_qbz5n2kfra8p0\\localcache\\local-packages\\python312\\site-packages (from python-dateutil>=2.8.2->pandas!=0.25.0,>=0.25.0->backtesting) (1.16.0)\n",
      "Defaulting to user installation because normal site-packages is not writeable\n"
     ]
    },
    {
     "name": "stderr",
     "output_type": "stream",
     "text": [
      "ERROR: Invalid requirement: '#기술지표': Expected package name at the start of dependency specifier\n",
      "    #기술지표\n",
      "    ^\n"
     ]
    },
    {
     "name": "stdout",
     "output_type": "stream",
     "text": [
      "Defaulting to user installation because normal site-packages is not writeable\n"
     ]
    },
    {
     "name": "stderr",
     "output_type": "stream",
     "text": [
      "ERROR: Invalid requirement: '#금융상품': Expected package name at the start of dependency specifier\n",
      "    #금융상품\n",
      "    ^\n"
     ]
    },
    {
     "ename": "ModuleNotFoundError",
     "evalue": "No module named 'ta'",
     "output_type": "error",
     "traceback": [
      "\u001b[1;31m---------------------------------------------------------------------------\u001b[0m",
      "\u001b[1;31mModuleNotFoundError\u001b[0m                       Traceback (most recent call last)",
      "Cell \u001b[1;32mIn[59], line 5\u001b[0m\n\u001b[0;32m      2\u001b[0m get_ipython()\u001b[38;5;241m.\u001b[39msystem(\u001b[38;5;124m'\u001b[39m\u001b[38;5;124mpip install ta #기술지표 계산 처리하는 라이브러리\u001b[39m\u001b[38;5;124m'\u001b[39m)\n\u001b[0;32m      3\u001b[0m get_ipython()\u001b[38;5;241m.\u001b[39msystem(\u001b[38;5;124m'\u001b[39m\u001b[38;5;124mpip install yfinance #금융상품 가격 데이터 가져오는 라이브러리\u001b[39m\u001b[38;5;124m'\u001b[39m)\n\u001b[1;32m----> 5\u001b[0m \u001b[38;5;28;01mimport\u001b[39;00m \u001b[38;5;21;01mta\u001b[39;00m\n\u001b[0;32m      6\u001b[0m \u001b[38;5;28;01mfrom\u001b[39;00m \u001b[38;5;21;01mbacktesting\u001b[39;00m \u001b[38;5;28;01mimport\u001b[39;00m Backtest, Strategy\n\u001b[0;32m      7\u001b[0m \u001b[38;5;28;01mfrom\u001b[39;00m \u001b[38;5;21;01mbacktesting\u001b[39;00m\u001b[38;5;21;01m.\u001b[39;00m\u001b[38;5;21;01mlib\u001b[39;00m \u001b[38;5;28;01mimport\u001b[39;00m crossover\n",
      "\u001b[1;31mModuleNotFoundError\u001b[0m: No module named 'ta'"
     ]
    }
   ],
   "source": [
    "!pip install backtesting\n",
    "!pip install ta #기술지표 계산 처리하는 라이브러리\n",
    "!pip install yfinance #금융상품 가격 데이터 가져오는 라이브러리\n",
    "\n",
    "import ta\n",
    "from backtesting import Backtest, Strategy\n",
    "from backtesting.lib import crossover\n",
    "\n",
    "#전략 정의하는 클래스\n",
    "class SMAcross(Strategy):\n",
    "\n",
    "    n1=50#단기기간\n",
    "    n2=100#장기기간\n",
    "\n",
    "    def init(self):\n",
    "        close =  self.data.Close\n",
    "        self.sma1 = self.I(ta.trend.sma_indicator, pd.Series(close), self.n1)\n",
    "        self.sma2 = self.I(ta.trend.sma_indicator, pd.Series(close), self.n2)\n",
    "\n",
    "    def next(self):\n",
    "        if crossover(self.sma1, self.sma2):\n",
    "            self.but()\n",
    "        elif crossover(self.sma2,self.sma1):\n",
    "            self.sell()\n",
    " \n",
    "df = yf.download('BTC-USD',start='2018-01-01')\n",
    "\n",
    "bt = Backtest(df, SMAcross, cash=100000, commission=0.002, exclusive_orders=True)\n",
    "\n",
    "#최적화\n",
    "optim = bt.optimize(n1 = range(50,160,10),\n",
    "                    n2 = range(50,160,10),\n",
    "                    constraint = lambda x: x.n2-x.n1 > 20,\n",
    "                    maximize = 'Return [%]')\n",
    "\n",
    "bt.plot()\n",
    "\n",
    "\n",
    "\n",
    "\n",
    "\n",
    "\n",
    "\n"
   ]
  }
 ],
 "metadata": {
  "colab": {
   "provenance": []
  },
  "kernelspec": {
   "display_name": "Python 3",
   "name": "python3"
  },
  "language_info": {
   "codemirror_mode": {
    "name": "ipython",
    "version": 3
   },
   "file_extension": ".py",
   "mimetype": "text/x-python",
   "name": "python",
   "nbconvert_exporter": "python",
   "pygments_lexer": "ipython3",
   "version": "3.12.8"
  }
 },
 "nbformat": 4,
 "nbformat_minor": 0
}
